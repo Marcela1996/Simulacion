{
 "cells": [
  {
   "cell_type": "markdown",
   "metadata": {},
   "source": [
    "# Covid-19 infección en Ecuador. Modelos probabilisticos\n",
    "Implementacion de un modelo probabilistico de infección por el virus Covid-19\n",
    "\n",
    "Se realiza un análisis probabilistico simple del crecimiento de la infección en Python y el modelos para comprender mejor la evolución de la infección.\n",
    "\n",
    "Se crea modelos de series temporales del número total de personas infectadas hasta la fecha (es decir, las personas realmente infectadas más las personas que han sido infectadas). Estos modelos tienen parámetros , que se estimarán por ajuste de probabilidad."
   ]
  },
  {
   "cell_type": "code",
   "execution_count": 66,
   "metadata": {},
   "outputs": [],
   "source": [
    "# Importar las librerias para el analasis\n",
    "import pandas as pd\n",
    "import numpy as np\n",
    "from datetime import datetime,timedelta\n",
    "from sklearn.metrics import mean_squared_error\n",
    "from scipy.optimize import curve_fit\n",
    "from scipy.optimize import fsolve\n",
    "from sklearn import linear_model\n",
    "import matplotlib.pyplot as plt\n",
    "%matplotlib inline\n",
    "import plotly.graph_objects as go\n",
    "from scipy.optimize import curve_fit\n",
    "from scipy.integrate import solve_ivp\n",
    "from scipy.optimize import minimize\n",
    "from scipy.integrate import odeint\n",
    "from random import randrange \n",
    "import pygame"
   ]
  },
  {
   "cell_type": "code",
   "execution_count": 67,
   "metadata": {},
   "outputs": [
    {
     "data": {
      "text/html": [
       "<div>\n",
       "<style scoped>\n",
       "    .dataframe tbody tr th:only-of-type {\n",
       "        vertical-align: middle;\n",
       "    }\n",
       "\n",
       "    .dataframe tbody tr th {\n",
       "        vertical-align: top;\n",
       "    }\n",
       "\n",
       "    .dataframe thead th {\n",
       "        text-align: right;\n",
       "    }\n",
       "</style>\n",
       "<table border=\"1\" class=\"dataframe\">\n",
       "  <thead>\n",
       "    <tr style=\"text-align: right;\">\n",
       "      <th></th>\n",
       "      <th>date</th>\n",
       "      <th>World</th>\n",
       "      <th>Afghanistan</th>\n",
       "      <th>Albania</th>\n",
       "      <th>Algeria</th>\n",
       "      <th>Andorra</th>\n",
       "      <th>Angola</th>\n",
       "      <th>Anguilla</th>\n",
       "      <th>Antigua and Barbuda</th>\n",
       "      <th>Argentina</th>\n",
       "      <th>...</th>\n",
       "      <th>Uzbekistan</th>\n",
       "      <th>Vanuatu</th>\n",
       "      <th>Vatican</th>\n",
       "      <th>Venezuela</th>\n",
       "      <th>Vietnam</th>\n",
       "      <th>Wallis and Futuna</th>\n",
       "      <th>Western Sahara</th>\n",
       "      <th>Yemen</th>\n",
       "      <th>Zambia</th>\n",
       "      <th>Zimbabwe</th>\n",
       "    </tr>\n",
       "  </thead>\n",
       "  <tbody>\n",
       "    <tr>\n",
       "      <th>0</th>\n",
       "      <td>2019-12-31</td>\n",
       "      <td>27</td>\n",
       "      <td>0.0</td>\n",
       "      <td>NaN</td>\n",
       "      <td>0.0</td>\n",
       "      <td>NaN</td>\n",
       "      <td>NaN</td>\n",
       "      <td>NaN</td>\n",
       "      <td>NaN</td>\n",
       "      <td>NaN</td>\n",
       "      <td>...</td>\n",
       "      <td>NaN</td>\n",
       "      <td>NaN</td>\n",
       "      <td>NaN</td>\n",
       "      <td>NaN</td>\n",
       "      <td>0.0</td>\n",
       "      <td>NaN</td>\n",
       "      <td>NaN</td>\n",
       "      <td>NaN</td>\n",
       "      <td>NaN</td>\n",
       "      <td>NaN</td>\n",
       "    </tr>\n",
       "    <tr>\n",
       "      <th>1</th>\n",
       "      <td>2020-01-01</td>\n",
       "      <td>0</td>\n",
       "      <td>0.0</td>\n",
       "      <td>NaN</td>\n",
       "      <td>0.0</td>\n",
       "      <td>NaN</td>\n",
       "      <td>NaN</td>\n",
       "      <td>NaN</td>\n",
       "      <td>NaN</td>\n",
       "      <td>NaN</td>\n",
       "      <td>...</td>\n",
       "      <td>NaN</td>\n",
       "      <td>NaN</td>\n",
       "      <td>NaN</td>\n",
       "      <td>NaN</td>\n",
       "      <td>0.0</td>\n",
       "      <td>NaN</td>\n",
       "      <td>NaN</td>\n",
       "      <td>NaN</td>\n",
       "      <td>NaN</td>\n",
       "      <td>NaN</td>\n",
       "    </tr>\n",
       "    <tr>\n",
       "      <th>2</th>\n",
       "      <td>2020-01-02</td>\n",
       "      <td>0</td>\n",
       "      <td>0.0</td>\n",
       "      <td>NaN</td>\n",
       "      <td>0.0</td>\n",
       "      <td>NaN</td>\n",
       "      <td>NaN</td>\n",
       "      <td>NaN</td>\n",
       "      <td>NaN</td>\n",
       "      <td>NaN</td>\n",
       "      <td>...</td>\n",
       "      <td>NaN</td>\n",
       "      <td>NaN</td>\n",
       "      <td>NaN</td>\n",
       "      <td>NaN</td>\n",
       "      <td>0.0</td>\n",
       "      <td>NaN</td>\n",
       "      <td>NaN</td>\n",
       "      <td>NaN</td>\n",
       "      <td>NaN</td>\n",
       "      <td>NaN</td>\n",
       "    </tr>\n",
       "    <tr>\n",
       "      <th>3</th>\n",
       "      <td>2020-01-03</td>\n",
       "      <td>17</td>\n",
       "      <td>0.0</td>\n",
       "      <td>NaN</td>\n",
       "      <td>0.0</td>\n",
       "      <td>NaN</td>\n",
       "      <td>NaN</td>\n",
       "      <td>NaN</td>\n",
       "      <td>NaN</td>\n",
       "      <td>NaN</td>\n",
       "      <td>...</td>\n",
       "      <td>NaN</td>\n",
       "      <td>NaN</td>\n",
       "      <td>NaN</td>\n",
       "      <td>NaN</td>\n",
       "      <td>0.0</td>\n",
       "      <td>NaN</td>\n",
       "      <td>NaN</td>\n",
       "      <td>NaN</td>\n",
       "      <td>NaN</td>\n",
       "      <td>NaN</td>\n",
       "    </tr>\n",
       "    <tr>\n",
       "      <th>4</th>\n",
       "      <td>2020-01-04</td>\n",
       "      <td>0</td>\n",
       "      <td>0.0</td>\n",
       "      <td>NaN</td>\n",
       "      <td>0.0</td>\n",
       "      <td>NaN</td>\n",
       "      <td>NaN</td>\n",
       "      <td>NaN</td>\n",
       "      <td>NaN</td>\n",
       "      <td>NaN</td>\n",
       "      <td>...</td>\n",
       "      <td>NaN</td>\n",
       "      <td>NaN</td>\n",
       "      <td>NaN</td>\n",
       "      <td>NaN</td>\n",
       "      <td>0.0</td>\n",
       "      <td>NaN</td>\n",
       "      <td>NaN</td>\n",
       "      <td>NaN</td>\n",
       "      <td>NaN</td>\n",
       "      <td>NaN</td>\n",
       "    </tr>\n",
       "    <tr>\n",
       "      <th>...</th>\n",
       "      <td>...</td>\n",
       "      <td>...</td>\n",
       "      <td>...</td>\n",
       "      <td>...</td>\n",
       "      <td>...</td>\n",
       "      <td>...</td>\n",
       "      <td>...</td>\n",
       "      <td>...</td>\n",
       "      <td>...</td>\n",
       "      <td>...</td>\n",
       "      <td>...</td>\n",
       "      <td>...</td>\n",
       "      <td>...</td>\n",
       "      <td>...</td>\n",
       "      <td>...</td>\n",
       "      <td>...</td>\n",
       "      <td>...</td>\n",
       "      <td>...</td>\n",
       "      <td>...</td>\n",
       "      <td>...</td>\n",
       "      <td>...</td>\n",
       "    </tr>\n",
       "    <tr>\n",
       "      <th>318</th>\n",
       "      <td>2020-11-13</td>\n",
       "      <td>646281</td>\n",
       "      <td>360.0</td>\n",
       "      <td>410.0</td>\n",
       "      <td>851.0</td>\n",
       "      <td>49.0</td>\n",
       "      <td>137.0</td>\n",
       "      <td>0.0</td>\n",
       "      <td>0.0</td>\n",
       "      <td>11162.0</td>\n",
       "      <td>...</td>\n",
       "      <td>220.0</td>\n",
       "      <td>0.0</td>\n",
       "      <td>0.0</td>\n",
       "      <td>695.0</td>\n",
       "      <td>1.0</td>\n",
       "      <td>0.0</td>\n",
       "      <td>0.0</td>\n",
       "      <td>0.0</td>\n",
       "      <td>0.0</td>\n",
       "      <td>29.0</td>\n",
       "    </tr>\n",
       "    <tr>\n",
       "      <th>319</th>\n",
       "      <td>2020-11-14</td>\n",
       "      <td>628760</td>\n",
       "      <td>66.0</td>\n",
       "      <td>490.0</td>\n",
       "      <td>867.0</td>\n",
       "      <td>109.0</td>\n",
       "      <td>104.0</td>\n",
       "      <td>0.0</td>\n",
       "      <td>2.0</td>\n",
       "      <td>11859.0</td>\n",
       "      <td>...</td>\n",
       "      <td>63.0</td>\n",
       "      <td>0.0</td>\n",
       "      <td>0.0</td>\n",
       "      <td>0.0</td>\n",
       "      <td>3.0</td>\n",
       "      <td>0.0</td>\n",
       "      <td>0.0</td>\n",
       "      <td>2.0</td>\n",
       "      <td>57.0</td>\n",
       "      <td>69.0</td>\n",
       "    </tr>\n",
       "    <tr>\n",
       "      <th>320</th>\n",
       "      <td>2020-11-15</td>\n",
       "      <td>590843</td>\n",
       "      <td>205.0</td>\n",
       "      <td>532.0</td>\n",
       "      <td>844.0</td>\n",
       "      <td>0.0</td>\n",
       "      <td>171.0</td>\n",
       "      <td>0.0</td>\n",
       "      <td>1.0</td>\n",
       "      <td>8468.0</td>\n",
       "      <td>...</td>\n",
       "      <td>0.0</td>\n",
       "      <td>0.0</td>\n",
       "      <td>0.0</td>\n",
       "      <td>301.0</td>\n",
       "      <td>9.0</td>\n",
       "      <td>0.0</td>\n",
       "      <td>0.0</td>\n",
       "      <td>0.0</td>\n",
       "      <td>4.0</td>\n",
       "      <td>21.0</td>\n",
       "    </tr>\n",
       "    <tr>\n",
       "      <th>321</th>\n",
       "      <td>2020-11-16</td>\n",
       "      <td>500555</td>\n",
       "      <td>163.0</td>\n",
       "      <td>597.0</td>\n",
       "      <td>860.0</td>\n",
       "      <td>147.0</td>\n",
       "      <td>146.0</td>\n",
       "      <td>0.0</td>\n",
       "      <td>0.0</td>\n",
       "      <td>5645.0</td>\n",
       "      <td>...</td>\n",
       "      <td>563.0</td>\n",
       "      <td>0.0</td>\n",
       "      <td>0.0</td>\n",
       "      <td>911.0</td>\n",
       "      <td>16.0</td>\n",
       "      <td>0.0</td>\n",
       "      <td>0.0</td>\n",
       "      <td>0.0</td>\n",
       "      <td>26.0</td>\n",
       "      <td>0.0</td>\n",
       "    </tr>\n",
       "    <tr>\n",
       "      <th>322</th>\n",
       "      <td>2020-11-17</td>\n",
       "      <td>538024</td>\n",
       "      <td>65.0</td>\n",
       "      <td>602.0</td>\n",
       "      <td>910.0</td>\n",
       "      <td>42.0</td>\n",
       "      <td>77.0</td>\n",
       "      <td>0.0</td>\n",
       "      <td>0.0</td>\n",
       "      <td>7895.0</td>\n",
       "      <td>...</td>\n",
       "      <td>201.0</td>\n",
       "      <td>0.0</td>\n",
       "      <td>0.0</td>\n",
       "      <td>387.0</td>\n",
       "      <td>2.0</td>\n",
       "      <td>0.0</td>\n",
       "      <td>0.0</td>\n",
       "      <td>0.0</td>\n",
       "      <td>64.0</td>\n",
       "      <td>111.0</td>\n",
       "    </tr>\n",
       "  </tbody>\n",
       "</table>\n",
       "<p>323 rows × 216 columns</p>\n",
       "</div>"
      ],
      "text/plain": [
       "           date   World  Afghanistan  Albania  Algeria  Andorra  Angola  \\\n",
       "0    2019-12-31      27          0.0      NaN      0.0      NaN     NaN   \n",
       "1    2020-01-01       0          0.0      NaN      0.0      NaN     NaN   \n",
       "2    2020-01-02       0          0.0      NaN      0.0      NaN     NaN   \n",
       "3    2020-01-03      17          0.0      NaN      0.0      NaN     NaN   \n",
       "4    2020-01-04       0          0.0      NaN      0.0      NaN     NaN   \n",
       "..          ...     ...          ...      ...      ...      ...     ...   \n",
       "318  2020-11-13  646281        360.0    410.0    851.0     49.0   137.0   \n",
       "319  2020-11-14  628760         66.0    490.0    867.0    109.0   104.0   \n",
       "320  2020-11-15  590843        205.0    532.0    844.0      0.0   171.0   \n",
       "321  2020-11-16  500555        163.0    597.0    860.0    147.0   146.0   \n",
       "322  2020-11-17  538024         65.0    602.0    910.0     42.0    77.0   \n",
       "\n",
       "     Anguilla  Antigua and Barbuda  Argentina  ...  Uzbekistan  Vanuatu  \\\n",
       "0         NaN                  NaN        NaN  ...         NaN      NaN   \n",
       "1         NaN                  NaN        NaN  ...         NaN      NaN   \n",
       "2         NaN                  NaN        NaN  ...         NaN      NaN   \n",
       "3         NaN                  NaN        NaN  ...         NaN      NaN   \n",
       "4         NaN                  NaN        NaN  ...         NaN      NaN   \n",
       "..        ...                  ...        ...  ...         ...      ...   \n",
       "318       0.0                  0.0    11162.0  ...       220.0      0.0   \n",
       "319       0.0                  2.0    11859.0  ...        63.0      0.0   \n",
       "320       0.0                  1.0     8468.0  ...         0.0      0.0   \n",
       "321       0.0                  0.0     5645.0  ...       563.0      0.0   \n",
       "322       0.0                  0.0     7895.0  ...       201.0      0.0   \n",
       "\n",
       "     Vatican  Venezuela  Vietnam  Wallis and Futuna  Western Sahara  Yemen  \\\n",
       "0        NaN        NaN      0.0                NaN             NaN    NaN   \n",
       "1        NaN        NaN      0.0                NaN             NaN    NaN   \n",
       "2        NaN        NaN      0.0                NaN             NaN    NaN   \n",
       "3        NaN        NaN      0.0                NaN             NaN    NaN   \n",
       "4        NaN        NaN      0.0                NaN             NaN    NaN   \n",
       "..       ...        ...      ...                ...             ...    ...   \n",
       "318      0.0      695.0      1.0                0.0             0.0    0.0   \n",
       "319      0.0        0.0      3.0                0.0             0.0    2.0   \n",
       "320      0.0      301.0      9.0                0.0             0.0    0.0   \n",
       "321      0.0      911.0     16.0                0.0             0.0    0.0   \n",
       "322      0.0      387.0      2.0                0.0             0.0    0.0   \n",
       "\n",
       "     Zambia  Zimbabwe  \n",
       "0       NaN       NaN  \n",
       "1       NaN       NaN  \n",
       "2       NaN       NaN  \n",
       "3       NaN       NaN  \n",
       "4       NaN       NaN  \n",
       "..      ...       ...  \n",
       "318     0.0      29.0  \n",
       "319    57.0      69.0  \n",
       "320     4.0      21.0  \n",
       "321    26.0       0.0  \n",
       "322    64.0     111.0  \n",
       "\n",
       "[323 rows x 216 columns]"
      ]
     },
     "execution_count": 67,
     "metadata": {},
     "output_type": "execute_result"
    }
   ],
   "source": [
    "# Actualizar los datos (URL)\n",
    "url = 'https://covid.ourworldindata.org/data/ecdc/new_cases.csv'\n",
    "df = pd.read_csv(url)\n",
    "\n",
    "df"
   ]
  },
  {
   "cell_type": "markdown",
   "metadata": {},
   "source": [
    "Imprimos los resultados y agregamos el numero del dia\n"
   ]
  },
  {
   "cell_type": "code",
   "execution_count": 68,
   "metadata": {},
   "outputs": [
    {
     "data": {
      "text/html": [
       "<div>\n",
       "<style scoped>\n",
       "    .dataframe tbody tr th:only-of-type {\n",
       "        vertical-align: middle;\n",
       "    }\n",
       "\n",
       "    .dataframe tbody tr th {\n",
       "        vertical-align: top;\n",
       "    }\n",
       "\n",
       "    .dataframe thead th {\n",
       "        text-align: right;\n",
       "    }\n",
       "</style>\n",
       "<table border=\"1\" class=\"dataframe\">\n",
       "  <thead>\n",
       "    <tr style=\"text-align: right;\">\n",
       "      <th></th>\n",
       "      <th>date</th>\n",
       "      <th>Ecuador</th>\n",
       "    </tr>\n",
       "  </thead>\n",
       "  <tbody>\n",
       "    <tr>\n",
       "      <th>0</th>\n",
       "      <td>-1</td>\n",
       "      <td>0.0</td>\n",
       "    </tr>\n",
       "    <tr>\n",
       "      <th>1</th>\n",
       "      <td>0</td>\n",
       "      <td>0.0</td>\n",
       "    </tr>\n",
       "    <tr>\n",
       "      <th>2</th>\n",
       "      <td>1</td>\n",
       "      <td>0.0</td>\n",
       "    </tr>\n",
       "    <tr>\n",
       "      <th>3</th>\n",
       "      <td>2</td>\n",
       "      <td>0.0</td>\n",
       "    </tr>\n",
       "    <tr>\n",
       "      <th>4</th>\n",
       "      <td>3</td>\n",
       "      <td>0.0</td>\n",
       "    </tr>\n",
       "    <tr>\n",
       "      <th>...</th>\n",
       "      <td>...</td>\n",
       "      <td>...</td>\n",
       "    </tr>\n",
       "    <tr>\n",
       "      <th>318</th>\n",
       "      <td>317</td>\n",
       "      <td>883.0</td>\n",
       "    </tr>\n",
       "    <tr>\n",
       "      <th>319</th>\n",
       "      <td>318</td>\n",
       "      <td>1161.0</td>\n",
       "    </tr>\n",
       "    <tr>\n",
       "      <th>320</th>\n",
       "      <td>319</td>\n",
       "      <td>953.0</td>\n",
       "    </tr>\n",
       "    <tr>\n",
       "      <th>321</th>\n",
       "      <td>320</td>\n",
       "      <td>668.0</td>\n",
       "    </tr>\n",
       "    <tr>\n",
       "      <th>322</th>\n",
       "      <td>321</td>\n",
       "      <td>381.0</td>\n",
       "    </tr>\n",
       "  </tbody>\n",
       "</table>\n",
       "<p>323 rows × 2 columns</p>\n",
       "</div>"
      ],
      "text/plain": [
       "     date  Ecuador\n",
       "0      -1      0.0\n",
       "1       0      0.0\n",
       "2       1      0.0\n",
       "3       2      0.0\n",
       "4       3      0.0\n",
       "..    ...      ...\n",
       "318   317    883.0\n",
       "319   318   1161.0\n",
       "320   319    953.0\n",
       "321   320    668.0\n",
       "322   321    381.0\n",
       "\n",
       "[323 rows x 2 columns]"
      ]
     },
     "execution_count": 68,
     "metadata": {},
     "output_type": "execute_result"
    }
   ],
   "source": [
    "df = df.loc[:,['date','Ecuador']] #Selecciono las columnas de analasis\n",
    "# Expresar las fechas en numero de dias desde el 01 Enero\n",
    "FMT = '%Y-%m-%d'\n",
    "date = df['date']\n",
    "df['date'] = date.map(lambda x : (datetime.strptime(x, FMT) - datetime.strptime(\"2020-01-01\", FMT)).days)\n",
    "df"
   ]
  },
  {
   "cell_type": "code",
   "execution_count": 69,
   "metadata": {},
   "outputs": [
    {
     "data": {
      "text/plain": [
       "<matplotlib.axes._subplots.AxesSubplot at 0x24e42795e80>"
      ]
     },
     "execution_count": 69,
     "metadata": {},
     "output_type": "execute_result"
    },
    {
     "data": {
      "image/png": "[encoded data removed]",
      "text/plain": [
       "<Figure size 432x288 with 1 Axes>"
      ]
     },
     "metadata": {
      "needs_background": "light"
     },
     "output_type": "display_data"
    }
   ],
   "source": [
    "df.plot(x ='date', y='Ecuador')"
   ]
  },
  {
   "cell_type": "markdown",
   "metadata": {},
   "source": [
    "Ahora podemos analizar un modelo probabilisto para el examen.\n",
    "\n",
    "## El modelo basado en probabilidad\n",
    "\n",
    "Para realizar un estimacion del factor de crecimiento de los casos de Covid 19 en Ecuador calculamos la mediana, con esto obtenemo el valor medio de crecimiento de un conjunto de datos, con esto podemos obtener un factor de crecimiento o taza de crecimiento de los nuevos casos.\n",
    "\n"
   ]
  },
  {
   "cell_type": "code",
   "execution_count": 70,
   "metadata": {},
   "outputs": [
    {
     "name": "stdout",
     "output_type": "stream",
     "text": [
      "665.0\n",
      "703.0194552529183\n"
     ]
    }
   ],
   "source": [
    "filtro = df[\"Ecuador\"][61:] # Filtro los datos que se empezo a tener casos\n",
    "#Obtenemos la mediana\n",
    "media = filtro.mean()\n",
    "mediana = filtro.median()\n",
    "print(mediana)\n",
    "print(media)\n"
   ]
  },
  {
   "cell_type": "markdown",
   "metadata": {},
   "source": [
    "De la ecuación de la recta y = mX + b nuestra pendiente «m» es el coeficiente y el término independiente «b»\n"
   ]
  },
  {
   "cell_type": "code",
   "execution_count": 71,
   "metadata": {},
   "outputs": [
    {
     "name": "stdout",
     "output_type": "stream",
     "text": [
      "181341\n"
     ]
    }
   ],
   "source": [
    "#Vamos a comprobar:\n",
    "# según la media y la mediana podemos obtener la taza de crecieminto y predicir su comportamiento.\n",
    "# Cargamos los datos de total de casos\n",
    "url = 'https://covid.ourworldindata.org/data/ecdc/total_cases.csv'\n",
    "df_t = pd.read_csv(url)\n",
    "df_t = df_t.loc[:,['date','Ecuador']] #Selecciono las columnas de analasis\n",
    "# Expresar las fechas en numero de dias desde el 01 Enero\n",
    "FMT = '%Y-%m-%d'\n",
    "date = df_t['date']\n",
    "df_t['date'] = date.map(lambda x : (datetime.strptime(x, FMT) - datetime.strptime(\"2020-01-01\", FMT)).days)\n",
    "df_t=df_t.dropna()\n",
    "dias = list(df_t['date'])\n",
    "y = list(df_t.iloc [:, 1]) # Total casos\n",
    "x = list(df_t.iloc [:, 0]) # Dias\n",
    "\n",
    "\n",
    "#Realizamos un ejemplo de prediccion\n",
    "prediccion_siguiente = int(y[-1] + mediana)\n",
    "print(prediccion_siguiente)"
   ]
  },
  {
   "cell_type": "code",
   "execution_count": 72,
   "metadata": {},
   "outputs": [
    {
     "data": {
      "image/png": "[encoded data removed]",
      "text/plain": [
       "<Figure size 432x288 with 1 Axes>"
      ]
     },
     "metadata": {
      "needs_background": "light"
     },
     "output_type": "display_data"
    }
   ],
   "source": [
    "# Quiero predecir cuántos \"Casos\" voy a obtener de aqui a 10 dias.\n",
    "\n",
    "for i in range(x[-1], x[-1]+10):\n",
    "    x.append(i)\n",
    "    y.append(int(y[-1] + mediana))\n",
    "plt.plot(x[61:], y[61:])\n",
    "plt.show()\n",
    "\n"
   ]
  },
  {
   "cell_type": "markdown",
   "metadata": {},
   "source": [
    "# Practica\n",
    "\n",
    "1. Comparar el modelo de predicion matematico vs probabilidad.\n",
    "2. Generar el SIR en base al modelo de probabilidad y obtener beta y gamma con una semana de prediccion.\n",
    "3. Retroceder un semana y comparar el modelo matematico vs probabilidad vs reales. Solo cargan los datos para generar los modelos menos 7 dias.\n",
    "\n",
    "Puntos extras: Investigas sobre la correlacion de variables y aplicar el calculo en base a los datos del Ecuador."
   ]
  },
  {
   "cell_type": "markdown",
   "metadata": {},
   "source": [
    "# 1. Comparar el modelo de predicion matematico vs probabilidad."
   ]
  },
  {
   "cell_type": "code",
   "execution_count": 78,
   "metadata": {},
   "outputs": [],
   "source": [
    "def func(x, m0, m1, m2, m3):\n",
    "    return m0 * np.exp(-m1 * x) + m2 + m3\n",
    "g = [100, 0.01, 200, 0.01]\n",
    "n = len(x[61:])\n",
    "y = np.empty(n)\n",
    "for i in range(n):\n",
    "    y[i] = func(x[i], g[0], g[1], g[2], g[3])\n"
   ]
  },
  {
   "cell_type": "code",
   "execution_count": 79,
   "metadata": {},
   "outputs": [
    {
     "name": "stderr",
     "output_type": "stream",
     "text": [
      "<ipython-input-78-a972cba8769a>:2: RuntimeWarning:\n",
      "\n",
      "overflow encountered in exp\n",
      "\n",
      "<ipython-input-78-a972cba8769a>:2: RuntimeWarning:\n",
      "\n",
      "overflow encountered in multiply\n",
      "\n"
     ]
    },
    {
     "data": {
      "application/vnd.plotly.v1+json": {
       "config": {
        "plotlyServerURL": "https://plot.ly"
       },
       "data": [
        {
         "mode": "markers",
         "name": "Datos Reales",
         "type": "scatter",
         "x": [
          126,
          127,
          128,
          129,
          130,
          131,
          132,
          133,
          134,
          135,
          136,
          137,
          138,
          139,
          140,
          141,
          142,
          143,
          144,
          145,
          146,
          147,
          148,
          149,
          150,
          151,
          152,
          153,
          154,
          155,
          156,
          157,
          158,
          159,
          160,
          161,
          162,
          163,
          164,
          165,
          166,
          167,
          168,
          169,
          170,
          171,
          172,
          173,
          174,
          175,
          176,
          177,
          178,
          179,
          180,
          181,
          182,
          183,
          184,
          185,
          186,
          187,
          188,
          189,
          190,
          191,
          192,
          193,
          194,
          195,
          196,
          197,
          198,
          199,
          200,
          201,
          202,
          203,
          204,
          205,
          206,
          207,
          208,
          209,
          210,
          211,
          212,
          213,
          214,
          215,
          216,
          217,
          218,
          219,
          220,
          221,
          222,
          223,
          224,
          225,
          226,
          227,
          228,
          229,
          230,
          231,
          232,
          233,
          234,
          235,
          236,
          237,
          238,
          239,
          240,
          241,
          242,
          243,
          244,
          245,
          246,
          247,
          248,
          249,
          250,
          251,
          252,
          253,
          254,
          255,
          256,
          257,
          258,
          259,
          260,
          261,
          262,
          263,
          264,
          265,
          266,
          267,
          268,
          269,
          270,
          271,
          272,
          273,
          274,
          275,
          276,
          277,
          278,
          279,
          280,
          281,
          282,
          283,
          284,
          285,
          286,
          287,
          288,
          289,
          290,
          291,
          292,
          293,
          294,
          295,
          296,
          297,
          298,
          299,
          300,
          301,
          302,
          303,
          304,
          305,
          306,
          307,
          308,
          309,
          310,
          311,
          312,
          313,
          314,
          315,
          316,
          317,
          318,
          319,
          320,
          321
         ],
         "y": [
          31881,
          29420,
          30298,
          28818,
          29071,
          29559,
          29509,
          30419,
          30486,
          30502,
          31467,
          32763,
          33182,
          33582,
          34151,
          34854,
          35306,
          35828,
          36258,
          36756,
          37355,
          37355,
          38103,
          38471,
          38571,
          38571,
          39098,
          39994,
          40414,
          40966,
          40966,
          41575,
          42728,
          43120,
          43378,
          43917,
          44440,
          44440,
          45778,
          46356,
          46751,
          47322,
          47943,
          48490,
          49097,
          49731,
          50183,
          50640,
          50640,
          51643,
          52334,
          53156,
          53856,
          54574,
          55255,
          55665,
          56432,
          58257,
          59468,
          60657,
          61535,
          61958,
          62380,
          63245,
          64221,
          65018,
          65801,
          67209,
          67870,
          68459,
          69570,
          70329,
          71365,
          72444,
          73382,
          74013,
          74620,
          76217,
          77257,
          78148,
          79049,
          80036,
          80694,
          81161,
          82279,
          83193,
          84370,
          85355,
          86232,
          86524,
          87041,
          87963,
          88866,
          90537,
          91969,
          93572,
          94459,
          94701,
          95563,
          97110,
          98343,
          99409,
          100688,
          101542,
          101751,
          102941,
          104475,
          105508,
          106481,
          107089,
          107769,
          108289,
          109030,
          110549,
          111219,
          112141,
          112906,
          113648,
          113767,
          114309,
          115457,
          116360,
          117175,
          118045,
          109784,
          110092,
          110757,
          112166,
          113206,
          114732,
          116451,
          118594,
          118911,
          119553,
          121525,
          122257,
          124129,
          125620,
          126419,
          126711,
          127643,
          129892,
          131146,
          132475,
          133981,
          134747,
          134965,
          135749,
          137047,
          138584,
          139534,
          140351,
          141034,
          141339,
          142056,
          143531,
          145045,
          145848,
          146828,
          147033,
          147315,
          148171,
          149083,
          150360,
          151659,
          152422,
          153289,
          153423,
          154115,
          155625,
          156451,
          158270,
          159614,
          161635,
          162178,
          163192,
          164908,
          166302,
          167147,
          168192,
          169194,
          169562,
          170110,
          171433,
          171783,
          172508,
          173486,
          174907,
          175269,
          175711,
          176630,
          177513,
          178674,
          179627,
          180295,
          180676
         ]
        },
        {
         "mode": "lines",
         "name": "Modelo Exponencial",
         "type": "scatter",
         "x": [
          126,
          127,
          128,
          129,
          130,
          131,
          132,
          133,
          134,
          135,
          136,
          137,
          138,
          139,
          140,
          141,
          142,
          143,
          144,
          145,
          146,
          147,
          148,
          149,
          150,
          151,
          152,
          153,
          154,
          155,
          156,
          157,
          158,
          159,
          160,
          161,
          162,
          163,
          164,
          165,
          166,
          167,
          168,
          169,
          170,
          171,
          172,
          173,
          174,
          175,
          176,
          177,
          178,
          179,
          180,
          181,
          182,
          183,
          184,
          185,
          186,
          187,
          188,
          189,
          190,
          191,
          192,
          193,
          194,
          195,
          196,
          197,
          198,
          199,
          200,
          201,
          202,
          203,
          204,
          205,
          206,
          207,
          208,
          209,
          210,
          211,
          212,
          213,
          214,
          215,
          216,
          217,
          218,
          219,
          220,
          221,
          222,
          223,
          224,
          225,
          226,
          227,
          228,
          229,
          230,
          231,
          232,
          233,
          234,
          235,
          236,
          237,
          238,
          239,
          240,
          241,
          242,
          243,
          244,
          245,
          246,
          247,
          248,
          249,
          250,
          251,
          252,
          253,
          254,
          255,
          256,
          257,
          258,
          259,
          260,
          261,
          262,
          263,
          264,
          265,
          266,
          267,
          268,
          269,
          270,
          271,
          272,
          273,
          274,
          275,
          276,
          277,
          278,
          279,
          280,
          281,
          282,
          283,
          284,
          285,
          286,
          287,
          288,
          289,
          290,
          291,
          292,
          293,
          294,
          295,
          296,
          297,
          298,
          299,
          300,
          301,
          302,
          303,
          304,
          305,
          306,
          307,
          308,
          309,
          310,
          311,
          312,
          313,
          314,
          315,
          316,
          317,
          318,
          319,
          320,
          321,
          322,
          323,
          324,
          325,
          326,
          327,
          328,
          329,
          330
         ],
         "y": [
          23443.710027908906,
          24062.54751968966,
          24683.106237880216,
          25305.390969876957,
          25929.406516391813,
          26555.15769148944,
          27182.649322624115,
          27811.886250677257,
          28442.873329994676,
          29075.615428423887,
          29710.117427351855,
          30346.384221742424,
          30984.4207201745,
          31624.231844879367,
          32265.822531779093,
          32909.197730524465,
          33554.36240453305,
          34201.32153102764,
          34850.08010107468,
          35500.64311962266,
          36153.01560554074,
          36807.20259165752,
          37463.20912479985,
          38121.04026583172,
          38780.70108969335,
          39442.1966854404,
          40105.53215628312,
          40770.7126196257,
          41437.7432071059,
          42106.62906463447,
          42777.37535243502,
          43449.98724508364,
          44124.469931548985,
          44800.828615232225,
          45479.0685140072,
          46159.19486026064,
          46841.212900932645,
          47525.12789755699,
          48210.94512630187,
          48898.66987801055,
          49588.30745824214,
          50279.863187312556,
          50973.34240033562,
          51668.750447264116,
          52366.09269293118,
          53065.37451709158,
          53766.601314463245,
          54469.77849476895,
          55174.911482778,
          55882.005718347995,
          56591.06665646692,
          57302.09976729532,
          58015.1105362082,
          58730.10446383763,
          59447.08706611497,
          60166.06387431358,
          60887.04043509145,
          61610.02231053388,
          62335.015078196564,
          63062.02433114854,
          63791.05567801531,
          64522.114743022044,
          65255.20716603726,
          65990.33860261596,
          66727.5147240434,
          67466.74121737908,
          68208.02378550023,
          68951.3681471461,
          69696.78003696186,
          70444.265205543,
          71193.82941947962,
          71945.4784614011,
          72699.21813002022,
          73455.05424017852,
          74212.99262289071,
          74973.03912538986,
          75735.19961117246,
          76499.47996004365,
          77265.88606816248,
          78034.4238480877,
          78805.099228823,
          79577.91815586298,
          80352.88659123905,
          81130.01051356512,
          81909.29591808413,
          82690.74881671407,
          83474.37523809428,
          84260.1812276323,
          85048.1728475501,
          85838.35617693103,
          86630.73731176692,
          87425.32236500471,
          88222.11746659383,
          89021.12876353363,
          89822.36241992042,
          90625.82461699532,
          91431.52155319208,
          92239.45944418435,
          93049.64452293425,
          93862.08303974001,
          94676.7812622844,
          95493.7454756831,
          96312.98198253309,
          97134.49710296126,
          97958.29717467332,
          98784.38855300253,
          99612.7776109587,
          100443.47073927757,
          101276.47434647006,
          102111.7948588714,
          102949.43872069116,
          103789.41239406259,
          104631.72235909276,
          105476.37511391236,
          106323.37717472596,
          107172.73507586206,
          108024.45536982382,
          108878.54462733932,
          109735.00943741252,
          110593.85640737377,
          111455.09216293113,
          112318.72334822125,
          113184.75662586067,
          114053.19867699718,
          114924.05620136167,
          115797.33591731926,
          116673.0445619217,
          117551.18889095882,
          118431.77567901128,
          119314.81171950212,
          120200.30382474969,
          121088.25882602003,
          121978.6835735795,
          122871.58493674782,
          123766.96980395072,
          124664.84508277362,
          125565.21770001439,
          126468.09460173702,
          127373.48275332517,
          128281.3891395361,
          129191.82076455423,
          130104.78465204532,
          131020.28784521073,
          131938.3374068416,
          132858.94041937354,
          133782.10398494118,
          134707.83522543267,
          135636.1412825452,
          136567.02931783957,
          137500.50651279572,
          138436.58006886803,
          139375.25720754112,
          140316.545170385,
          141260.45121911154,
          142206.98263563015,
          143156.14672210408,
          144107.95080100672,
          145062.40221517804,
          146019.5083278813,
          146979.2765228599,
          147941.71420439423,
          148906.82879735887,
          149874.6277472799,
          150845.11852039213,
          151818.30860369708,
          152794.2055050203,
          153772.81675306967,
          154754.14989749316,
          155738.2125089375,
          156725.01217910586,
          157714.55652081736,
          158706.8531680651,
          159701.90977607525,
          160699.73402136608,
          161700.33360180733,
          162703.71623667955,
          163709.88966673342,
          164718.8616542497,
          165730.6399830991,
          166745.23245880232,
          167762.64690859008,
          168782.8911814638,
          169805.97314825605,
          170831.90070169096,
          171860.6817564457,
          172892.32424921103,
          173926.83613875278,
          174964.22540597312,
          176004.50005397227,
          177047.66810811023,
          178093.73761606848,
          179142.71664791214,
          180194.61329615265,
          181249.43567580954,
          182307.19192447347,
          183367.8902023688,
          184431.53869241683,
          185498.14560029857,
          186567.71915451807,
          187640.26760646646,
          188715.79923048473,
          189794.32232392815,
          190875.84520723033,
          191960.37622396703,
          193047.9237409208
         ]
        },
        {
         "mode": "lines",
         "name": "Modelo Probabilistico",
         "type": "scatter",
         "x": [
          126,
          127,
          128,
          129,
          130,
          131,
          132,
          133,
          134,
          135,
          136,
          137,
          138,
          139,
          140,
          141,
          142,
          143,
          144,
          145,
          146,
          147,
          148,
          149,
          150,
          151,
          152,
          153,
          154,
          155,
          156,
          157,
          158,
          159,
          160,
          161,
          162,
          163,
          164,
          165,
          166,
          167,
          168,
          169,
          170,
          171,
          172,
          173,
          174,
          175,
          176,
          177,
          178,
          179,
          180,
          181,
          182,
          183,
          184,
          185,
          186,
          187,
          188,
          189,
          190,
          191,
          192,
          193,
          194,
          195,
          196,
          197,
          198,
          199,
          200,
          201,
          202,
          203,
          204,
          205,
          206,
          207,
          208,
          209,
          210,
          211,
          212,
          213,
          214,
          215,
          216,
          217,
          218,
          219,
          220,
          221,
          222,
          223,
          224,
          225,
          226,
          227,
          228,
          229,
          230,
          231,
          232,
          233,
          234,
          235,
          236,
          237,
          238,
          239,
          240,
          241,
          242,
          243,
          244,
          245,
          246,
          247,
          248,
          249,
          250,
          251,
          252,
          253,
          254,
          255,
          256,
          257,
          258,
          259,
          260,
          261,
          262,
          263,
          264,
          265,
          266,
          267,
          268,
          269,
          270,
          271,
          272,
          273,
          274,
          275,
          276,
          277,
          278,
          279,
          280,
          281,
          282,
          283,
          284,
          285,
          286,
          287,
          288,
          289,
          290,
          291,
          292,
          293,
          294,
          295,
          296,
          297,
          298,
          299,
          300,
          301,
          302,
          303,
          304,
          305,
          306,
          307,
          308,
          309,
          310,
          311,
          312,
          313,
          314,
          315,
          316,
          317,
          318,
          319,
          320,
          321,
          321,
          322,
          323,
          324,
          325,
          326,
          327,
          328,
          329,
          330
         ],
         "y": [
          31881,
          29420,
          30298,
          28818,
          29071,
          29559,
          29509,
          30419,
          30486,
          30502,
          31467,
          32763,
          33182,
          33582,
          34151,
          34854,
          35306,
          35828,
          36258,
          36756,
          37355,
          37355,
          38103,
          38471,
          38571,
          38571,
          39098,
          39994,
          40414,
          40966,
          40966,
          41575,
          42728,
          43120,
          43378,
          43917,
          44440,
          44440,
          45778,
          46356,
          46751,
          47322,
          47943,
          48490,
          49097,
          49731,
          50183,
          50640,
          50640,
          51643,
          52334,
          53156,
          53856,
          54574,
          55255,
          55665,
          56432,
          58257,
          59468,
          60657,
          61535,
          61958,
          62380,
          63245,
          64221,
          65018,
          65801,
          67209,
          67870,
          68459,
          69570,
          70329,
          71365,
          72444,
          73382,
          74013,
          74620,
          76217,
          77257,
          78148,
          79049,
          80036,
          80694,
          81161,
          82279,
          83193,
          84370,
          85355,
          86232,
          86524,
          87041,
          87963,
          88866,
          90537,
          91969,
          93572,
          94459,
          94701,
          95563,
          97110,
          98343,
          99409,
          100688,
          101542,
          101751,
          102941,
          104475,
          105508,
          106481,
          107089,
          107769,
          108289,
          109030,
          110549,
          111219,
          112141,
          112906,
          113648,
          113767,
          114309,
          115457,
          116360,
          117175,
          118045,
          109784,
          110092,
          110757,
          112166,
          113206,
          114732,
          116451,
          118594,
          118911,
          119553,
          121525,
          122257,
          124129,
          125620,
          126419,
          126711,
          127643,
          129892,
          131146,
          132475,
          133981,
          134747,
          134965,
          135749,
          137047,
          138584,
          139534,
          140351,
          141034,
          141339,
          142056,
          143531,
          145045,
          145848,
          146828,
          147033,
          147315,
          148171,
          149083,
          150360,
          151659,
          152422,
          153289,
          153423,
          154115,
          155625,
          156451,
          158270,
          159614,
          161635,
          162178,
          163192,
          164908,
          166302,
          167147,
          168192,
          169194,
          169562,
          170110,
          171433,
          171783,
          172508,
          173486,
          174907,
          175269,
          175711,
          176630,
          177513,
          178674,
          179627,
          180295,
          180676,
          181341,
          182006,
          182671,
          183336,
          184001,
          184666,
          185331,
          185996,
          186661,
          187326
         ]
        }
       ],
       "layout": {
        "template": {
         "data": {
          "bar": [
           {
            "error_x": {
             "color": "#2a3f5f"
            },
            "error_y": {
             "color": "#2a3f5f"
            },
            "marker": {
             "line": {
              "color": "#E5ECF6",
              "width": 0.5
             }
            },
            "type": "bar"
           }
          ],
          "barpolar": [
           {
            "marker": {
             "line": {
              "color": "#E5ECF6",
              "width": 0.5
             }
            },
            "type": "barpolar"
           }
          ],
          "carpet": [
           {
            "aaxis": {
             "endlinecolor": "#2a3f5f",
             "gridcolor": "white",
             "linecolor": "white",
             "minorgridcolor": "white",
             "startlinecolor": "#2a3f5f"
            },
            "baxis": {
             "endlinecolor": "#2a3f5f",
             "gridcolor": "white",
             "linecolor": "white",
             "minorgridcolor": "white",
             "startlinecolor": "#2a3f5f"
            },
            "type": "carpet"
           }
          ],
          "choropleth": [
           {
            "colorbar": {
             "outlinewidth": 0,
             "ticks": ""
            },
            "type": "choropleth"
           }
          ],
          "contour": [
           {
            "colorbar": {
             "outlinewidth": 0,
             "ticks": ""
            },
            "colorscale": [
             [
              0,
              "#0d0887"
             ],
             [
              0.1111111111111111,
              "#46039f"
             ],
             [
              0.2222222222222222,
              "#7201a8"
             ],
             [
              0.3333333333333333,
              "#9c179e"
             ],
             [
              0.4444444444444444,
              "#bd3786"
             ],
             [
              0.5555555555555556,
              "#d8576b"
             ],
             [
              0.6666666666666666,
              "#ed7953"
             ],
             [
              0.7777777777777778,
              "#fb9f3a"
             ],
             [
              0.8888888888888888,
              "#fdca26"
             ],
             [
              1,
              "#f0f921"
             ]
            ],
            "type": "contour"
           }
          ],
          "contourcarpet": [
           {
            "colorbar": {
             "outlinewidth": 0,
             "ticks": ""
            },
            "type": "contourcarpet"
           }
          ],
          "heatmap": [
           {
            "colorbar": {
             "outlinewidth": 0,
             "ticks": ""
            },
            "colorscale": [
             [
              0,
              "#0d0887"
             ],
             [
              0.1111111111111111,
              "#46039f"
             ],
             [
              0.2222222222222222,
              "#7201a8"
             ],
             [
              0.3333333333333333,
              "#9c179e"
             ],
             [
              0.4444444444444444,
              "#bd3786"
             ],
             [
              0.5555555555555556,
              "#d8576b"
             ],
             [
              0.6666666666666666,
              "#ed7953"
             ],
             [
              0.7777777777777778,
              "#fb9f3a"
             ],
             [
              0.8888888888888888,
              "#fdca26"
             ],
             [
              1,
              "#f0f921"
             ]
            ],
            "type": "heatmap"
           }
          ],
          "heatmapgl": [
           {
            "colorbar": {
             "outlinewidth": 0,
             "ticks": ""
            },
            "colorscale": [
             [
              0,
              "#0d0887"
             ],
             [
              0.1111111111111111,
              "#46039f"
             ],
             [
              0.2222222222222222,
              "#7201a8"
             ],
             [
              0.3333333333333333,
              "#9c179e"
             ],
             [
              0.4444444444444444,
              "#bd3786"
             ],
             [
              0.5555555555555556,
              "#d8576b"
             ],
             [
              0.6666666666666666,
              "#ed7953"
             ],
             [
              0.7777777777777778,
              "#fb9f3a"
             ],
             [
              0.8888888888888888,
              "#fdca26"
             ],
             [
              1,
              "#f0f921"
             ]
            ],
            "type": "heatmapgl"
           }
          ],
          "histogram": [
           {
            "marker": {
             "colorbar": {
              "outlinewidth": 0,
              "ticks": ""
             }
            },
            "type": "histogram"
           }
          ],
          "histogram2d": [
           {
            "colorbar": {
             "outlinewidth": 0,
             "ticks": ""
            },
            "colorscale": [
             [
              0,
              "#0d0887"
             ],
             [
              0.1111111111111111,
              "#46039f"
             ],
             [
              0.2222222222222222,
              "#7201a8"
             ],
             [
              0.3333333333333333,
              "#9c179e"
             ],
             [
              0.4444444444444444,
              "#bd3786"
             ],
             [
              0.5555555555555556,
              "#d8576b"
             ],
             [
              0.6666666666666666,
              "#ed7953"
             ],
             [
              0.7777777777777778,
              "#fb9f3a"
             ],
             [
              0.8888888888888888,
              "#fdca26"
             ],
             [
              1,
              "#f0f921"
             ]
            ],
            "type": "histogram2d"
           }
          ],
          "histogram2dcontour": [
           {
            "colorbar": {
             "outlinewidth": 0,
             "ticks": ""
            },
            "colorscale": [
             [
              0,
              "#0d0887"
             ],
             [
              0.1111111111111111,
              "#46039f"
             ],
             [
              0.2222222222222222,
              "#7201a8"
             ],
             [
              0.3333333333333333,
              "#9c179e"
             ],
             [
              0.4444444444444444,
              "#bd3786"
             ],
             [
              0.5555555555555556,
              "#d8576b"
             ],
             [
              0.6666666666666666,
              "#ed7953"
             ],
             [
              0.7777777777777778,
              "#fb9f3a"
             ],
             [
              0.8888888888888888,
              "#fdca26"
             ],
             [
              1,
              "#f0f921"
             ]
            ],
            "type": "histogram2dcontour"
           }
          ],
          "mesh3d": [
           {
            "colorbar": {
             "outlinewidth": 0,
             "ticks": ""
            },
            "type": "mesh3d"
           }
          ],
          "parcoords": [
           {
            "line": {
             "colorbar": {
              "outlinewidth": 0,
              "ticks": ""
             }
            },
            "type": "parcoords"
           }
          ],
          "pie": [
           {
            "automargin": true,
            "type": "pie"
           }
          ],
          "scatter": [
           {
            "marker": {
             "colorbar": {
              "outlinewidth": 0,
              "ticks": ""
             }
            },
            "type": "scatter"
           }
          ],
          "scatter3d": [
           {
            "line": {
             "colorbar": {
              "outlinewidth": 0,
              "ticks": ""
             }
            },
            "marker": {
             "colorbar": {
              "outlinewidth": 0,
              "ticks": ""
             }
            },
            "type": "scatter3d"
           }
          ],
          "scattercarpet": [
           {
            "marker": {
             "colorbar": {
              "outlinewidth": 0,
              "ticks": ""
             }
            },
            "type": "scattercarpet"
           }
          ],
          "scattergeo": [
           {
            "marker": {
             "colorbar": {
              "outlinewidth": 0,
              "ticks": ""
             }
            },
            "type": "scattergeo"
           }
          ],
          "scattergl": [
           {
            "marker": {
             "colorbar": {
              "outlinewidth": 0,
              "ticks": ""
             }
            },
            "type": "scattergl"
           }
          ],
          "scattermapbox": [
           {
            "marker": {
             "colorbar": {
              "outlinewidth": 0,
              "ticks": ""
             }
            },
            "type": "scattermapbox"
           }
          ],
          "scatterpolar": [
           {
            "marker": {
             "colorbar": {
              "outlinewidth": 0,
              "ticks": ""
             }
            },
            "type": "scatterpolar"
           }
          ],
          "scatterpolargl": [
           {
            "marker": {
             "colorbar": {
              "outlinewidth": 0,
              "ticks": ""
             }
            },
            "type": "scatterpolargl"
           }
          ],
          "scatterternary": [
           {
            "marker": {
             "colorbar": {
              "outlinewidth": 0,
              "ticks": ""
             }
            },
            "type": "scatterternary"
           }
          ],
          "surface": [
           {
            "colorbar": {
             "outlinewidth": 0,
             "ticks": ""
            },
            "colorscale": [
             [
              0,
              "#0d0887"
             ],
             [
              0.1111111111111111,
              "#46039f"
             ],
             [
              0.2222222222222222,
              "#7201a8"
             ],
             [
              0.3333333333333333,
              "#9c179e"
             ],
             [
              0.4444444444444444,
              "#bd3786"
             ],
             [
              0.5555555555555556,
              "#d8576b"
             ],
             [
              0.6666666666666666,
              "#ed7953"
             ],
             [
              0.7777777777777778,
              "#fb9f3a"
             ],
             [
              0.8888888888888888,
              "#fdca26"
             ],
             [
              1,
              "#f0f921"
             ]
            ],
            "type": "surface"
           }
          ],
          "table": [
           {
            "cells": {
             "fill": {
              "color": "#EBF0F8"
             },
             "line": {
              "color": "white"
             }
            },
            "header": {
             "fill": {
              "color": "#C8D4E3"
             },
             "line": {
              "color": "white"
             }
            },
            "type": "table"
           }
          ]
         },
         "layout": {
          "annotationdefaults": {
           "arrowcolor": "#2a3f5f",
           "arrowhead": 0,
           "arrowwidth": 1
          },
          "coloraxis": {
           "colorbar": {
            "outlinewidth": 0,
            "ticks": ""
           }
          },
          "colorscale": {
           "diverging": [
            [
             0,
             "#8e0152"
            ],
            [
             0.1,
             "#c51b7d"
            ],
            [
             0.2,
             "#de77ae"
            ],
            [
             0.3,
             "#f1b6da"
            ],
            [
             0.4,
             "#fde0ef"
            ],
            [
             0.5,
             "#f7f7f7"
            ],
            [
             0.6,
             "#e6f5d0"
            ],
            [
             0.7,
             "#b8e186"
            ],
            [
             0.8,
             "#7fbc41"
            ],
            [
             0.9,
             "#4d9221"
            ],
            [
             1,
             "#276419"
            ]
           ],
           "sequential": [
            [
             0,
             "#0d0887"
            ],
            [
             0.1111111111111111,
             "#46039f"
            ],
            [
             0.2222222222222222,
             "#7201a8"
            ],
            [
             0.3333333333333333,
             "#9c179e"
            ],
            [
             0.4444444444444444,
             "#bd3786"
            ],
            [
             0.5555555555555556,
             "#d8576b"
            ],
            [
             0.6666666666666666,
             "#ed7953"
            ],
            [
             0.7777777777777778,
             "#fb9f3a"
            ],
            [
             0.8888888888888888,
             "#fdca26"
            ],
            [
             1,
             "#f0f921"
            ]
           ],
           "sequentialminus": [
            [
             0,
             "#0d0887"
            ],
            [
             0.1111111111111111,
             "#46039f"
            ],
            [
             0.2222222222222222,
             "#7201a8"
            ],
            [
             0.3333333333333333,
             "#9c179e"
            ],
            [
             0.4444444444444444,
             "#bd3786"
            ],
            [
             0.5555555555555556,
             "#d8576b"
            ],
            [
             0.6666666666666666,
             "#ed7953"
            ],
            [
             0.7777777777777778,
             "#fb9f3a"
            ],
            [
             0.8888888888888888,
             "#fdca26"
            ],
            [
             1,
             "#f0f921"
            ]
           ]
          },
          "colorway": [
           "#636efa",
           "#EF553B",
           "#00cc96",
           "#ab63fa",
           "#FFA15A",
           "#19d3f3",
           "#FF6692",
           "#B6E880",
           "#FF97FF",
           "#FECB52"
          ],
          "font": {
           "color": "#2a3f5f"
          },
          "geo": {
           "bgcolor": "white",
           "lakecolor": "white",
           "landcolor": "#E5ECF6",
           "showlakes": true,
           "showland": true,
           "subunitcolor": "white"
          },
          "hoverlabel": {
           "align": "left"
          },
          "hovermode": "closest",
          "mapbox": {
           "style": "light"
          },
          "paper_bgcolor": "white",
          "plot_bgcolor": "#E5ECF6",
          "polar": {
           "angularaxis": {
            "gridcolor": "white",
            "linecolor": "white",
            "ticks": ""
           },
           "bgcolor": "#E5ECF6",
           "radialaxis": {
            "gridcolor": "white",
            "linecolor": "white",
            "ticks": ""
           }
          },
          "scene": {
           "xaxis": {
            "backgroundcolor": "#E5ECF6",
            "gridcolor": "white",
            "gridwidth": 2,
            "linecolor": "white",
            "showbackground": true,
            "ticks": "",
            "zerolinecolor": "white"
           },
           "yaxis": {
            "backgroundcolor": "#E5ECF6",
            "gridcolor": "white",
            "gridwidth": 2,
            "linecolor": "white",
            "showbackground": true,
            "ticks": "",
            "zerolinecolor": "white"
           },
           "zaxis": {
            "backgroundcolor": "#E5ECF6",
            "gridcolor": "white",
            "gridwidth": 2,
            "linecolor": "white",
            "showbackground": true,
            "ticks": "",
            "zerolinecolor": "white"
           }
          },
          "shapedefaults": {
           "line": {
            "color": "#2a3f5f"
           }
          },
          "ternary": {
           "aaxis": {
            "gridcolor": "white",
            "linecolor": "white",
            "ticks": ""
           },
           "baxis": {
            "gridcolor": "white",
            "linecolor": "white",
            "ticks": ""
           },
           "bgcolor": "#E5ECF6",
           "caxis": {
            "gridcolor": "white",
            "linecolor": "white",
            "ticks": ""
           }
          },
          "title": {
           "x": 0.05
          },
          "xaxis": {
           "automargin": true,
           "gridcolor": "white",
           "linecolor": "white",
           "ticks": "",
           "title": {
            "standoff": 15
           },
           "zerolinecolor": "white",
           "zerolinewidth": 2
          },
          "yaxis": {
           "automargin": true,
           "gridcolor": "white",
           "linecolor": "white",
           "ticks": "",
           "title": {
            "standoff": 15
           },
           "zerolinecolor": "white",
           "zerolinewidth": 2
          }
         }
        }
       }
      },
      "text/html": [
       "<div>                            <div id=\"147c2480-6718-4ee3-a524-6d920a946a74\" class=\"plotly-graph-div\" style=\"height:525px; width:100%;\"></div>            <script type=\"text/javascript\">                require([\"plotly\"], function(Plotly) {                    window.PLOTLYENV=window.PLOTLYENV || {};                                    if (document.getElementById(\"147c2480-6718-4ee3-a524-6d920a946a74\")) {                    Plotly.newPlot(                        \"147c2480-6718-4ee3-a524-6d920a946a74\",                        [{\"mode\": \"markers\", \"name\": \"Datos Reales\", \"type\": \"scatter\", \"x\": [126, 127, 128, 129, 130, 131, 132, 133, 134, 135, 136, 137, 138, 139, 140, 141, 142, 143, 144, 145, 146, 147, 148, 149, 150, 151, 152, 153, 154, 155, 156, 157, 158, 159, 160, 161, 162, 163, 164, 165, 166, 167, 168, 169, 170, 171, 172, 173, 174, 175, 176, 177, 178, 179, 180, 181, 182, 183, 184, 185, 186, 187, 188, 189, 190, 191, 192, 193, 194, 195, 196, 197, 198, 199, 200, 201, 202, 203, 204, 205, 206, 207, 208, 209, 210, 211, 212, 213, 214, 215, 216, 217, 218, 219, 220, 221, 222, 223, 224, 225, 226, 227, 228, 229, 230, 231, 232, 233, 234, 235, 236, 237, 238, 239, 240, 241, 242, 243, 244, 245, 246, 247, 248, 249, 250, 251, 252, 253, 254, 255, 256, 257, 258, 259, 260, 261, 262, 263, 264, 265, 266, 267, 268, 269, 270, 271, 272, 273, 274, 275, 276, 277, 278, 279, 280, 281, 282, 283, 284, 285, 286, 287, 288, 289, 290, 291, 292, 293, 294, 295, 296, 297, 298, 299, 300, 301, 302, 303, 304, 305, 306, 307, 308, 309, 310, 311, 312, 313, 314, 315, 316, 317, 318, 319, 320, 321], \"y\": [31881.0, 29420.0, 30298.0, 28818.0, 29071.0, 29559.0, 29509.0, 30419.0, 30486.0, 30502.0, 31467.0, 32763.0, 33182.0, 33582.0, 34151.0, 34854.0, 35306.0, 35828.0, 36258.0, 36756.0, 37355.0, 37355.0, 38103.0, 38471.0, 38571.0, 38571.0, 39098.0, 39994.0, 40414.0, 40966.0, 40966.0, 41575.0, 42728.0, 43120.0, 43378.0, 43917.0, 44440.0, 44440.0, 45778.0, 46356.0, 46751.0, 47322.0, 47943.0, 48490.0, 49097.0, 49731.0, 50183.0, 50640.0, 50640.0, 51643.0, 52334.0, 53156.0, 53856.0, 54574.0, 55255.0, 55665.0, 56432.0, 58257.0, 59468.0, 60657.0, 61535.0, 61958.0, 62380.0, 63245.0, 64221.0, 65018.0, 65801.0, 67209.0, 67870.0, 68459.0, 69570.0, 70329.0, 71365.0, 72444.0, 73382.0, 74013.0, 74620.0, 76217.0, 77257.0, 78148.0, 79049.0, 80036.0, 80694.0, 81161.0, 82279.0, 83193.0, 84370.0, 85355.0, 86232.0, 86524.0, 87041.0, 87963.0, 88866.0, 90537.0, 91969.0, 93572.0, 94459.0, 94701.0, 95563.0, 97110.0, 98343.0, 99409.0, 100688.0, 101542.0, 101751.0, 102941.0, 104475.0, 105508.0, 106481.0, 107089.0, 107769.0, 108289.0, 109030.0, 110549.0, 111219.0, 112141.0, 112906.0, 113648.0, 113767.0, 114309.0, 115457.0, 116360.0, 117175.0, 118045.0, 109784.0, 110092.0, 110757.0, 112166.0, 113206.0, 114732.0, 116451.0, 118594.0, 118911.0, 119553.0, 121525.0, 122257.0, 124129.0, 125620.0, 126419.0, 126711.0, 127643.0, 129892.0, 131146.0, 132475.0, 133981.0, 134747.0, 134965.0, 135749.0, 137047.0, 138584.0, 139534.0, 140351.0, 141034.0, 141339.0, 142056.0, 143531.0, 145045.0, 145848.0, 146828.0, 147033.0, 147315.0, 148171.0, 149083.0, 150360.0, 151659.0, 152422.0, 153289.0, 153423.0, 154115.0, 155625.0, 156451.0, 158270.0, 159614.0, 161635.0, 162178.0, 163192.0, 164908.0, 166302.0, 167147.0, 168192.0, 169194.0, 169562.0, 170110.0, 171433.0, 171783.0, 172508.0, 173486.0, 174907.0, 175269.0, 175711.0, 176630.0, 177513.0, 178674.0, 179627.0, 180295.0, 180676.0]}, {\"mode\": \"lines\", \"name\": \"Modelo Exponencial\", \"type\": \"scatter\", \"x\": [126, 127, 128, 129, 130, 131, 132, 133, 134, 135, 136, 137, 138, 139, 140, 141, 142, 143, 144, 145, 146, 147, 148, 149, 150, 151, 152, 153, 154, 155, 156, 157, 158, 159, 160, 161, 162, 163, 164, 165, 166, 167, 168, 169, 170, 171, 172, 173, 174, 175, 176, 177, 178, 179, 180, 181, 182, 183, 184, 185, 186, 187, 188, 189, 190, 191, 192, 193, 194, 195, 196, 197, 198, 199, 200, 201, 202, 203, 204, 205, 206, 207, 208, 209, 210, 211, 212, 213, 214, 215, 216, 217, 218, 219, 220, 221, 222, 223, 224, 225, 226, 227, 228, 229, 230, 231, 232, 233, 234, 235, 236, 237, 238, 239, 240, 241, 242, 243, 244, 245, 246, 247, 248, 249, 250, 251, 252, 253, 254, 255, 256, 257, 258, 259, 260, 261, 262, 263, 264, 265, 266, 267, 268, 269, 270, 271, 272, 273, 274, 275, 276, 277, 278, 279, 280, 281, 282, 283, 284, 285, 286, 287, 288, 289, 290, 291, 292, 293, 294, 295, 296, 297, 298, 299, 300, 301, 302, 303, 304, 305, 306, 307, 308, 309, 310, 311, 312, 313, 314, 315, 316, 317, 318, 319, 320, 321, 322, 323, 324, 325, 326, 327, 328, 329, 330], \"y\": [23443.710027908906, 24062.54751968966, 24683.106237880216, 25305.390969876957, 25929.406516391813, 26555.15769148944, 27182.649322624115, 27811.886250677257, 28442.873329994676, 29075.615428423887, 29710.117427351855, 30346.384221742424, 30984.4207201745, 31624.231844879367, 32265.822531779093, 32909.197730524465, 33554.36240453305, 34201.32153102764, 34850.08010107468, 35500.64311962266, 36153.01560554074, 36807.20259165752, 37463.20912479985, 38121.04026583172, 38780.70108969335, 39442.1966854404, 40105.53215628312, 40770.7126196257, 41437.7432071059, 42106.62906463447, 42777.37535243502, 43449.98724508364, 44124.469931548985, 44800.828615232225, 45479.0685140072, 46159.19486026064, 46841.212900932645, 47525.12789755699, 48210.94512630187, 48898.66987801055, 49588.30745824214, 50279.863187312556, 50973.34240033562, 51668.750447264116, 52366.09269293118, 53065.37451709158, 53766.601314463245, 54469.77849476895, 55174.911482778, 55882.005718347995, 56591.06665646692, 57302.09976729532, 58015.1105362082, 58730.10446383763, 59447.08706611497, 60166.06387431358, 60887.04043509145, 61610.02231053388, 62335.015078196564, 63062.02433114854, 63791.05567801531, 64522.114743022044, 65255.20716603726, 65990.33860261596, 66727.5147240434, 67466.74121737908, 68208.02378550023, 68951.3681471461, 69696.78003696186, 70444.265205543, 71193.82941947962, 71945.4784614011, 72699.21813002022, 73455.05424017852, 74212.99262289071, 74973.03912538986, 75735.19961117246, 76499.47996004365, 77265.88606816248, 78034.4238480877, 78805.099228823, 79577.91815586298, 80352.88659123905, 81130.01051356512, 81909.29591808413, 82690.74881671407, 83474.37523809428, 84260.1812276323, 85048.1728475501, 85838.35617693103, 86630.73731176692, 87425.32236500471, 88222.11746659383, 89021.12876353363, 89822.36241992042, 90625.82461699532, 91431.52155319208, 92239.45944418435, 93049.64452293425, 93862.08303974001, 94676.7812622844, 95493.7454756831, 96312.98198253309, 97134.49710296126, 97958.29717467332, 98784.38855300253, 99612.7776109587, 100443.47073927757, 101276.47434647006, 102111.7948588714, 102949.43872069116, 103789.41239406259, 104631.72235909276, 105476.37511391236, 106323.37717472596, 107172.73507586206, 108024.45536982382, 108878.54462733932, 109735.00943741252, 110593.85640737377, 111455.09216293113, 112318.72334822125, 113184.75662586067, 114053.19867699718, 114924.05620136167, 115797.33591731926, 116673.0445619217, 117551.18889095882, 118431.77567901128, 119314.81171950212, 120200.30382474969, 121088.25882602003, 121978.6835735795, 122871.58493674782, 123766.96980395072, 124664.84508277362, 125565.21770001439, 126468.09460173702, 127373.48275332517, 128281.3891395361, 129191.82076455423, 130104.78465204532, 131020.28784521073, 131938.3374068416, 132858.94041937354, 133782.10398494118, 134707.83522543267, 135636.1412825452, 136567.02931783957, 137500.50651279572, 138436.58006886803, 139375.25720754112, 140316.545170385, 141260.45121911154, 142206.98263563015, 143156.14672210408, 144107.95080100672, 145062.40221517804, 146019.5083278813, 146979.2765228599, 147941.71420439423, 148906.82879735887, 149874.6277472799, 150845.11852039213, 151818.30860369708, 152794.2055050203, 153772.81675306967, 154754.14989749316, 155738.2125089375, 156725.01217910586, 157714.55652081736, 158706.8531680651, 159701.90977607525, 160699.73402136608, 161700.33360180733, 162703.71623667955, 163709.88966673342, 164718.8616542497, 165730.6399830991, 166745.23245880232, 167762.64690859008, 168782.8911814638, 169805.97314825605, 170831.90070169096, 171860.6817564457, 172892.32424921103, 173926.83613875278, 174964.22540597312, 176004.50005397227, 177047.66810811023, 178093.73761606848, 179142.71664791214, 180194.61329615265, 181249.43567580954, 182307.19192447347, 183367.8902023688, 184431.53869241683, 185498.14560029857, 186567.71915451807, 187640.26760646646, 188715.79923048473, 189794.32232392815, 190875.84520723033, 191960.37622396703, 193047.9237409208]}, {\"mode\": \"lines\", \"name\": \"Modelo Probabilistico\", \"type\": \"scatter\", \"x\": [126, 127, 128, 129, 130, 131, 132, 133, 134, 135, 136, 137, 138, 139, 140, 141, 142, 143, 144, 145, 146, 147, 148, 149, 150, 151, 152, 153, 154, 155, 156, 157, 158, 159, 160, 161, 162, 163, 164, 165, 166, 167, 168, 169, 170, 171, 172, 173, 174, 175, 176, 177, 178, 179, 180, 181, 182, 183, 184, 185, 186, 187, 188, 189, 190, 191, 192, 193, 194, 195, 196, 197, 198, 199, 200, 201, 202, 203, 204, 205, 206, 207, 208, 209, 210, 211, 212, 213, 214, 215, 216, 217, 218, 219, 220, 221, 222, 223, 224, 225, 226, 227, 228, 229, 230, 231, 232, 233, 234, 235, 236, 237, 238, 239, 240, 241, 242, 243, 244, 245, 246, 247, 248, 249, 250, 251, 252, 253, 254, 255, 256, 257, 258, 259, 260, 261, 262, 263, 264, 265, 266, 267, 268, 269, 270, 271, 272, 273, 274, 275, 276, 277, 278, 279, 280, 281, 282, 283, 284, 285, 286, 287, 288, 289, 290, 291, 292, 293, 294, 295, 296, 297, 298, 299, 300, 301, 302, 303, 304, 305, 306, 307, 308, 309, 310, 311, 312, 313, 314, 315, 316, 317, 318, 319, 320, 321, 321, 322, 323, 324, 325, 326, 327, 328, 329, 330], \"y\": [31881.0, 29420.0, 30298.0, 28818.0, 29071.0, 29559.0, 29509.0, 30419.0, 30486.0, 30502.0, 31467.0, 32763.0, 33182.0, 33582.0, 34151.0, 34854.0, 35306.0, 35828.0, 36258.0, 36756.0, 37355.0, 37355.0, 38103.0, 38471.0, 38571.0, 38571.0, 39098.0, 39994.0, 40414.0, 40966.0, 40966.0, 41575.0, 42728.0, 43120.0, 43378.0, 43917.0, 44440.0, 44440.0, 45778.0, 46356.0, 46751.0, 47322.0, 47943.0, 48490.0, 49097.0, 49731.0, 50183.0, 50640.0, 50640.0, 51643.0, 52334.0, 53156.0, 53856.0, 54574.0, 55255.0, 55665.0, 56432.0, 58257.0, 59468.0, 60657.0, 61535.0, 61958.0, 62380.0, 63245.0, 64221.0, 65018.0, 65801.0, 67209.0, 67870.0, 68459.0, 69570.0, 70329.0, 71365.0, 72444.0, 73382.0, 74013.0, 74620.0, 76217.0, 77257.0, 78148.0, 79049.0, 80036.0, 80694.0, 81161.0, 82279.0, 83193.0, 84370.0, 85355.0, 86232.0, 86524.0, 87041.0, 87963.0, 88866.0, 90537.0, 91969.0, 93572.0, 94459.0, 94701.0, 95563.0, 97110.0, 98343.0, 99409.0, 100688.0, 101542.0, 101751.0, 102941.0, 104475.0, 105508.0, 106481.0, 107089.0, 107769.0, 108289.0, 109030.0, 110549.0, 111219.0, 112141.0, 112906.0, 113648.0, 113767.0, 114309.0, 115457.0, 116360.0, 117175.0, 118045.0, 109784.0, 110092.0, 110757.0, 112166.0, 113206.0, 114732.0, 116451.0, 118594.0, 118911.0, 119553.0, 121525.0, 122257.0, 124129.0, 125620.0, 126419.0, 126711.0, 127643.0, 129892.0, 131146.0, 132475.0, 133981.0, 134747.0, 134965.0, 135749.0, 137047.0, 138584.0, 139534.0, 140351.0, 141034.0, 141339.0, 142056.0, 143531.0, 145045.0, 145848.0, 146828.0, 147033.0, 147315.0, 148171.0, 149083.0, 150360.0, 151659.0, 152422.0, 153289.0, 153423.0, 154115.0, 155625.0, 156451.0, 158270.0, 159614.0, 161635.0, 162178.0, 163192.0, 164908.0, 166302.0, 167147.0, 168192.0, 169194.0, 169562.0, 170110.0, 171433.0, 171783.0, 172508.0, 173486.0, 174907.0, 175269.0, 175711.0, 176630.0, 177513.0, 178674.0, 179627.0, 180295.0, 180676.0, 181341, 182006, 182671, 183336, 184001, 184666, 185331, 185996, 186661, 187326]}],                        {\"template\": {\"data\": {\"bar\": [{\"error_x\": {\"color\": \"#2a3f5f\"}, \"error_y\": {\"color\": \"#2a3f5f\"}, \"marker\": {\"line\": {\"color\": \"#E5ECF6\", \"width\": 0.5}}, \"type\": \"bar\"}], \"barpolar\": [{\"marker\": {\"line\": {\"color\": \"#E5ECF6\", \"width\": 0.5}}, \"type\": \"barpolar\"}], \"carpet\": [{\"aaxis\": {\"endlinecolor\": \"#2a3f5f\", \"gridcolor\": \"white\", \"linecolor\": \"white\", \"minorgridcolor\": \"white\", \"startlinecolor\": \"#2a3f5f\"}, \"baxis\": {\"endlinecolor\": \"#2a3f5f\", \"gridcolor\": \"white\", \"linecolor\": \"white\", \"minorgridcolor\": \"white\", \"startlinecolor\": \"#2a3f5f\"}, \"type\": \"carpet\"}], \"choropleth\": [{\"colorbar\": {\"outlinewidth\": 0, \"ticks\": \"\"}, \"type\": \"choropleth\"}], \"contour\": [{\"colorbar\": {\"outlinewidth\": 0, \"ticks\": \"\"}, \"colorscale\": [[0.0, \"#0d0887\"], [0.1111111111111111, \"#46039f\"], [0.2222222222222222, \"#7201a8\"], [0.3333333333333333, \"#9c179e\"], [0.4444444444444444, \"#bd3786\"], [0.5555555555555556, \"#d8576b\"], [0.6666666666666666, \"#ed7953\"], [0.7777777777777778, \"#fb9f3a\"], [0.8888888888888888, \"#fdca26\"], [1.0, \"#f0f921\"]], \"type\": \"contour\"}], \"contourcarpet\": [{\"colorbar\": {\"outlinewidth\": 0, \"ticks\": \"\"}, \"type\": \"contourcarpet\"}], \"heatmap\": [{\"colorbar\": {\"outlinewidth\": 0, \"ticks\": \"\"}, \"colorscale\": [[0.0, \"#0d0887\"], [0.1111111111111111, \"#46039f\"], [0.2222222222222222, \"#7201a8\"], [0.3333333333333333, \"#9c179e\"], [0.4444444444444444, \"#bd3786\"], [0.5555555555555556, \"#d8576b\"], [0.6666666666666666, \"#ed7953\"], [0.7777777777777778, \"#fb9f3a\"], [0.8888888888888888, \"#fdca26\"], [1.0, \"#f0f921\"]], \"type\": \"heatmap\"}], \"heatmapgl\": [{\"colorbar\": {\"outlinewidth\": 0, \"ticks\": \"\"}, \"colorscale\": [[0.0, \"#0d0887\"], [0.1111111111111111, \"#46039f\"], [0.2222222222222222, \"#7201a8\"], [0.3333333333333333, \"#9c179e\"], [0.4444444444444444, \"#bd3786\"], [0.5555555555555556, \"#d8576b\"], [0.6666666666666666, \"#ed7953\"], [0.7777777777777778, \"#fb9f3a\"], [0.8888888888888888, \"#fdca26\"], [1.0, \"#f0f921\"]], \"type\": \"heatmapgl\"}], \"histogram\": [{\"marker\": {\"colorbar\": {\"outlinewidth\": 0, \"ticks\": \"\"}}, \"type\": \"histogram\"}], \"histogram2d\": [{\"colorbar\": {\"outlinewidth\": 0, \"ticks\": \"\"}, \"colorscale\": [[0.0, \"#0d0887\"], [0.1111111111111111, \"#46039f\"], [0.2222222222222222, \"#7201a8\"], [0.3333333333333333, \"#9c179e\"], [0.4444444444444444, \"#bd3786\"], [0.5555555555555556, \"#d8576b\"], [0.6666666666666666, \"#ed7953\"], [0.7777777777777778, \"#fb9f3a\"], [0.8888888888888888, \"#fdca26\"], [1.0, \"#f0f921\"]], \"type\": \"histogram2d\"}], \"histogram2dcontour\": [{\"colorbar\": {\"outlinewidth\": 0, \"ticks\": \"\"}, \"colorscale\": [[0.0, \"#0d0887\"], [0.1111111111111111, \"#46039f\"], [0.2222222222222222, \"#7201a8\"], [0.3333333333333333, \"#9c179e\"], [0.4444444444444444, \"#bd3786\"], [0.5555555555555556, \"#d8576b\"], [0.6666666666666666, \"#ed7953\"], [0.7777777777777778, \"#fb9f3a\"], [0.8888888888888888, \"#fdca26\"], [1.0, \"#f0f921\"]], \"type\": \"histogram2dcontour\"}], \"mesh3d\": [{\"colorbar\": {\"outlinewidth\": 0, \"ticks\": \"\"}, \"type\": \"mesh3d\"}], \"parcoords\": [{\"line\": {\"colorbar\": {\"outlinewidth\": 0, \"ticks\": \"\"}}, \"type\": \"parcoords\"}], \"pie\": [{\"automargin\": true, \"type\": \"pie\"}], \"scatter\": [{\"marker\": {\"colorbar\": {\"outlinewidth\": 0, \"ticks\": \"\"}}, \"type\": \"scatter\"}], \"scatter3d\": [{\"line\": {\"colorbar\": {\"outlinewidth\": 0, \"ticks\": \"\"}}, \"marker\": {\"colorbar\": {\"outlinewidth\": 0, \"ticks\": \"\"}}, \"type\": \"scatter3d\"}], \"scattercarpet\": [{\"marker\": {\"colorbar\": {\"outlinewidth\": 0, \"ticks\": \"\"}}, \"type\": \"scattercarpet\"}], \"scattergeo\": [{\"marker\": {\"colorbar\": {\"outlinewidth\": 0, \"ticks\": \"\"}}, \"type\": \"scattergeo\"}], \"scattergl\": [{\"marker\": {\"colorbar\": {\"outlinewidth\": 0, \"ticks\": \"\"}}, \"type\": \"scattergl\"}], \"scattermapbox\": [{\"marker\": {\"colorbar\": {\"outlinewidth\": 0, \"ticks\": \"\"}}, \"type\": \"scattermapbox\"}], \"scatterpolar\": [{\"marker\": {\"colorbar\": {\"outlinewidth\": 0, \"ticks\": \"\"}}, \"type\": \"scatterpolar\"}], \"scatterpolargl\": [{\"marker\": {\"colorbar\": {\"outlinewidth\": 0, \"ticks\": \"\"}}, \"type\": \"scatterpolargl\"}], \"scatterternary\": [{\"marker\": {\"colorbar\": {\"outlinewidth\": 0, \"ticks\": \"\"}}, \"type\": \"scatterternary\"}], \"surface\": [{\"colorbar\": {\"outlinewidth\": 0, \"ticks\": \"\"}, \"colorscale\": [[0.0, \"#0d0887\"], [0.1111111111111111, \"#46039f\"], [0.2222222222222222, \"#7201a8\"], [0.3333333333333333, \"#9c179e\"], [0.4444444444444444, \"#bd3786\"], [0.5555555555555556, \"#d8576b\"], [0.6666666666666666, \"#ed7953\"], [0.7777777777777778, \"#fb9f3a\"], [0.8888888888888888, \"#fdca26\"], [1.0, \"#f0f921\"]], \"type\": \"surface\"}], \"table\": [{\"cells\": {\"fill\": {\"color\": \"#EBF0F8\"}, \"line\": {\"color\": \"white\"}}, \"header\": {\"fill\": {\"color\": \"#C8D4E3\"}, \"line\": {\"color\": \"white\"}}, \"type\": \"table\"}]}, \"layout\": {\"annotationdefaults\": {\"arrowcolor\": \"#2a3f5f\", \"arrowhead\": 0, \"arrowwidth\": 1}, \"coloraxis\": {\"colorbar\": {\"outlinewidth\": 0, \"ticks\": \"\"}}, \"colorscale\": {\"diverging\": [[0, \"#8e0152\"], [0.1, \"#c51b7d\"], [0.2, \"#de77ae\"], [0.3, \"#f1b6da\"], [0.4, \"#fde0ef\"], [0.5, \"#f7f7f7\"], [0.6, \"#e6f5d0\"], [0.7, \"#b8e186\"], [0.8, \"#7fbc41\"], [0.9, \"#4d9221\"], [1, \"#276419\"]], \"sequential\": [[0.0, \"#0d0887\"], [0.1111111111111111, \"#46039f\"], [0.2222222222222222, \"#7201a8\"], [0.3333333333333333, \"#9c179e\"], [0.4444444444444444, \"#bd3786\"], [0.5555555555555556, \"#d8576b\"], [0.6666666666666666, \"#ed7953\"], [0.7777777777777778, \"#fb9f3a\"], [0.8888888888888888, \"#fdca26\"], [1.0, \"#f0f921\"]], \"sequentialminus\": [[0.0, \"#0d0887\"], [0.1111111111111111, \"#46039f\"], [0.2222222222222222, \"#7201a8\"], [0.3333333333333333, \"#9c179e\"], [0.4444444444444444, \"#bd3786\"], [0.5555555555555556, \"#d8576b\"], [0.6666666666666666, \"#ed7953\"], [0.7777777777777778, \"#fb9f3a\"], [0.8888888888888888, \"#fdca26\"], [1.0, \"#f0f921\"]]}, \"colorway\": [\"#636efa\", \"#EF553B\", \"#00cc96\", \"#ab63fa\", \"#FFA15A\", \"#19d3f3\", \"#FF6692\", \"#B6E880\", \"#FF97FF\", \"#FECB52\"], \"font\": {\"color\": \"#2a3f5f\"}, \"geo\": {\"bgcolor\": \"white\", \"lakecolor\": \"white\", \"landcolor\": \"#E5ECF6\", \"showlakes\": true, \"showland\": true, \"subunitcolor\": \"white\"}, \"hoverlabel\": {\"align\": \"left\"}, \"hovermode\": \"closest\", \"mapbox\": {\"style\": \"light\"}, \"paper_bgcolor\": \"white\", \"plot_bgcolor\": \"#E5ECF6\", \"polar\": {\"angularaxis\": {\"gridcolor\": \"white\", \"linecolor\": \"white\", \"ticks\": \"\"}, \"bgcolor\": \"#E5ECF6\", \"radialaxis\": {\"gridcolor\": \"white\", \"linecolor\": \"white\", \"ticks\": \"\"}}, \"scene\": {\"xaxis\": {\"backgroundcolor\": \"#E5ECF6\", \"gridcolor\": \"white\", \"gridwidth\": 2, \"linecolor\": \"white\", \"showbackground\": true, \"ticks\": \"\", \"zerolinecolor\": \"white\"}, \"yaxis\": {\"backgroundcolor\": \"#E5ECF6\", \"gridcolor\": \"white\", \"gridwidth\": 2, \"linecolor\": \"white\", \"showbackground\": true, \"ticks\": \"\", \"zerolinecolor\": \"white\"}, \"zaxis\": {\"backgroundcolor\": \"#E5ECF6\", \"gridcolor\": \"white\", \"gridwidth\": 2, \"linecolor\": \"white\", \"showbackground\": true, \"ticks\": \"\", \"zerolinecolor\": \"white\"}}, \"shapedefaults\": {\"line\": {\"color\": \"#2a3f5f\"}}, \"ternary\": {\"aaxis\": {\"gridcolor\": \"white\", \"linecolor\": \"white\", \"ticks\": \"\"}, \"baxis\": {\"gridcolor\": \"white\", \"linecolor\": \"white\", \"ticks\": \"\"}, \"bgcolor\": \"#E5ECF6\", \"caxis\": {\"gridcolor\": \"white\", \"linecolor\": \"white\", \"ticks\": \"\"}}, \"title\": {\"x\": 0.05}, \"xaxis\": {\"automargin\": true, \"gridcolor\": \"white\", \"linecolor\": \"white\", \"ticks\": \"\", \"title\": {\"standoff\": 15}, \"zerolinecolor\": \"white\", \"zerolinewidth\": 2}, \"yaxis\": {\"automargin\": true, \"gridcolor\": \"white\", \"linecolor\": \"white\", \"ticks\": \"\", \"title\": {\"standoff\": 15}, \"zerolinecolor\": \"white\", \"zerolinewidth\": 2}}}},                        {\"responsive\": true}                    ).then(function(){\n",
       "                            \n",
       "var gd = document.getElementById('147c2480-6718-4ee3-a524-6d920a946a74');\n",
       "var x = new MutationObserver(function (mutations, observer) {{\n",
       "        var display = window.getComputedStyle(gd).display;\n",
       "        if (!display || display === 'none') {{\n",
       "            console.log([gd, 'removed!']);\n",
       "            Plotly.purge(gd);\n",
       "            observer.disconnect();\n",
       "        }}\n",
       "}});\n",
       "\n",
       "// Listen for the removal of the full notebook cells\n",
       "var notebookContainer = gd.closest('#notebook-container');\n",
       "if (notebookContainer) {{\n",
       "    x.observe(notebookContainer, {childList: true});\n",
       "}}\n",
       "\n",
       "// Listen for the clearing of the current output cell\n",
       "var outputEl = gd.closest('.output');\n",
       "if (outputEl) {{\n",
       "    x.observe(outputEl, {childList: true});\n",
       "}}\n",
       "\n",
       "                        })                };                });            </script>        </div>"
      ]
     },
     "metadata": {},
     "output_type": "display_data"
    },
    {
     "data": {
      "image/png": "[encoded data removed]",
      "text/plain": [
       "<Figure size 1440x720 with 1 Axes>"
      ]
     },
     "metadata": {
      "needs_background": "light"
     },
     "output_type": "display_data"
    }
   ],
   "source": [
    "#MODELO PROBABILISTICO\n",
    "y1 = list(df_t.iloc [:, 1]) # Total casos\n",
    "x1 = list(df_t.iloc [:, 0]) # Dias\n",
    "#Prediccion 10 dias\n",
    "for i in range(x1[-1], x1[-1]+10):\n",
    "    x1.append(i)\n",
    "    y1.append(int(y1[-1] + mediana))\n",
    "\n",
    "#MODELO EXPONENCIAL\n",
    "yy = list(df_t.iloc [:, 1]) # Total casos\n",
    "xx = list(df_t.iloc [:, 0]) # Dias\n",
    "casos = list(df_t.iloc [:, 1])# Total casos\n",
    "dias = list(df_t.iloc [:, 0]) # Dias\n",
    "\n",
    "popt, pcov = curve_fit(func, dias[61:], casos[61:], g)\n",
    "for i in range(n):\n",
    "    casos[i] = func(dias[i], popt[0], popt[1], popt[2], popt[3])\n",
    "\n",
    "\n",
    "#PREDECIR PARA 10DIAS\n",
    "pred_x = np.array(list(range(min(dias[61:]),max(dias[61:])+10)))\n",
    "#Grafica 1\n",
    "fig = go.Figure()\n",
    "\n",
    "fig.add_trace(go.Scatter(y=yy[61:],x=xx[61:],mode='markers',name='Datos Reales'))\n",
    "fig.add_trace(go.Scatter(y=func(pred_x,*popt),x=pred_x,mode='lines',name='Modelo Exponencial'))\n",
    "fig.add_trace(go.Scatter(y=y1[61:],x=x1[61:],mode='lines',name='Modelo Probabilistico'))\n",
    "\n",
    "fig.show()\n",
    "ka=t[0:len(y)]\n",
    "\n",
    "#  Grafica2\n",
    "fig = plt.figure(figsize=(20, 10))\n",
    "ax = fig.add_subplot(111,  axisbelow=True)\n",
    "ax.plot(x1[61:], y1[61:], 'b', alpha=1, lw=1, label='Modelo Probabilistico ')\n",
    "ax.plot(pred_x, func(pred_x,*popt), 'g', alpha=1, lw=1, label='Modelo Exponencial')\n",
    "ax.scatter(xx[61:], yy[61:],label=\"Datos Reales\",color=\"red\")\n",
    "ax.set_xlabel('Tiempo en dias')\n",
    "ax.set_ylabel('Numero de Personas')\n",
    "\n",
    "legend = ax.legend()"
   ]
  },
  {
   "cell_type": "markdown",
   "metadata": {},
   "source": [
    "# 2. Generar el SIR en base al modelo de probabilidad y obtener beta y gamma con una semana de prediccion."
   ]
  },
  {
   "cell_type": "code",
   "execution_count": 80,
   "metadata": {},
   "outputs": [
    {
     "data": {
      "image/png": "[encoded data removed]",
      "text/plain": [
       "<Figure size 432x288 with 1 Axes>"
      ]
     },
     "metadata": {
      "needs_background": "light"
     },
     "output_type": "display_data"
    }
   ],
   "source": [
    "y0 = list(df_t.iloc [:, 1]) # Total casos\n",
    "x0 = list(df_t.iloc [:, 0]) # Dias\n",
    "#modelo de probabilidad \n",
    "#semana de prediccion.\n",
    "for i in range(x0[-1], x0[-1]+8):\n",
    "    x0.append(i)\n",
    "    y0.append(int(y0[-1] + mediana))\n",
    "plt.plot(x0[61:], y0[61:])\n",
    "plt.show()\n",
    "dias=x0[61:]\n",
    "data=y0[61:]"
   ]
  },
  {
   "cell_type": "code",
   "execution_count": 81,
   "metadata": {},
   "outputs": [
    {
     "name": "stdout",
     "output_type": "stream",
     "text": [
      "Valor de Beta  0.039999998274153986\n",
      "Valor de Gamma  1e-08\n",
      "Valor de R0  3999999.8274153983\n"
     ]
    },
    {
     "data": {
      "image/png": "[encoded data removed]",
      "text/plain": [
       "<Figure size 1440x720 with 1 Axes>"
      ]
     },
     "metadata": {
      "needs_background": "light"
     },
     "output_type": "display_data"
    }
   ],
   "source": [
    "#Modelo SIR\n",
    "\n",
    "# 3. Implementar teniendo en cuenta los casos confirmados y recuperados.\n",
    "def loss(point, datos, s0, i0, r0):\n",
    "    size = len(datos)\n",
    "    beta, gamma = point\n",
    "    def SIR(t, y):\n",
    "        S = y[0]\n",
    "        I = y[1]\n",
    "        R = y[2]\n",
    "        return [-beta*S*I, beta*S*I-gamma*I, gamma*I]\n",
    "    solution = solve_ivp(SIR, [0, size], [s0,i0,r0], t_eval=np.arange(0, size, 1), vectorized=True)\n",
    "    return np.sqrt(np.mean((solution.y[1] - datos)**2))\n",
    "\n",
    "#Numero habitantes del Ecuador\n",
    "N=10000\n",
    "#casos confirmados\n",
    "i0=1\n",
    "#Recuperados\n",
    "r0=0\n",
    "#Resto de la poblacion\n",
    "s0= N - i0 - r0\n",
    "\n",
    "x = dias\n",
    "y = data\n",
    "datos=data\n",
    "optimal = minimize(loss, [0.001, 0.001], args=(datos,s0,i0, r0), method='L-BFGS-B', bounds=[(0.00000001,0.04), (0.00000001, 0.04)])   \n",
    "beta, gamma = optimal.x\n",
    "R00=(beta/gamma)\n",
    "\n",
    "print('Valor de Beta ',beta)\n",
    "print('Valor de Gamma ',gamma)\n",
    "print('Valor de R0 ',R00) \n",
    "\n",
    "new_index =y\n",
    "size = len(new_index)\n",
    "ea = np.concatenate((y, [None] * (size - len(y))))\n",
    "t = np.linspace(0, 500, 500)\n",
    "# Las ecuaciones diferenciales del modelo SIR..\n",
    "def deriv(y, t, beta, gamma):\n",
    "    S, I, R = y\n",
    "    dSdt = -beta * S * I \n",
    "    dIdt = beta * S * I  - gamma * I\n",
    "    dRdt = gamma * I\n",
    "    return dSdt, dIdt, dRdt\n",
    "\n",
    "# Vector de condiciones iniciales\n",
    "y0 = s0,i0,r0\n",
    "\n",
    "# Integre las ecuaciones SIR en la cuadrícula de tiempo, t. A traves de la funcion odeint()\n",
    "ret = odeint(deriv, y0, t, args=(beta, gamma))\n",
    "S, I, R = ret.T # Obtenicion de resultados\n",
    "ka=t[0:len(y)]\n",
    "\n",
    "fig = plt.figure(figsize=(20, 10))\n",
    "ax = fig.add_subplot(111,  axisbelow=True)\n",
    "ax.plot(t, S, 'b', alpha=1, lw=1, label='Suseptible de infeccion')\n",
    "ax.plot(t, I, 'r', alpha=1, lw=1, label='Infectados')\n",
    "ax.plot(t, R, 'g', alpha=1, lw=1, label='Recuperados')\n",
    "ax.plot(ka, ea, 'y', alpha=1, lw=1, label='confirmados')\n",
    "ax.set_xlabel('Tiempo en dias')\n",
    "ax.set_ylabel('Numero de Personas')\n",
    "\n",
    "legend = ax.legend()"
   ]
  },
  {
   "cell_type": "markdown",
   "metadata": {},
   "source": [
    "# 3. Retroceder un semana y comparar el modelo matematico vs probabilidad vs reales. Solo cargan los datos para generar los modelos menos 7 dias."
   ]
  },
  {
   "cell_type": "code",
   "execution_count": 65,
   "metadata": {
    "scrolled": true
   },
   "outputs": [
    {
     "name": "stdout",
     "output_type": "stream",
     "text": [
      "Modelo Probabilistico \n",
      "Prediccion en 7 dias:  53394\n",
      "\n",
      "Modelo Exponencial \n",
      "Prediccion en 7 dias:  307043\n",
      "\n",
      "Datos Reales\n",
      "En 7 dias:  180676.0\n"
     ]
    },
    {
     "data": {
      "application/vnd.plotly.v1+json": {
       "config": {
        "plotlyServerURL": "https://plot.ly"
       },
       "data": [
        {
         "mode": "markers",
         "name": "Datos Reales",
         "type": "scatter",
         "x": [
          126,
          127,
          128,
          129,
          130,
          131,
          132,
          133,
          134,
          135,
          136,
          137,
          138,
          139,
          140,
          141,
          142,
          143,
          144,
          145,
          146,
          147,
          148,
          149,
          150,
          151,
          152,
          153,
          154,
          155,
          156,
          157,
          158,
          159,
          160,
          161,
          162,
          163,
          164,
          165,
          166,
          167,
          168,
          169,
          170,
          171,
          172,
          173,
          174,
          175,
          176,
          177,
          178,
          179,
          180,
          181,
          182,
          183,
          184,
          185,
          186,
          187,
          188,
          189,
          190,
          191,
          192,
          193,
          194,
          195,
          196,
          197,
          198,
          199,
          200,
          201,
          202,
          203,
          204,
          205,
          206,
          207,
          208,
          209,
          210,
          211,
          212,
          213,
          214,
          215,
          216,
          217,
          218,
          219,
          220,
          221,
          222,
          223,
          224,
          225,
          226,
          227,
          228,
          229,
          230,
          231,
          232,
          233,
          234,
          235,
          236,
          237,
          238,
          239,
          240,
          241,
          242,
          243,
          244,
          245,
          246,
          247,
          248,
          249,
          250,
          251,
          252,
          253,
          254,
          255,
          256,
          257,
          258,
          259,
          260,
          261,
          262,
          263,
          264,
          265,
          266,
          267,
          268,
          269,
          270,
          271,
          272,
          273,
          274,
          275,
          276,
          277,
          278,
          279,
          280,
          281,
          282,
          283,
          284,
          285,
          286,
          287,
          288,
          289,
          290,
          291,
          292,
          293,
          294,
          295,
          296,
          297,
          298,
          299,
          300,
          301,
          302,
          303,
          304,
          305,
          306,
          307,
          308,
          309,
          310,
          311,
          312,
          313,
          314,
          315,
          316,
          317,
          318,
          319,
          320,
          321
         ],
         "y": [
          31881,
          29420,
          30298,
          28818,
          29071,
          29559,
          29509,
          30419,
          30486,
          30502,
          31467,
          32763,
          33182,
          33582,
          34151,
          34854,
          35306,
          35828,
          36258,
          36756,
          37355,
          37355,
          38103,
          38471,
          38571,
          38571,
          39098,
          39994,
          40414,
          40966,
          40966,
          41575,
          42728,
          43120,
          43378,
          43917,
          44440,
          44440,
          45778,
          46356,
          46751,
          47322,
          47943,
          48490,
          49097,
          49731,
          50183,
          50640,
          50640,
          51643,
          52334,
          53156,
          53856,
          54574,
          55255,
          55665,
          56432,
          58257,
          59468,
          60657,
          61535,
          61958,
          62380,
          63245,
          64221,
          65018,
          65801,
          67209,
          67870,
          68459,
          69570,
          70329,
          71365,
          72444,
          73382,
          74013,
          74620,
          76217,
          77257,
          78148,
          79049,
          80036,
          80694,
          81161,
          82279,
          83193,
          84370,
          85355,
          86232,
          86524,
          87041,
          87963,
          88866,
          90537,
          91969,
          93572,
          94459,
          94701,
          95563,
          97110,
          98343,
          99409,
          100688,
          101542,
          101751,
          102941,
          104475,
          105508,
          106481,
          107089,
          107769,
          108289,
          109030,
          110549,
          111219,
          112141,
          112906,
          113648,
          113767,
          114309,
          115457,
          116360,
          117175,
          118045,
          109784,
          110092,
          110757,
          112166,
          113206,
          114732,
          116451,
          118594,
          118911,
          119553,
          121525,
          122257,
          124129,
          125620,
          126419,
          126711,
          127643,
          129892,
          131146,
          132475,
          133981,
          134747,
          134965,
          135749,
          137047,
          138584,
          139534,
          140351,
          141034,
          141339,
          142056,
          143531,
          145045,
          145848,
          146828,
          147033,
          147315,
          148171,
          149083,
          150360,
          151659,
          152422,
          153289,
          153423,
          154115,
          155625,
          156451,
          158270,
          159614,
          161635,
          162178,
          163192,
          164908,
          166302,
          167147,
          168192,
          169194,
          169562,
          170110,
          171433,
          171783,
          172508,
          173486,
          174907,
          175269,
          175711,
          176630,
          177513,
          178674,
          179627,
          180295,
          180676
         ]
        },
        {
         "mode": "lines",
         "name": "Modelo Exponencial",
         "type": "scatter",
         "x": [
          126,
          127,
          128,
          129,
          130,
          131,
          132,
          133,
          134,
          135,
          136,
          137,
          138,
          139,
          140,
          141,
          142,
          143,
          144,
          145,
          146,
          147,
          148,
          149,
          150,
          151,
          152,
          153,
          154,
          155,
          156,
          157,
          158,
          159,
          160,
          161,
          162,
          163,
          164,
          165,
          166,
          167,
          168,
          169,
          170,
          171,
          172,
          173,
          174,
          175,
          176,
          177,
          178,
          179,
          180,
          181,
          182,
          183,
          184,
          185,
          186,
          187,
          188,
          189,
          190,
          191,
          192,
          193,
          194,
          195,
          196,
          197,
          198,
          199,
          200,
          201,
          202,
          203,
          204,
          205,
          206,
          207,
          208,
          209,
          210,
          211,
          212,
          213,
          214,
          215,
          216,
          217,
          218,
          219,
          220,
          221,
          222,
          223,
          224,
          225,
          226,
          227,
          228,
          229,
          230,
          231,
          232,
          233,
          234,
          235,
          236,
          237,
          238,
          239,
          240,
          241,
          242,
          243,
          244,
          245,
          246,
          247,
          248,
          249,
          250,
          251,
          252,
          253,
          254,
          255,
          256,
          257,
          258,
          259,
          260,
          261,
          262,
          263,
          264,
          265,
          266,
          267,
          268,
          269,
          270,
          271,
          272,
          273,
          274,
          275,
          276,
          277,
          278,
          279,
          280,
          281,
          282,
          283,
          284,
          285,
          286,
          287,
          288,
          289,
          290,
          291,
          292,
          293,
          294,
          295,
          296,
          297,
          298,
          299,
          300,
          301,
          302,
          303,
          304,
          305,
          306,
          307,
          308,
          309,
          310,
          311,
          312,
          313,
          314,
          315,
          316,
          317,
          318,
          319,
          320,
          321
         ],
         "y": [
          28612.392788980957,
          28967.913298702006,
          29327.746982193436,
          29691.946166866655,
          30060.563814969057,
          30433.653531285883,
          30811.269570935452,
          31193.46684725902,
          31580.300939806344,
          31971.828102418098,
          32368.105271406414,
          32769.190073834565,
          33175.1408358972,
          33586.016591402185,
          34001.877090355374,
          34422.7828076495,
          34848.794951858516,
          35279.97547413864,
          35716.387077237305,
          36158.0932246115,
          36605.15814965668,
          37057.64686504768,
          37515.6251721929,
          37979.15967080324,
          38448.31776857708,
          38923.167691002796,
          39403.778491280216,
          39890.220060362364,
          40382.5631371191,
          40880.87931862403,
          41385.24107056628,
          41895.72173778845,
          42412.395554952614,
          42935.3376573355,
          43464.624091754806,
          44000.331827628,
          44542.538768165294,
          45091.3237616984,
          45646.766613146785,
          46208.94809562295,
          46777.949962178536,
          47353.854957692995,
          47936.74683090641,
          48526.710346598324,
          49123.83129791428,
          49728.1965188421,
          50339.89389683926,
          50959.01238561355,
          51585.64201805896,
          52219.87391934826,
          52861.80032018451,
          53511.5145702134,
          54169.11115159831,
          54834.68569275984,
          55508.33498228238,
          56190.15698298912,
          56880.25084618793,
          57578.71692609003,
          58285.65679440371,
          59001.173255104775,
          59725.370359386725,
          60458.353420791726,
          61200.229030525574,
          61951.105072958235,
          62711.09074131255,
          63480.29655354319,
          64258.83436840835,
          65046.81740173635,
          65844.36024288955,
          66651.57887142821,
          67468.59067397616,
          68295.5144612915,
          69132.47048554405,
          69979.5804578026,
          70836.96756573424,
          71704.7564915186,
          72583.0734299789,
          73472.04610693382,
          74371.80379777115,
          75282.4773462474,
          76204.19918351507,
          77137.10334738102,
          78081.32550179845,
          79037.00295659516,
          80004.27468744139,
          80983.28135605984,
          81974.16533068079,
          82977.07070674545,
          83992.14332786053,
          85019.53080700689,
          86059.38254800574,
          87111.84976724486,
          88177.08551566889,
          89255.2447010361,
          90346.48411044515,
          91450.96243313538,
          92568.84028356349,
          93700.28022476025,
          94845.44679197072,
          96004.50651658098,
          97177.62795033547,
          98364.98168984785,
          99566.74040140936,
          100783.07884609826,
          102014.17390519363,
          103260.20460589771,
          104521.35214737026,
          105797.79992707871,
          107089.7335674679,
          108397.34094295379,
          109720.81220724409,
          111060.3398209908,
          112416.11857977795,
          113788.34564244896,
          115177.22055977782,
          116582.94530348797,
          118005.72429562305,
          119445.76443827446,
          120903.2751436691,
          122378.4683646224,
          123871.55862536075,
          125382.76305271771,
          126912.30140770912,
          128460.39611749063,
          130027.27230770356,
          131613.15783521286,
          133218.2833212423,
          134842.88218491164,
          136487.19067718065,
          138151.44791520515,
          139835.89591710948,
          141540.77963718123,
          143266.3470014926,
          145012.8489439543,
          146780.53944280636,
          148569.6755575521,
          150380.51746634,
          152213.3285037991,
          154068.37519933327,
          155945.9273158805,
          157846.25788914168,
          159769.6432672862,
          161716.36315113862,
          163686.70063485304,
          165680.94224708097,
          167699.37799263874,
          169742.30139468014,
          171810.00953738115,
          173902.80310914194,
          176020.98644631353,
          178164.8675774547,
          180334.75826812568,
          182530.9740662256,
          184753.83434787983,
          187003.66236388395,
          189280.785286711,
          191585.53425808976,
          193918.2444371594,
          196279.25504920876,
          198668.90943500685,
          201087.555100732,
          203535.54376850626,
          206013.2314275436,
          208520.97838591805,
          211059.14932295997,
          213628.11334228847,
          216228.24402548664,
          218859.91948642815,
          221523.52242626305,
          224219.44018907074,
          226948.06481818767,
          229709.7931132192,
          232505.02668774183,
          235334.1720277072,
          238197.64055055307,
          241095.84866503254,
          244029.21783176836,
          246998.1746245422,
          250003.15079232783,
          253044.5833220761,
          256122.91450226225,
          259238.59198720407,
          262392.0688621603,
          265583.8037092184,
          268814.2606739826,
          272083.9095330703,
          275393.22576242714,
          278742.69060647173,
          282132.7911480784,
          285564.0203794096,
          289036.87727360724,
          292551.8668573538,
          296109.50028431404,
          299710.2949094675,
          303354.77436434274,
          307043.4686331644
         ]
        },
        {
         "mode": "lines",
         "name": "Modelo Probabilistico",
         "type": "scatter",
         "x": [
          126,
          127,
          128,
          129,
          130,
          131,
          132,
          133,
          134,
          135,
          136,
          137,
          138,
          139,
          140,
          141,
          142,
          143,
          144,
          145,
          146,
          147,
          148,
          149,
          150,
          151,
          152,
          153,
          154,
          155,
          156,
          157,
          158,
          159,
          160,
          161,
          162,
          163,
          164,
          165,
          166,
          167,
          167,
          168,
          169,
          170,
          171,
          172,
          173,
          174
         ],
         "y": [
          31881,
          29420,
          30298,
          28818,
          29071,
          29559,
          29509,
          30419,
          30486,
          30502,
          31467,
          32763,
          33182,
          33582,
          34151,
          34854,
          35306,
          35828,
          36258,
          36756,
          37355,
          37355,
          38103,
          38471,
          38571,
          38571,
          39098,
          39994,
          40414,
          40966,
          40966,
          41575,
          42728,
          43120,
          43378,
          43917,
          44440,
          44440,
          45778,
          46356,
          46751,
          47322,
          48081,
          48840,
          49599,
          50358,
          51117,
          51876,
          52635,
          53394
         ]
        }
       ],
       "layout": {
        "template": {
         "data": {
          "bar": [
           {
            "error_x": {
             "color": "#2a3f5f"
            },
            "error_y": {
             "color": "#2a3f5f"
            },
            "marker": {
             "line": {
              "color": "#E5ECF6",
              "width": 0.5
             }
            },
            "type": "bar"
           }
          ],
          "barpolar": [
           {
            "marker": {
             "line": {
              "color": "#E5ECF6",
              "width": 0.5
             }
            },
            "type": "barpolar"
           }
          ],
          "carpet": [
           {
            "aaxis": {
             "endlinecolor": "#2a3f5f",
             "gridcolor": "white",
             "linecolor": "white",
             "minorgridcolor": "white",
             "startlinecolor": "#2a3f5f"
            },
            "baxis": {
             "endlinecolor": "#2a3f5f",
             "gridcolor": "white",
             "linecolor": "white",
             "minorgridcolor": "white",
             "startlinecolor": "#2a3f5f"
            },
            "type": "carpet"
           }
          ],
          "choropleth": [
           {
            "colorbar": {
             "outlinewidth": 0,
             "ticks": ""
            },
            "type": "choropleth"
           }
          ],
          "contour": [
           {
            "colorbar": {
             "outlinewidth": 0,
             "ticks": ""
            },
            "colorscale": [
             [
              0,
              "#0d0887"
             ],
             [
              0.1111111111111111,
              "#46039f"
             ],
             [
              0.2222222222222222,
              "#7201a8"
             ],
             [
              0.3333333333333333,
              "#9c179e"
             ],
             [
              0.4444444444444444,
              "#bd3786"
             ],
             [
              0.5555555555555556,
              "#d8576b"
             ],
             [
              0.6666666666666666,
              "#ed7953"
             ],
             [
              0.7777777777777778,
              "#fb9f3a"
             ],
             [
              0.8888888888888888,
              "#fdca26"
             ],
             [
              1,
              "#f0f921"
             ]
            ],
            "type": "contour"
           }
          ],
          "contourcarpet": [
           {
            "colorbar": {
             "outlinewidth": 0,
             "ticks": ""
            },
            "type": "contourcarpet"
           }
          ],
          "heatmap": [
           {
            "colorbar": {
             "outlinewidth": 0,
             "ticks": ""
            },
            "colorscale": [
             [
              0,
              "#0d0887"
             ],
             [
              0.1111111111111111,
              "#46039f"
             ],
             [
              0.2222222222222222,
              "#7201a8"
             ],
             [
              0.3333333333333333,
              "#9c179e"
             ],
             [
              0.4444444444444444,
              "#bd3786"
             ],
             [
              0.5555555555555556,
              "#d8576b"
             ],
             [
              0.6666666666666666,
              "#ed7953"
             ],
             [
              0.7777777777777778,
              "#fb9f3a"
             ],
             [
              0.8888888888888888,
              "#fdca26"
             ],
             [
              1,
              "#f0f921"
             ]
            ],
            "type": "heatmap"
           }
          ],
          "heatmapgl": [
           {
            "colorbar": {
             "outlinewidth": 0,
             "ticks": ""
            },
            "colorscale": [
             [
              0,
              "#0d0887"
             ],
             [
              0.1111111111111111,
              "#46039f"
             ],
             [
              0.2222222222222222,
              "#7201a8"
             ],
             [
              0.3333333333333333,
              "#9c179e"
             ],
             [
              0.4444444444444444,
              "#bd3786"
             ],
             [
              0.5555555555555556,
              "#d8576b"
             ],
             [
              0.6666666666666666,
              "#ed7953"
             ],
             [
              0.7777777777777778,
              "#fb9f3a"
             ],
             [
              0.8888888888888888,
              "#fdca26"
             ],
             [
              1,
              "#f0f921"
             ]
            ],
            "type": "heatmapgl"
           }
          ],
          "histogram": [
           {
            "marker": {
             "colorbar": {
              "outlinewidth": 0,
              "ticks": ""
             }
            },
            "type": "histogram"
           }
          ],
          "histogram2d": [
           {
            "colorbar": {
             "outlinewidth": 0,
             "ticks": ""
            },
            "colorscale": [
             [
              0,
              "#0d0887"
             ],
             [
              0.1111111111111111,
              "#46039f"
             ],
             [
              0.2222222222222222,
              "#7201a8"
             ],
             [
              0.3333333333333333,
              "#9c179e"
             ],
             [
              0.4444444444444444,
              "#bd3786"
             ],
             [
              0.5555555555555556,
              "#d8576b"
             ],
             [
              0.6666666666666666,
              "#ed7953"
             ],
             [
              0.7777777777777778,
              "#fb9f3a"
             ],
             [
              0.8888888888888888,
              "#fdca26"
             ],
             [
              1,
              "#f0f921"
             ]
            ],
            "type": "histogram2d"
           }
          ],
          "histogram2dcontour": [
           {
            "colorbar": {
             "outlinewidth": 0,
             "ticks": ""
            },
            "colorscale": [
             [
              0,
              "#0d0887"
             ],
             [
              0.1111111111111111,
              "#46039f"
             ],
             [
              0.2222222222222222,
              "#7201a8"
             ],
             [
              0.3333333333333333,
              "#9c179e"
             ],
             [
              0.4444444444444444,
              "#bd3786"
             ],
             [
              0.5555555555555556,
              "#d8576b"
             ],
             [
              0.6666666666666666,
              "#ed7953"
             ],
             [
              0.7777777777777778,
              "#fb9f3a"
             ],
             [
              0.8888888888888888,
              "#fdca26"
             ],
             [
              1,
              "#f0f921"
             ]
            ],
            "type": "histogram2dcontour"
           }
          ],
          "mesh3d": [
           {
            "colorbar": {
             "outlinewidth": 0,
             "ticks": ""
            },
            "type": "mesh3d"
           }
          ],
          "parcoords": [
           {
            "line": {
             "colorbar": {
              "outlinewidth": 0,
              "ticks": ""
             }
            },
            "type": "parcoords"
           }
          ],
          "pie": [
           {
            "automargin": true,
            "type": "pie"
           }
          ],
          "scatter": [
           {
            "marker": {
             "colorbar": {
              "outlinewidth": 0,
              "ticks": ""
             }
            },
            "type": "scatter"
           }
          ],
          "scatter3d": [
           {
            "line": {
             "colorbar": {
              "outlinewidth": 0,
              "ticks": ""
             }
            },
            "marker": {
             "colorbar": {
              "outlinewidth": 0,
              "ticks": ""
             }
            },
            "type": "scatter3d"
           }
          ],
          "scattercarpet": [
           {
            "marker": {
             "colorbar": {
              "outlinewidth": 0,
              "ticks": ""
             }
            },
            "type": "scattercarpet"
           }
          ],
          "scattergeo": [
           {
            "marker": {
             "colorbar": {
              "outlinewidth": 0,
              "ticks": ""
             }
            },
            "type": "scattergeo"
           }
          ],
          "scattergl": [
           {
            "marker": {
             "colorbar": {
              "outlinewidth": 0,
              "ticks": ""
             }
            },
            "type": "scattergl"
           }
          ],
          "scattermapbox": [
           {
            "marker": {
             "colorbar": {
              "outlinewidth": 0,
              "ticks": ""
             }
            },
            "type": "scattermapbox"
           }
          ],
          "scatterpolar": [
           {
            "marker": {
             "colorbar": {
              "outlinewidth": 0,
              "ticks": ""
             }
            },
            "type": "scatterpolar"
           }
          ],
          "scatterpolargl": [
           {
            "marker": {
             "colorbar": {
              "outlinewidth": 0,
              "ticks": ""
             }
            },
            "type": "scatterpolargl"
           }
          ],
          "scatterternary": [
           {
            "marker": {
             "colorbar": {
              "outlinewidth": 0,
              "ticks": ""
             }
            },
            "type": "scatterternary"
           }
          ],
          "surface": [
           {
            "colorbar": {
             "outlinewidth": 0,
             "ticks": ""
            },
            "colorscale": [
             [
              0,
              "#0d0887"
             ],
             [
              0.1111111111111111,
              "#46039f"
             ],
             [
              0.2222222222222222,
              "#7201a8"
             ],
             [
              0.3333333333333333,
              "#9c179e"
             ],
             [
              0.4444444444444444,
              "#bd3786"
             ],
             [
              0.5555555555555556,
              "#d8576b"
             ],
             [
              0.6666666666666666,
              "#ed7953"
             ],
             [
              0.7777777777777778,
              "#fb9f3a"
             ],
             [
              0.8888888888888888,
              "#fdca26"
             ],
             [
              1,
              "#f0f921"
             ]
            ],
            "type": "surface"
           }
          ],
          "table": [
           {
            "cells": {
             "fill": {
              "color": "#EBF0F8"
             },
             "line": {
              "color": "white"
             }
            },
            "header": {
             "fill": {
              "color": "#C8D4E3"
             },
             "line": {
              "color": "white"
             }
            },
            "type": "table"
           }
          ]
         },
         "layout": {
          "annotationdefaults": {
           "arrowcolor": "#2a3f5f",
           "arrowhead": 0,
           "arrowwidth": 1
          },
          "coloraxis": {
           "colorbar": {
            "outlinewidth": 0,
            "ticks": ""
           }
          },
          "colorscale": {
           "diverging": [
            [
             0,
             "#8e0152"
            ],
            [
             0.1,
             "#c51b7d"
            ],
            [
             0.2,
             "#de77ae"
            ],
            [
             0.3,
             "#f1b6da"
            ],
            [
             0.4,
             "#fde0ef"
            ],
            [
             0.5,
             "#f7f7f7"
            ],
            [
             0.6,
             "#e6f5d0"
            ],
            [
             0.7,
             "#b8e186"
            ],
            [
             0.8,
             "#7fbc41"
            ],
            [
             0.9,
             "#4d9221"
            ],
            [
             1,
             "#276419"
            ]
           ],
           "sequential": [
            [
             0,
             "#0d0887"
            ],
            [
             0.1111111111111111,
             "#46039f"
            ],
            [
             0.2222222222222222,
             "#7201a8"
            ],
            [
             0.3333333333333333,
             "#9c179e"
            ],
            [
             0.4444444444444444,
             "#bd3786"
            ],
            [
             0.5555555555555556,
             "#d8576b"
            ],
            [
             0.6666666666666666,
             "#ed7953"
            ],
            [
             0.7777777777777778,
             "#fb9f3a"
            ],
            [
             0.8888888888888888,
             "#fdca26"
            ],
            [
             1,
             "#f0f921"
            ]
           ],
           "sequentialminus": [
            [
             0,
             "#0d0887"
            ],
            [
             0.1111111111111111,
             "#46039f"
            ],
            [
             0.2222222222222222,
             "#7201a8"
            ],
            [
             0.3333333333333333,
             "#9c179e"
            ],
            [
             0.4444444444444444,
             "#bd3786"
            ],
            [
             0.5555555555555556,
             "#d8576b"
            ],
            [
             0.6666666666666666,
             "#ed7953"
            ],
            [
             0.7777777777777778,
             "#fb9f3a"
            ],
            [
             0.8888888888888888,
             "#fdca26"
            ],
            [
             1,
             "#f0f921"
            ]
           ]
          },
          "colorway": [
           "#636efa",
           "#EF553B",
           "#00cc96",
           "#ab63fa",
           "#FFA15A",
           "#19d3f3",
           "#FF6692",
           "#B6E880",
           "#FF97FF",
           "#FECB52"
          ],
          "font": {
           "color": "#2a3f5f"
          },
          "geo": {
           "bgcolor": "white",
           "lakecolor": "white",
           "landcolor": "#E5ECF6",
           "showlakes": true,
           "showland": true,
           "subunitcolor": "white"
          },
          "hoverlabel": {
           "align": "left"
          },
          "hovermode": "closest",
          "mapbox": {
           "style": "light"
          },
          "paper_bgcolor": "white",
          "plot_bgcolor": "#E5ECF6",
          "polar": {
           "angularaxis": {
            "gridcolor": "white",
            "linecolor": "white",
            "ticks": ""
           },
           "bgcolor": "#E5ECF6",
           "radialaxis": {
            "gridcolor": "white",
            "linecolor": "white",
            "ticks": ""
           }
          },
          "scene": {
           "xaxis": {
            "backgroundcolor": "#E5ECF6",
            "gridcolor": "white",
            "gridwidth": 2,
            "linecolor": "white",
            "showbackground": true,
            "ticks": "",
            "zerolinecolor": "white"
           },
           "yaxis": {
            "backgroundcolor": "#E5ECF6",
            "gridcolor": "white",
            "gridwidth": 2,
            "linecolor": "white",
            "showbackground": true,
            "ticks": "",
            "zerolinecolor": "white"
           },
           "zaxis": {
            "backgroundcolor": "#E5ECF6",
            "gridcolor": "white",
            "gridwidth": 2,
            "linecolor": "white",
            "showbackground": true,
            "ticks": "",
            "zerolinecolor": "white"
           }
          },
          "shapedefaults": {
           "line": {
            "color": "#2a3f5f"
           }
          },
          "ternary": {
           "aaxis": {
            "gridcolor": "white",
            "linecolor": "white",
            "ticks": ""
           },
           "baxis": {
            "gridcolor": "white",
            "linecolor": "white",
            "ticks": ""
           },
           "bgcolor": "#E5ECF6",
           "caxis": {
            "gridcolor": "white",
            "linecolor": "white",
            "ticks": ""
           }
          },
          "title": {
           "x": 0.05
          },
          "xaxis": {
           "automargin": true,
           "gridcolor": "white",
           "linecolor": "white",
           "ticks": "",
           "title": {
            "standoff": 15
           },
           "zerolinecolor": "white",
           "zerolinewidth": 2
          },
          "yaxis": {
           "automargin": true,
           "gridcolor": "white",
           "linecolor": "white",
           "ticks": "",
           "title": {
            "standoff": 15
           },
           "zerolinecolor": "white",
           "zerolinewidth": 2
          }
         }
        }
       }
      },
      "text/html": [
       "<div>                            <div id=\"52126173-6662-428c-b7bc-8e05262cc050\" class=\"plotly-graph-div\" style=\"height:525px; width:100%;\"></div>            <script type=\"text/javascript\">                require([\"plotly\"], function(Plotly) {                    window.PLOTLYENV=window.PLOTLYENV || {};                                    if (document.getElementById(\"52126173-6662-428c-b7bc-8e05262cc050\")) {                    Plotly.newPlot(                        \"52126173-6662-428c-b7bc-8e05262cc050\",                        [{\"mode\": \"markers\", \"name\": \"Datos Reales\", \"type\": \"scatter\", \"x\": [126, 127, 128, 129, 130, 131, 132, 133, 134, 135, 136, 137, 138, 139, 140, 141, 142, 143, 144, 145, 146, 147, 148, 149, 150, 151, 152, 153, 154, 155, 156, 157, 158, 159, 160, 161, 162, 163, 164, 165, 166, 167, 168, 169, 170, 171, 172, 173, 174, 175, 176, 177, 178, 179, 180, 181, 182, 183, 184, 185, 186, 187, 188, 189, 190, 191, 192, 193, 194, 195, 196, 197, 198, 199, 200, 201, 202, 203, 204, 205, 206, 207, 208, 209, 210, 211, 212, 213, 214, 215, 216, 217, 218, 219, 220, 221, 222, 223, 224, 225, 226, 227, 228, 229, 230, 231, 232, 233, 234, 235, 236, 237, 238, 239, 240, 241, 242, 243, 244, 245, 246, 247, 248, 249, 250, 251, 252, 253, 254, 255, 256, 257, 258, 259, 260, 261, 262, 263, 264, 265, 266, 267, 268, 269, 270, 271, 272, 273, 274, 275, 276, 277, 278, 279, 280, 281, 282, 283, 284, 285, 286, 287, 288, 289, 290, 291, 292, 293, 294, 295, 296, 297, 298, 299, 300, 301, 302, 303, 304, 305, 306, 307, 308, 309, 310, 311, 312, 313, 314, 315, 316, 317, 318, 319, 320, 321], \"y\": [31881.0, 29420.0, 30298.0, 28818.0, 29071.0, 29559.0, 29509.0, 30419.0, 30486.0, 30502.0, 31467.0, 32763.0, 33182.0, 33582.0, 34151.0, 34854.0, 35306.0, 35828.0, 36258.0, 36756.0, 37355.0, 37355.0, 38103.0, 38471.0, 38571.0, 38571.0, 39098.0, 39994.0, 40414.0, 40966.0, 40966.0, 41575.0, 42728.0, 43120.0, 43378.0, 43917.0, 44440.0, 44440.0, 45778.0, 46356.0, 46751.0, 47322.0, 47943.0, 48490.0, 49097.0, 49731.0, 50183.0, 50640.0, 50640.0, 51643.0, 52334.0, 53156.0, 53856.0, 54574.0, 55255.0, 55665.0, 56432.0, 58257.0, 59468.0, 60657.0, 61535.0, 61958.0, 62380.0, 63245.0, 64221.0, 65018.0, 65801.0, 67209.0, 67870.0, 68459.0, 69570.0, 70329.0, 71365.0, 72444.0, 73382.0, 74013.0, 74620.0, 76217.0, 77257.0, 78148.0, 79049.0, 80036.0, 80694.0, 81161.0, 82279.0, 83193.0, 84370.0, 85355.0, 86232.0, 86524.0, 87041.0, 87963.0, 88866.0, 90537.0, 91969.0, 93572.0, 94459.0, 94701.0, 95563.0, 97110.0, 98343.0, 99409.0, 100688.0, 101542.0, 101751.0, 102941.0, 104475.0, 105508.0, 106481.0, 107089.0, 107769.0, 108289.0, 109030.0, 110549.0, 111219.0, 112141.0, 112906.0, 113648.0, 113767.0, 114309.0, 115457.0, 116360.0, 117175.0, 118045.0, 109784.0, 110092.0, 110757.0, 112166.0, 113206.0, 114732.0, 116451.0, 118594.0, 118911.0, 119553.0, 121525.0, 122257.0, 124129.0, 125620.0, 126419.0, 126711.0, 127643.0, 129892.0, 131146.0, 132475.0, 133981.0, 134747.0, 134965.0, 135749.0, 137047.0, 138584.0, 139534.0, 140351.0, 141034.0, 141339.0, 142056.0, 143531.0, 145045.0, 145848.0, 146828.0, 147033.0, 147315.0, 148171.0, 149083.0, 150360.0, 151659.0, 152422.0, 153289.0, 153423.0, 154115.0, 155625.0, 156451.0, 158270.0, 159614.0, 161635.0, 162178.0, 163192.0, 164908.0, 166302.0, 167147.0, 168192.0, 169194.0, 169562.0, 170110.0, 171433.0, 171783.0, 172508.0, 173486.0, 174907.0, 175269.0, 175711.0, 176630.0, 177513.0, 178674.0, 179627.0, 180295.0, 180676.0]}, {\"mode\": \"lines\", \"name\": \"Modelo Exponencial\", \"type\": \"scatter\", \"x\": [126, 127, 128, 129, 130, 131, 132, 133, 134, 135, 136, 137, 138, 139, 140, 141, 142, 143, 144, 145, 146, 147, 148, 149, 150, 151, 152, 153, 154, 155, 156, 157, 158, 159, 160, 161, 162, 163, 164, 165, 166, 167, 168, 169, 170, 171, 172, 173, 174, 175, 176, 177, 178, 179, 180, 181, 182, 183, 184, 185, 186, 187, 188, 189, 190, 191, 192, 193, 194, 195, 196, 197, 198, 199, 200, 201, 202, 203, 204, 205, 206, 207, 208, 209, 210, 211, 212, 213, 214, 215, 216, 217, 218, 219, 220, 221, 222, 223, 224, 225, 226, 227, 228, 229, 230, 231, 232, 233, 234, 235, 236, 237, 238, 239, 240, 241, 242, 243, 244, 245, 246, 247, 248, 249, 250, 251, 252, 253, 254, 255, 256, 257, 258, 259, 260, 261, 262, 263, 264, 265, 266, 267, 268, 269, 270, 271, 272, 273, 274, 275, 276, 277, 278, 279, 280, 281, 282, 283, 284, 285, 286, 287, 288, 289, 290, 291, 292, 293, 294, 295, 296, 297, 298, 299, 300, 301, 302, 303, 304, 305, 306, 307, 308, 309, 310, 311, 312, 313, 314, 315, 316, 317, 318, 319, 320, 321], \"y\": [28612.392788980957, 28967.913298702006, 29327.746982193436, 29691.946166866655, 30060.563814969057, 30433.653531285883, 30811.269570935452, 31193.46684725902, 31580.300939806344, 31971.828102418098, 32368.105271406414, 32769.190073834565, 33175.1408358972, 33586.016591402185, 34001.877090355374, 34422.7828076495, 34848.794951858516, 35279.97547413864, 35716.387077237305, 36158.0932246115, 36605.15814965668, 37057.64686504768, 37515.6251721929, 37979.15967080324, 38448.31776857708, 38923.167691002796, 39403.778491280216, 39890.220060362364, 40382.5631371191, 40880.87931862403, 41385.24107056628, 41895.72173778845, 42412.395554952614, 42935.3376573355, 43464.624091754806, 44000.331827628, 44542.538768165294, 45091.3237616984, 45646.766613146785, 46208.94809562295, 46777.949962178536, 47353.854957692995, 47936.74683090641, 48526.710346598324, 49123.83129791428, 49728.1965188421, 50339.89389683926, 50959.01238561355, 51585.64201805896, 52219.87391934826, 52861.80032018451, 53511.5145702134, 54169.11115159831, 54834.68569275984, 55508.33498228238, 56190.15698298912, 56880.25084618793, 57578.71692609003, 58285.65679440371, 59001.173255104775, 59725.370359386725, 60458.353420791726, 61200.229030525574, 61951.105072958235, 62711.09074131255, 63480.29655354319, 64258.83436840835, 65046.81740173635, 65844.36024288955, 66651.57887142821, 67468.59067397616, 68295.5144612915, 69132.47048554405, 69979.5804578026, 70836.96756573424, 71704.7564915186, 72583.0734299789, 73472.04610693382, 74371.80379777115, 75282.4773462474, 76204.19918351507, 77137.10334738102, 78081.32550179845, 79037.00295659516, 80004.27468744139, 80983.28135605984, 81974.16533068079, 82977.07070674545, 83992.14332786053, 85019.53080700689, 86059.38254800574, 87111.84976724486, 88177.08551566889, 89255.2447010361, 90346.48411044515, 91450.96243313538, 92568.84028356349, 93700.28022476025, 94845.44679197072, 96004.50651658098, 97177.62795033547, 98364.98168984785, 99566.74040140936, 100783.07884609826, 102014.17390519363, 103260.20460589771, 104521.35214737026, 105797.79992707871, 107089.7335674679, 108397.34094295379, 109720.81220724409, 111060.3398209908, 112416.11857977795, 113788.34564244896, 115177.22055977782, 116582.94530348797, 118005.72429562305, 119445.76443827446, 120903.2751436691, 122378.4683646224, 123871.55862536075, 125382.76305271771, 126912.30140770912, 128460.39611749063, 130027.27230770356, 131613.15783521286, 133218.2833212423, 134842.88218491164, 136487.19067718065, 138151.44791520515, 139835.89591710948, 141540.77963718123, 143266.3470014926, 145012.8489439543, 146780.53944280636, 148569.6755575521, 150380.51746634, 152213.3285037991, 154068.37519933327, 155945.9273158805, 157846.25788914168, 159769.6432672862, 161716.36315113862, 163686.70063485304, 165680.94224708097, 167699.37799263874, 169742.30139468014, 171810.00953738115, 173902.80310914194, 176020.98644631353, 178164.8675774547, 180334.75826812568, 182530.9740662256, 184753.83434787983, 187003.66236388395, 189280.785286711, 191585.53425808976, 193918.2444371594, 196279.25504920876, 198668.90943500685, 201087.555100732, 203535.54376850626, 206013.2314275436, 208520.97838591805, 211059.14932295997, 213628.11334228847, 216228.24402548664, 218859.91948642815, 221523.52242626305, 224219.44018907074, 226948.06481818767, 229709.7931132192, 232505.02668774183, 235334.1720277072, 238197.64055055307, 241095.84866503254, 244029.21783176836, 246998.1746245422, 250003.15079232783, 253044.5833220761, 256122.91450226225, 259238.59198720407, 262392.0688621603, 265583.8037092184, 268814.2606739826, 272083.9095330703, 275393.22576242714, 278742.69060647173, 282132.7911480784, 285564.0203794096, 289036.87727360724, 292551.8668573538, 296109.50028431404, 299710.2949094675, 303354.77436434274, 307043.4686331644]}, {\"mode\": \"lines\", \"name\": \"Modelo Probabilistico\", \"type\": \"scatter\", \"x\": [126, 127, 128, 129, 130, 131, 132, 133, 134, 135, 136, 137, 138, 139, 140, 141, 142, 143, 144, 145, 146, 147, 148, 149, 150, 151, 152, 153, 154, 155, 156, 157, 158, 159, 160, 161, 162, 163, 164, 165, 166, 167, 167, 168, 169, 170, 171, 172, 173, 174], \"y\": [31881.0, 29420.0, 30298.0, 28818.0, 29071.0, 29559.0, 29509.0, 30419.0, 30486.0, 30502.0, 31467.0, 32763.0, 33182.0, 33582.0, 34151.0, 34854.0, 35306.0, 35828.0, 36258.0, 36756.0, 37355.0, 37355.0, 38103.0, 38471.0, 38571.0, 38571.0, 39098.0, 39994.0, 40414.0, 40966.0, 40966.0, 41575.0, 42728.0, 43120.0, 43378.0, 43917.0, 44440.0, 44440.0, 45778.0, 46356.0, 46751.0, 47322.0, 48081, 48840, 49599, 50358, 51117, 51876, 52635, 53394]}],                        {\"template\": {\"data\": {\"bar\": [{\"error_x\": {\"color\": \"#2a3f5f\"}, \"error_y\": {\"color\": \"#2a3f5f\"}, \"marker\": {\"line\": {\"color\": \"#E5ECF6\", \"width\": 0.5}}, \"type\": \"bar\"}], \"barpolar\": [{\"marker\": {\"line\": {\"color\": \"#E5ECF6\", \"width\": 0.5}}, \"type\": \"barpolar\"}], \"carpet\": [{\"aaxis\": {\"endlinecolor\": \"#2a3f5f\", \"gridcolor\": \"white\", \"linecolor\": \"white\", \"minorgridcolor\": \"white\", \"startlinecolor\": \"#2a3f5f\"}, \"baxis\": {\"endlinecolor\": \"#2a3f5f\", \"gridcolor\": \"white\", \"linecolor\": \"white\", \"minorgridcolor\": \"white\", \"startlinecolor\": \"#2a3f5f\"}, \"type\": \"carpet\"}], \"choropleth\": [{\"colorbar\": {\"outlinewidth\": 0, \"ticks\": \"\"}, \"type\": \"choropleth\"}], \"contour\": [{\"colorbar\": {\"outlinewidth\": 0, \"ticks\": \"\"}, \"colorscale\": [[0.0, \"#0d0887\"], [0.1111111111111111, \"#46039f\"], [0.2222222222222222, \"#7201a8\"], [0.3333333333333333, \"#9c179e\"], [0.4444444444444444, \"#bd3786\"], [0.5555555555555556, \"#d8576b\"], [0.6666666666666666, \"#ed7953\"], [0.7777777777777778, \"#fb9f3a\"], [0.8888888888888888, \"#fdca26\"], [1.0, \"#f0f921\"]], \"type\": \"contour\"}], \"contourcarpet\": [{\"colorbar\": {\"outlinewidth\": 0, \"ticks\": \"\"}, \"type\": \"contourcarpet\"}], \"heatmap\": [{\"colorbar\": {\"outlinewidth\": 0, \"ticks\": \"\"}, \"colorscale\": [[0.0, \"#0d0887\"], [0.1111111111111111, \"#46039f\"], [0.2222222222222222, \"#7201a8\"], [0.3333333333333333, \"#9c179e\"], [0.4444444444444444, \"#bd3786\"], [0.5555555555555556, \"#d8576b\"], [0.6666666666666666, \"#ed7953\"], [0.7777777777777778, \"#fb9f3a\"], [0.8888888888888888, \"#fdca26\"], [1.0, \"#f0f921\"]], \"type\": \"heatmap\"}], \"heatmapgl\": [{\"colorbar\": {\"outlinewidth\": 0, \"ticks\": \"\"}, \"colorscale\": [[0.0, \"#0d0887\"], [0.1111111111111111, \"#46039f\"], [0.2222222222222222, \"#7201a8\"], [0.3333333333333333, \"#9c179e\"], [0.4444444444444444, \"#bd3786\"], [0.5555555555555556, \"#d8576b\"], [0.6666666666666666, \"#ed7953\"], [0.7777777777777778, \"#fb9f3a\"], [0.8888888888888888, \"#fdca26\"], [1.0, \"#f0f921\"]], \"type\": \"heatmapgl\"}], \"histogram\": [{\"marker\": {\"colorbar\": {\"outlinewidth\": 0, \"ticks\": \"\"}}, \"type\": \"histogram\"}], \"histogram2d\": [{\"colorbar\": {\"outlinewidth\": 0, \"ticks\": \"\"}, \"colorscale\": [[0.0, \"#0d0887\"], [0.1111111111111111, \"#46039f\"], [0.2222222222222222, \"#7201a8\"], [0.3333333333333333, \"#9c179e\"], [0.4444444444444444, \"#bd3786\"], [0.5555555555555556, \"#d8576b\"], [0.6666666666666666, \"#ed7953\"], [0.7777777777777778, \"#fb9f3a\"], [0.8888888888888888, \"#fdca26\"], [1.0, \"#f0f921\"]], \"type\": \"histogram2d\"}], \"histogram2dcontour\": [{\"colorbar\": {\"outlinewidth\": 0, \"ticks\": \"\"}, \"colorscale\": [[0.0, \"#0d0887\"], [0.1111111111111111, \"#46039f\"], [0.2222222222222222, \"#7201a8\"], [0.3333333333333333, \"#9c179e\"], [0.4444444444444444, \"#bd3786\"], [0.5555555555555556, \"#d8576b\"], [0.6666666666666666, \"#ed7953\"], [0.7777777777777778, \"#fb9f3a\"], [0.8888888888888888, \"#fdca26\"], [1.0, \"#f0f921\"]], \"type\": \"histogram2dcontour\"}], \"mesh3d\": [{\"colorbar\": {\"outlinewidth\": 0, \"ticks\": \"\"}, \"type\": \"mesh3d\"}], \"parcoords\": [{\"line\": {\"colorbar\": {\"outlinewidth\": 0, \"ticks\": \"\"}}, \"type\": \"parcoords\"}], \"pie\": [{\"automargin\": true, \"type\": \"pie\"}], \"scatter\": [{\"marker\": {\"colorbar\": {\"outlinewidth\": 0, \"ticks\": \"\"}}, \"type\": \"scatter\"}], \"scatter3d\": [{\"line\": {\"colorbar\": {\"outlinewidth\": 0, \"ticks\": \"\"}}, \"marker\": {\"colorbar\": {\"outlinewidth\": 0, \"ticks\": \"\"}}, \"type\": \"scatter3d\"}], \"scattercarpet\": [{\"marker\": {\"colorbar\": {\"outlinewidth\": 0, \"ticks\": \"\"}}, \"type\": \"scattercarpet\"}], \"scattergeo\": [{\"marker\": {\"colorbar\": {\"outlinewidth\": 0, \"ticks\": \"\"}}, \"type\": \"scattergeo\"}], \"scattergl\": [{\"marker\": {\"colorbar\": {\"outlinewidth\": 0, \"ticks\": \"\"}}, \"type\": \"scattergl\"}], \"scattermapbox\": [{\"marker\": {\"colorbar\": {\"outlinewidth\": 0, \"ticks\": \"\"}}, \"type\": \"scattermapbox\"}], \"scatterpolar\": [{\"marker\": {\"colorbar\": {\"outlinewidth\": 0, \"ticks\": \"\"}}, \"type\": \"scatterpolar\"}], \"scatterpolargl\": [{\"marker\": {\"colorbar\": {\"outlinewidth\": 0, \"ticks\": \"\"}}, \"type\": \"scatterpolargl\"}], \"scatterternary\": [{\"marker\": {\"colorbar\": {\"outlinewidth\": 0, \"ticks\": \"\"}}, \"type\": \"scatterternary\"}], \"surface\": [{\"colorbar\": {\"outlinewidth\": 0, \"ticks\": \"\"}, \"colorscale\": [[0.0, \"#0d0887\"], [0.1111111111111111, \"#46039f\"], [0.2222222222222222, \"#7201a8\"], [0.3333333333333333, \"#9c179e\"], [0.4444444444444444, \"#bd3786\"], [0.5555555555555556, \"#d8576b\"], [0.6666666666666666, \"#ed7953\"], [0.7777777777777778, \"#fb9f3a\"], [0.8888888888888888, \"#fdca26\"], [1.0, \"#f0f921\"]], \"type\": \"surface\"}], \"table\": [{\"cells\": {\"fill\": {\"color\": \"#EBF0F8\"}, \"line\": {\"color\": \"white\"}}, \"header\": {\"fill\": {\"color\": \"#C8D4E3\"}, \"line\": {\"color\": \"white\"}}, \"type\": \"table\"}]}, \"layout\": {\"annotationdefaults\": {\"arrowcolor\": \"#2a3f5f\", \"arrowhead\": 0, \"arrowwidth\": 1}, \"coloraxis\": {\"colorbar\": {\"outlinewidth\": 0, \"ticks\": \"\"}}, \"colorscale\": {\"diverging\": [[0, \"#8e0152\"], [0.1, \"#c51b7d\"], [0.2, \"#de77ae\"], [0.3, \"#f1b6da\"], [0.4, \"#fde0ef\"], [0.5, \"#f7f7f7\"], [0.6, \"#e6f5d0\"], [0.7, \"#b8e186\"], [0.8, \"#7fbc41\"], [0.9, \"#4d9221\"], [1, \"#276419\"]], \"sequential\": [[0.0, \"#0d0887\"], [0.1111111111111111, \"#46039f\"], [0.2222222222222222, \"#7201a8\"], [0.3333333333333333, \"#9c179e\"], [0.4444444444444444, \"#bd3786\"], [0.5555555555555556, \"#d8576b\"], [0.6666666666666666, \"#ed7953\"], [0.7777777777777778, \"#fb9f3a\"], [0.8888888888888888, \"#fdca26\"], [1.0, \"#f0f921\"]], \"sequentialminus\": [[0.0, \"#0d0887\"], [0.1111111111111111, \"#46039f\"], [0.2222222222222222, \"#7201a8\"], [0.3333333333333333, \"#9c179e\"], [0.4444444444444444, \"#bd3786\"], [0.5555555555555556, \"#d8576b\"], [0.6666666666666666, \"#ed7953\"], [0.7777777777777778, \"#fb9f3a\"], [0.8888888888888888, \"#fdca26\"], [1.0, \"#f0f921\"]]}, \"colorway\": [\"#636efa\", \"#EF553B\", \"#00cc96\", \"#ab63fa\", \"#FFA15A\", \"#19d3f3\", \"#FF6692\", \"#B6E880\", \"#FF97FF\", \"#FECB52\"], \"font\": {\"color\": \"#2a3f5f\"}, \"geo\": {\"bgcolor\": \"white\", \"lakecolor\": \"white\", \"landcolor\": \"#E5ECF6\", \"showlakes\": true, \"showland\": true, \"subunitcolor\": \"white\"}, \"hoverlabel\": {\"align\": \"left\"}, \"hovermode\": \"closest\", \"mapbox\": {\"style\": \"light\"}, \"paper_bgcolor\": \"white\", \"plot_bgcolor\": \"#E5ECF6\", \"polar\": {\"angularaxis\": {\"gridcolor\": \"white\", \"linecolor\": \"white\", \"ticks\": \"\"}, \"bgcolor\": \"#E5ECF6\", \"radialaxis\": {\"gridcolor\": \"white\", \"linecolor\": \"white\", \"ticks\": \"\"}}, \"scene\": {\"xaxis\": {\"backgroundcolor\": \"#E5ECF6\", \"gridcolor\": \"white\", \"gridwidth\": 2, \"linecolor\": \"white\", \"showbackground\": true, \"ticks\": \"\", \"zerolinecolor\": \"white\"}, \"yaxis\": {\"backgroundcolor\": \"#E5ECF6\", \"gridcolor\": \"white\", \"gridwidth\": 2, \"linecolor\": \"white\", \"showbackground\": true, \"ticks\": \"\", \"zerolinecolor\": \"white\"}, \"zaxis\": {\"backgroundcolor\": \"#E5ECF6\", \"gridcolor\": \"white\", \"gridwidth\": 2, \"linecolor\": \"white\", \"showbackground\": true, \"ticks\": \"\", \"zerolinecolor\": \"white\"}}, \"shapedefaults\": {\"line\": {\"color\": \"#2a3f5f\"}}, \"ternary\": {\"aaxis\": {\"gridcolor\": \"white\", \"linecolor\": \"white\", \"ticks\": \"\"}, \"baxis\": {\"gridcolor\": \"white\", \"linecolor\": \"white\", \"ticks\": \"\"}, \"bgcolor\": \"#E5ECF6\", \"caxis\": {\"gridcolor\": \"white\", \"linecolor\": \"white\", \"ticks\": \"\"}}, \"title\": {\"x\": 0.05}, \"xaxis\": {\"automargin\": true, \"gridcolor\": \"white\", \"linecolor\": \"white\", \"ticks\": \"\", \"title\": {\"standoff\": 15}, \"zerolinecolor\": \"white\", \"zerolinewidth\": 2}, \"yaxis\": {\"automargin\": true, \"gridcolor\": \"white\", \"linecolor\": \"white\", \"ticks\": \"\", \"title\": {\"standoff\": 15}, \"zerolinecolor\": \"white\", \"zerolinewidth\": 2}}}},                        {\"responsive\": true}                    ).then(function(){\n",
       "                            \n",
       "var gd = document.getElementById('52126173-6662-428c-b7bc-8e05262cc050');\n",
       "var x = new MutationObserver(function (mutations, observer) {{\n",
       "        var display = window.getComputedStyle(gd).display;\n",
       "        if (!display || display === 'none') {{\n",
       "            console.log([gd, 'removed!']);\n",
       "            Plotly.purge(gd);\n",
       "            observer.disconnect();\n",
       "        }}\n",
       "}});\n",
       "\n",
       "// Listen for the removal of the full notebook cells\n",
       "var notebookContainer = gd.closest('#notebook-container');\n",
       "if (notebookContainer) {{\n",
       "    x.observe(notebookContainer, {childList: true});\n",
       "}}\n",
       "\n",
       "// Listen for the clearing of the current output cell\n",
       "var outputEl = gd.closest('.output');\n",
       "if (outputEl) {{\n",
       "    x.observe(outputEl, {childList: true});\n",
       "}}\n",
       "\n",
       "                        })                };                });            </script>        </div>"
      ]
     },
     "metadata": {},
     "output_type": "display_data"
    },
    {
     "data": {
      "image/png": "[encoded data removed]",
      "text/plain": [
       "<Figure size 1440x720 with 1 Axes>"
      ]
     },
     "metadata": {
      "needs_background": "light"
     },
     "output_type": "display_data"
    }
   ],
   "source": [
    "def func(x, m0, m1, m2, m3):\n",
    "    return m0 * np.exp(-m1 * x) + m2 + m3\n",
    "g = [100, 0.01, 200, 0.01]\n",
    "n = len(x[61:])\n",
    "y = np.empty(n)\n",
    "for i in range(n):\n",
    "    y[i] = func(x[i], g[0], g[1], g[2], g[3])\n",
    "\n",
    "#MODELO DE PROBABILIDAD\n",
    "y1 = list(df_t.iloc [:, 1][:103]) # Total casos\n",
    "x1 = list(df_t.iloc [:, 0][:103]) # Dias\n",
    "y_real = list(df_t.iloc [:, 1]) # Total casos\n",
    "x_real = list(df_t.iloc [:, 0]) # Dias\n",
    "\n",
    "#Prediccion 10 dias\n",
    "for i in range(x1[-1], x1[-1]+8):\n",
    "    x1.append(i)\n",
    "    y1.append(int(y1[-1] + mediana))\n",
    "\n",
    "#MODELO EXPONENCIAL\n",
    "yy = list(df_t.iloc [:, 1][:103]) # Total casos\n",
    "xx = list(df_t.iloc [:, 0][:103]) # Dias\n",
    "casos = list(df_t.iloc [:, 1][:103])# Total casos\n",
    "dias = list(df_t.iloc [:, 0][:103]) # Dias\n",
    "\n",
    "popt, pcov = curve_fit(func, dias[61:], casos[61:], g)\n",
    "for i in range(n):\n",
    "    casos[i] = func(dias[i], popt[0], popt[1], popt[2], popt[3])\n",
    "\n",
    "\n",
    "#Predecir para 10 dias\n",
    "pred_x = np.array(x_real[61:])\n",
    "\n",
    "print(\"Modelo Probabilistico \")\n",
    "print(\"Prediccion en 7 dias: \",*y1[61:][-1:])\n",
    "print(\"\")\n",
    "print(\"Modelo Exponencial \")\n",
    "print(\"Prediccion en 7 dias: \",int(func(pred_x,*popt)[-1:]))\n",
    "print(\"\")\n",
    "print(\"Datos Reales\")\n",
    "print(\"En 7 dias: \",*y_real[61:][-1:])\n",
    "fig = go.Figure()\n",
    "\n",
    "fig.add_trace(go.Scatter(y=y_real[61:],x=x_real[61:],mode='markers',name='Datos Reales'))\n",
    "fig.add_trace(go.Scatter(y=func(pred_x,*popt),x=pred_x,mode='lines',name='Modelo Exponencial'))\n",
    "fig.add_trace(go.Scatter(y=y1[61:],x=x1[61:],mode='lines',name='Modelo Probabilistico'))\n",
    "fig.show()\n",
    "\n",
    "#  Grafica\n",
    "fig = plt.figure(figsize=(20, 10))\n",
    "ax = fig.add_subplot(111,  axisbelow=True)\n",
    "ax.scatter(x_real[61:], y_real[61:],label=\"Datos Reales\",color=\"red\")\n",
    "ax.plot(x1[61:], y1[61:], 'b', alpha=1, lw=1, label='Modelo Probabilistico ')\n",
    "ax.plot(pred_x, func(pred_x,*popt), 'g', alpha=1, lw=1, label='Modelo Exponencial')\n",
    "\n",
    "ax.set_xlabel('Tiempo en dias')\n",
    "ax.set_ylabel('Numero de Personas')\n",
    "legend = ax.legend() \n",
    "\n",
    "\n"
   ]
  },
  {
   "cell_type": "markdown",
   "metadata": {},
   "source": [
    "## Analisis\n",
    "En el calculo del modelo SIR se obtiene los siguientes valores:\n",
    "\n",
    "1. Valor de Beta  0.039999998274153986\n",
    "2. Valor de Gamma  1e-08\n",
    "3. Valor de R0  3999999.8274153983\n",
    "\n",
    "Se obtienen los siguientes datos despues de realizar la comparación con los modelos Probabilístico y el modelo matemático exponencial, en una predicción de 7 días:\n",
    "\n",
    "1. Modelo Probabilistico \n",
    "Prediccion en 7 dias:  53394\n",
    "\n",
    "2. Modelo Exponencial \n",
    "Prediccion en 7 dias:  307043\n",
    "\n",
    "3. Datos Reales\n",
    "Siete dias:  180676.0\n",
    "\n",
    "Los dos modelos tienen una aproximación, la diferencia es que el probabilístico tiene una aproximación con tendencia baja es decir una aproximación menor al valor real, y el exponencial tiene una tendencia creciente, es decir es superi a los datos reales\n",
    "\n",
    "## Conclusiones\n",
    "Estas predicciones me indican la gravedad de los casos de contagios, indicando que puedo preventir cierto grado de contagios por lo cual concluyo de que ambos modelos tienen un gran grado de acierto en la predicción de los datos, y si se hiciera una valoración matemática en cuanto al ajuste ambos modelos tendrían resultados casi parecido solo que valores creciente( Modelo exponencial) y decreciente(Modelo probabilístico), por otra parte en la predicción al restar 7 días y realizar las predicciones vemos que los dos modelos casi se acercan a los datos correctos teniendo un grado de falla baja.\n",
    "\n",
    "\n",
    "\n",
    "\n",
    "## Criterio personal (politico, economico y  social de la situacion)\n",
    "\n",
    "En el siguiente analisis las prediciones pueden ser correctas o no ya que no se cuenta con informacion certera que ofreces los medios del gobierno, se podria decir que esta prediccion de casos de contagios que atraviesa el pais, la información de contagios y muertes puede estar alterada y dado esto no se puede realizar un modelo de predicción apegado a la realidad, dado  a la situación del país, segun medios del gobierno brinda esta informacion:\n",
    "\n",
    "160.639 pacientes recuperados.\n",
    "22.463 casos con alta hospitalaria.\n",
    "8.681 personas fallecidas (confirmados COVID-19)\n",
    "481 hospitalizados estables.\n",
    "368 hospitalizados con pronóstico reservado.\n",
    "368.917 casos fueron descartados\n",
    "Fuente: https://www.salud.gob.ec/actualizacion-de-casos-de-coronavirus-en-ecuador/\n",
    "\n",
    "Esto apunta a una mala organización y administración por parte del gobierno y la cultura propia del ecuatoriano no es de las mejores.\n",
    "\n"
   ]
  },
  {
   "cell_type": "markdown",
   "metadata": {},
   "source": [
    "# Referencias\n",
    "\n",
    "- https://www.researchgate.net/publication/340092755_Infeccion_del_Covid-19_en_Colombia_Una_comparacion_de_modelos_logisticos_y_exponenciales_aplicados_a_la_infeccion_por_el_virus_en_Colombia\n",
    "\n",
    "- https://www.aprendemachinelearning.com/regresion-lineal-en-espanol-con-python/"
   ]
  }
 ],
 "metadata": {
  "kernelspec": {
   "display_name": "Python 3",
   "language": "python",
   "name": "python3"
  },
  "language_info": {
   "codemirror_mode": {
    "name": "ipython",
    "version": 3
   },
   "file_extension": ".py",
   "mimetype": "text/x-python",
   "name": "python",
   "nbconvert_exporter": "python",
   "pygments_lexer": "ipython3",
   "version": "3.8.3"
  }
 },
 "nbformat": 4,
 "nbformat_minor": 2
}
