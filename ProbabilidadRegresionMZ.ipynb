{
 "cells": [
  {
   "cell_type": "markdown",
   "metadata": {},
   "source": [
    "# Covid-19 infección en Ecuador. Modelos probabilisticos\n",
    "Implementacion de un modelo probabilistico de infección por el virus Covid-19\n",
    "\n",
    "Se realiza un análisis probabilistico simple del crecimiento de la infección en Python y el modelos para comprender mejor la evolución de la infección.\n",
    "\n",
    "Se crea modelos de series temporales del número total de personas infectadas hasta la fecha (es decir, las personas realmente infectadas más las personas que han sido infectadas). Estos modelos tienen parámetros , que se estimarán por ajuste de probabilidad."
   ]
  },
  {
   "cell_type": "code",
   "execution_count": 91,
   "metadata": {
    "scrolled": true
   },
   "outputs": [],
   "source": [
    "# Importar las librerias para el analasis\n",
    "import pandas as pd\n",
    "import matplotlib.pyplot as plt\n",
    "import numpy as np\n",
    "from datetime import datetime,timedelta\n",
    "from sklearn.metrics import mean_squared_error\n",
    "from scipy.optimize import curve_fit\n",
    "from scipy.optimize import fsolve\n",
    "from sklearn import linear_model\n",
    "from scipy.integrate import solve_ivp\n",
    "from scipy.optimize import minimize\n",
    "from scipy.integrate import odeint\n",
    "import plotly.graph_objects as go\n",
    "from scipy.optimize import curve_fit\n",
    "from random import randrange\n",
    "%matplotlib inline\n",
    "import pygame\n"
   ]
  },
  {
   "cell_type": "code",
   "execution_count": 92,
   "metadata": {},
   "outputs": [
    {
     "data": {
      "text/html": [
       "<div>\n",
       "<style scoped>\n",
       "    .dataframe tbody tr th:only-of-type {\n",
       "        vertical-align: middle;\n",
       "    }\n",
       "\n",
       "    .dataframe tbody tr th {\n",
       "        vertical-align: top;\n",
       "    }\n",
       "\n",
       "    .dataframe thead th {\n",
       "        text-align: right;\n",
       "    }\n",
       "</style>\n",
       "<table border=\"1\" class=\"dataframe\">\n",
       "  <thead>\n",
       "    <tr style=\"text-align: right;\">\n",
       "      <th></th>\n",
       "      <th>date</th>\n",
       "      <th>World</th>\n",
       "      <th>Afghanistan</th>\n",
       "      <th>Albania</th>\n",
       "      <th>Algeria</th>\n",
       "      <th>Andorra</th>\n",
       "      <th>Angola</th>\n",
       "      <th>Anguilla</th>\n",
       "      <th>Antigua and Barbuda</th>\n",
       "      <th>Argentina</th>\n",
       "      <th>...</th>\n",
       "      <th>Uzbekistan</th>\n",
       "      <th>Vanuatu</th>\n",
       "      <th>Vatican</th>\n",
       "      <th>Venezuela</th>\n",
       "      <th>Vietnam</th>\n",
       "      <th>Wallis and Futuna</th>\n",
       "      <th>Western Sahara</th>\n",
       "      <th>Yemen</th>\n",
       "      <th>Zambia</th>\n",
       "      <th>Zimbabwe</th>\n",
       "    </tr>\n",
       "  </thead>\n",
       "  <tbody>\n",
       "    <tr>\n",
       "      <th>0</th>\n",
       "      <td>2019-12-31</td>\n",
       "      <td>27</td>\n",
       "      <td>0.0</td>\n",
       "      <td>NaN</td>\n",
       "      <td>0.0</td>\n",
       "      <td>NaN</td>\n",
       "      <td>NaN</td>\n",
       "      <td>NaN</td>\n",
       "      <td>NaN</td>\n",
       "      <td>NaN</td>\n",
       "      <td>...</td>\n",
       "      <td>NaN</td>\n",
       "      <td>NaN</td>\n",
       "      <td>NaN</td>\n",
       "      <td>NaN</td>\n",
       "      <td>0.0</td>\n",
       "      <td>NaN</td>\n",
       "      <td>NaN</td>\n",
       "      <td>NaN</td>\n",
       "      <td>NaN</td>\n",
       "      <td>NaN</td>\n",
       "    </tr>\n",
       "    <tr>\n",
       "      <th>1</th>\n",
       "      <td>2020-01-01</td>\n",
       "      <td>0</td>\n",
       "      <td>0.0</td>\n",
       "      <td>NaN</td>\n",
       "      <td>0.0</td>\n",
       "      <td>NaN</td>\n",
       "      <td>NaN</td>\n",
       "      <td>NaN</td>\n",
       "      <td>NaN</td>\n",
       "      <td>NaN</td>\n",
       "      <td>...</td>\n",
       "      <td>NaN</td>\n",
       "      <td>NaN</td>\n",
       "      <td>NaN</td>\n",
       "      <td>NaN</td>\n",
       "      <td>0.0</td>\n",
       "      <td>NaN</td>\n",
       "      <td>NaN</td>\n",
       "      <td>NaN</td>\n",
       "      <td>NaN</td>\n",
       "      <td>NaN</td>\n",
       "    </tr>\n",
       "    <tr>\n",
       "      <th>2</th>\n",
       "      <td>2020-01-02</td>\n",
       "      <td>0</td>\n",
       "      <td>0.0</td>\n",
       "      <td>NaN</td>\n",
       "      <td>0.0</td>\n",
       "      <td>NaN</td>\n",
       "      <td>NaN</td>\n",
       "      <td>NaN</td>\n",
       "      <td>NaN</td>\n",
       "      <td>NaN</td>\n",
       "      <td>...</td>\n",
       "      <td>NaN</td>\n",
       "      <td>NaN</td>\n",
       "      <td>NaN</td>\n",
       "      <td>NaN</td>\n",
       "      <td>0.0</td>\n",
       "      <td>NaN</td>\n",
       "      <td>NaN</td>\n",
       "      <td>NaN</td>\n",
       "      <td>NaN</td>\n",
       "      <td>NaN</td>\n",
       "    </tr>\n",
       "    <tr>\n",
       "      <th>3</th>\n",
       "      <td>2020-01-03</td>\n",
       "      <td>17</td>\n",
       "      <td>0.0</td>\n",
       "      <td>NaN</td>\n",
       "      <td>0.0</td>\n",
       "      <td>NaN</td>\n",
       "      <td>NaN</td>\n",
       "      <td>NaN</td>\n",
       "      <td>NaN</td>\n",
       "      <td>NaN</td>\n",
       "      <td>...</td>\n",
       "      <td>NaN</td>\n",
       "      <td>NaN</td>\n",
       "      <td>NaN</td>\n",
       "      <td>NaN</td>\n",
       "      <td>0.0</td>\n",
       "      <td>NaN</td>\n",
       "      <td>NaN</td>\n",
       "      <td>NaN</td>\n",
       "      <td>NaN</td>\n",
       "      <td>NaN</td>\n",
       "    </tr>\n",
       "    <tr>\n",
       "      <th>4</th>\n",
       "      <td>2020-01-04</td>\n",
       "      <td>0</td>\n",
       "      <td>0.0</td>\n",
       "      <td>NaN</td>\n",
       "      <td>0.0</td>\n",
       "      <td>NaN</td>\n",
       "      <td>NaN</td>\n",
       "      <td>NaN</td>\n",
       "      <td>NaN</td>\n",
       "      <td>NaN</td>\n",
       "      <td>...</td>\n",
       "      <td>NaN</td>\n",
       "      <td>NaN</td>\n",
       "      <td>NaN</td>\n",
       "      <td>NaN</td>\n",
       "      <td>0.0</td>\n",
       "      <td>NaN</td>\n",
       "      <td>NaN</td>\n",
       "      <td>NaN</td>\n",
       "      <td>NaN</td>\n",
       "      <td>NaN</td>\n",
       "    </tr>\n",
       "    <tr>\n",
       "      <th>...</th>\n",
       "      <td>...</td>\n",
       "      <td>...</td>\n",
       "      <td>...</td>\n",
       "      <td>...</td>\n",
       "      <td>...</td>\n",
       "      <td>...</td>\n",
       "      <td>...</td>\n",
       "      <td>...</td>\n",
       "      <td>...</td>\n",
       "      <td>...</td>\n",
       "      <td>...</td>\n",
       "      <td>...</td>\n",
       "      <td>...</td>\n",
       "      <td>...</td>\n",
       "      <td>...</td>\n",
       "      <td>...</td>\n",
       "      <td>...</td>\n",
       "      <td>...</td>\n",
       "      <td>...</td>\n",
       "      <td>...</td>\n",
       "      <td>...</td>\n",
       "    </tr>\n",
       "    <tr>\n",
       "      <th>317</th>\n",
       "      <td>2020-11-12</td>\n",
       "      <td>623536</td>\n",
       "      <td>146.0</td>\n",
       "      <td>507.0</td>\n",
       "      <td>811.0</td>\n",
       "      <td>90.0</td>\n",
       "      <td>136.0</td>\n",
       "      <td>0.0</td>\n",
       "      <td>0.0</td>\n",
       "      <td>10880.0</td>\n",
       "      <td>...</td>\n",
       "      <td>224.0</td>\n",
       "      <td>0.0</td>\n",
       "      <td>0.0</td>\n",
       "      <td>0.0</td>\n",
       "      <td>26.0</td>\n",
       "      <td>0.0</td>\n",
       "      <td>0.0</td>\n",
       "      <td>0.0</td>\n",
       "      <td>39.0</td>\n",
       "      <td>57.0</td>\n",
       "    </tr>\n",
       "    <tr>\n",
       "      <th>318</th>\n",
       "      <td>2020-11-13</td>\n",
       "      <td>646171</td>\n",
       "      <td>360.0</td>\n",
       "      <td>410.0</td>\n",
       "      <td>851.0</td>\n",
       "      <td>49.0</td>\n",
       "      <td>137.0</td>\n",
       "      <td>0.0</td>\n",
       "      <td>0.0</td>\n",
       "      <td>11162.0</td>\n",
       "      <td>...</td>\n",
       "      <td>220.0</td>\n",
       "      <td>0.0</td>\n",
       "      <td>0.0</td>\n",
       "      <td>695.0</td>\n",
       "      <td>1.0</td>\n",
       "      <td>0.0</td>\n",
       "      <td>0.0</td>\n",
       "      <td>0.0</td>\n",
       "      <td>0.0</td>\n",
       "      <td>29.0</td>\n",
       "    </tr>\n",
       "    <tr>\n",
       "      <th>319</th>\n",
       "      <td>2020-11-14</td>\n",
       "      <td>628489</td>\n",
       "      <td>66.0</td>\n",
       "      <td>490.0</td>\n",
       "      <td>867.0</td>\n",
       "      <td>109.0</td>\n",
       "      <td>104.0</td>\n",
       "      <td>0.0</td>\n",
       "      <td>2.0</td>\n",
       "      <td>11859.0</td>\n",
       "      <td>...</td>\n",
       "      <td>63.0</td>\n",
       "      <td>0.0</td>\n",
       "      <td>0.0</td>\n",
       "      <td>0.0</td>\n",
       "      <td>3.0</td>\n",
       "      <td>0.0</td>\n",
       "      <td>0.0</td>\n",
       "      <td>2.0</td>\n",
       "      <td>57.0</td>\n",
       "      <td>69.0</td>\n",
       "    </tr>\n",
       "    <tr>\n",
       "      <th>320</th>\n",
       "      <td>2020-11-15</td>\n",
       "      <td>589885</td>\n",
       "      <td>205.0</td>\n",
       "      <td>532.0</td>\n",
       "      <td>844.0</td>\n",
       "      <td>0.0</td>\n",
       "      <td>171.0</td>\n",
       "      <td>0.0</td>\n",
       "      <td>1.0</td>\n",
       "      <td>8468.0</td>\n",
       "      <td>...</td>\n",
       "      <td>0.0</td>\n",
       "      <td>0.0</td>\n",
       "      <td>0.0</td>\n",
       "      <td>301.0</td>\n",
       "      <td>9.0</td>\n",
       "      <td>0.0</td>\n",
       "      <td>0.0</td>\n",
       "      <td>0.0</td>\n",
       "      <td>4.0</td>\n",
       "      <td>21.0</td>\n",
       "    </tr>\n",
       "    <tr>\n",
       "      <th>321</th>\n",
       "      <td>2020-11-16</td>\n",
       "      <td>461710</td>\n",
       "      <td>163.0</td>\n",
       "      <td>597.0</td>\n",
       "      <td>860.0</td>\n",
       "      <td>147.0</td>\n",
       "      <td>146.0</td>\n",
       "      <td>0.0</td>\n",
       "      <td>0.0</td>\n",
       "      <td>5645.0</td>\n",
       "      <td>...</td>\n",
       "      <td>563.0</td>\n",
       "      <td>0.0</td>\n",
       "      <td>0.0</td>\n",
       "      <td>911.0</td>\n",
       "      <td>16.0</td>\n",
       "      <td>0.0</td>\n",
       "      <td>0.0</td>\n",
       "      <td>0.0</td>\n",
       "      <td>26.0</td>\n",
       "      <td>0.0</td>\n",
       "    </tr>\n",
       "  </tbody>\n",
       "</table>\n",
       "<p>322 rows × 216 columns</p>\n",
       "</div>"
      ],
      "text/plain": [
       "           date   World  Afghanistan  Albania  Algeria  Andorra  Angola  \\\n",
       "0    2019-12-31      27          0.0      NaN      0.0      NaN     NaN   \n",
       "1    2020-01-01       0          0.0      NaN      0.0      NaN     NaN   \n",
       "2    2020-01-02       0          0.0      NaN      0.0      NaN     NaN   \n",
       "3    2020-01-03      17          0.0      NaN      0.0      NaN     NaN   \n",
       "4    2020-01-04       0          0.0      NaN      0.0      NaN     NaN   \n",
       "..          ...     ...          ...      ...      ...      ...     ...   \n",
       "317  2020-11-12  623536        146.0    507.0    811.0     90.0   136.0   \n",
       "318  2020-11-13  646171        360.0    410.0    851.0     49.0   137.0   \n",
       "319  2020-11-14  628489         66.0    490.0    867.0    109.0   104.0   \n",
       "320  2020-11-15  589885        205.0    532.0    844.0      0.0   171.0   \n",
       "321  2020-11-16  461710        163.0    597.0    860.0    147.0   146.0   \n",
       "\n",
       "     Anguilla  Antigua and Barbuda  Argentina  ...  Uzbekistan  Vanuatu  \\\n",
       "0         NaN                  NaN        NaN  ...         NaN      NaN   \n",
       "1         NaN                  NaN        NaN  ...         NaN      NaN   \n",
       "2         NaN                  NaN        NaN  ...         NaN      NaN   \n",
       "3         NaN                  NaN        NaN  ...         NaN      NaN   \n",
       "4         NaN                  NaN        NaN  ...         NaN      NaN   \n",
       "..        ...                  ...        ...  ...         ...      ...   \n",
       "317       0.0                  0.0    10880.0  ...       224.0      0.0   \n",
       "318       0.0                  0.0    11162.0  ...       220.0      0.0   \n",
       "319       0.0                  2.0    11859.0  ...        63.0      0.0   \n",
       "320       0.0                  1.0     8468.0  ...         0.0      0.0   \n",
       "321       0.0                  0.0     5645.0  ...       563.0      0.0   \n",
       "\n",
       "     Vatican  Venezuela  Vietnam  Wallis and Futuna  Western Sahara  Yemen  \\\n",
       "0        NaN        NaN      0.0                NaN             NaN    NaN   \n",
       "1        NaN        NaN      0.0                NaN             NaN    NaN   \n",
       "2        NaN        NaN      0.0                NaN             NaN    NaN   \n",
       "3        NaN        NaN      0.0                NaN             NaN    NaN   \n",
       "4        NaN        NaN      0.0                NaN             NaN    NaN   \n",
       "..       ...        ...      ...                ...             ...    ...   \n",
       "317      0.0        0.0     26.0                0.0             0.0    0.0   \n",
       "318      0.0      695.0      1.0                0.0             0.0    0.0   \n",
       "319      0.0        0.0      3.0                0.0             0.0    2.0   \n",
       "320      0.0      301.0      9.0                0.0             0.0    0.0   \n",
       "321      0.0      911.0     16.0                0.0             0.0    0.0   \n",
       "\n",
       "     Zambia  Zimbabwe  \n",
       "0       NaN       NaN  \n",
       "1       NaN       NaN  \n",
       "2       NaN       NaN  \n",
       "3       NaN       NaN  \n",
       "4       NaN       NaN  \n",
       "..      ...       ...  \n",
       "317    39.0      57.0  \n",
       "318     0.0      29.0  \n",
       "319    57.0      69.0  \n",
       "320     4.0      21.0  \n",
       "321    26.0       0.0  \n",
       "\n",
       "[322 rows x 216 columns]"
      ]
     },
     "execution_count": 92,
     "metadata": {},
     "output_type": "execute_result"
    }
   ],
   "source": [
    "# Actualizar los datos (URL)\n",
    "url = 'https://covid.ourworldindata.org/data/ecdc/new_cases.csv'\n",
    "df = pd.read_csv(url)\n",
    "df"
   ]
  },
  {
   "cell_type": "markdown",
   "metadata": {},
   "source": [
    "Imprimos los resultados y agregamos el numero del dia\n"
   ]
  },
  {
   "cell_type": "code",
   "execution_count": 93,
   "metadata": {},
   "outputs": [
    {
     "data": {
      "text/html": [
       "<div>\n",
       "<style scoped>\n",
       "    .dataframe tbody tr th:only-of-type {\n",
       "        vertical-align: middle;\n",
       "    }\n",
       "\n",
       "    .dataframe tbody tr th {\n",
       "        vertical-align: top;\n",
       "    }\n",
       "\n",
       "    .dataframe thead th {\n",
       "        text-align: right;\n",
       "    }\n",
       "</style>\n",
       "<table border=\"1\" class=\"dataframe\">\n",
       "  <thead>\n",
       "    <tr style=\"text-align: right;\">\n",
       "      <th></th>\n",
       "      <th>date</th>\n",
       "      <th>Ecuador</th>\n",
       "    </tr>\n",
       "  </thead>\n",
       "  <tbody>\n",
       "    <tr>\n",
       "      <th>0</th>\n",
       "      <td>-1</td>\n",
       "      <td>0.0</td>\n",
       "    </tr>\n",
       "    <tr>\n",
       "      <th>1</th>\n",
       "      <td>0</td>\n",
       "      <td>0.0</td>\n",
       "    </tr>\n",
       "    <tr>\n",
       "      <th>2</th>\n",
       "      <td>1</td>\n",
       "      <td>0.0</td>\n",
       "    </tr>\n",
       "    <tr>\n",
       "      <th>3</th>\n",
       "      <td>2</td>\n",
       "      <td>0.0</td>\n",
       "    </tr>\n",
       "    <tr>\n",
       "      <th>4</th>\n",
       "      <td>3</td>\n",
       "      <td>0.0</td>\n",
       "    </tr>\n",
       "    <tr>\n",
       "      <th>...</th>\n",
       "      <td>...</td>\n",
       "      <td>...</td>\n",
       "    </tr>\n",
       "    <tr>\n",
       "      <th>317</th>\n",
       "      <td>316</td>\n",
       "      <td>919.0</td>\n",
       "    </tr>\n",
       "    <tr>\n",
       "      <th>318</th>\n",
       "      <td>317</td>\n",
       "      <td>883.0</td>\n",
       "    </tr>\n",
       "    <tr>\n",
       "      <th>319</th>\n",
       "      <td>318</td>\n",
       "      <td>1161.0</td>\n",
       "    </tr>\n",
       "    <tr>\n",
       "      <th>320</th>\n",
       "      <td>319</td>\n",
       "      <td>953.0</td>\n",
       "    </tr>\n",
       "    <tr>\n",
       "      <th>321</th>\n",
       "      <td>320</td>\n",
       "      <td>668.0</td>\n",
       "    </tr>\n",
       "  </tbody>\n",
       "</table>\n",
       "<p>322 rows × 2 columns</p>\n",
       "</div>"
      ],
      "text/plain": [
       "     date  Ecuador\n",
       "0      -1      0.0\n",
       "1       0      0.0\n",
       "2       1      0.0\n",
       "3       2      0.0\n",
       "4       3      0.0\n",
       "..    ...      ...\n",
       "317   316    919.0\n",
       "318   317    883.0\n",
       "319   318   1161.0\n",
       "320   319    953.0\n",
       "321   320    668.0\n",
       "\n",
       "[322 rows x 2 columns]"
      ]
     },
     "execution_count": 93,
     "metadata": {},
     "output_type": "execute_result"
    }
   ],
   "source": [
    "df = df.loc[:,['date','Ecuador']] #Selecciono las columnas de analasis\n",
    "# Expresar las fechas en numero de dias desde el 01 Enero\n",
    "FMT = '%Y-%m-%d'\n",
    "date = df['date']\n",
    "df['date'] = date.map(lambda x : (datetime.strptime(x, FMT) - datetime.strptime(\"2020-01-01\", FMT)).days)\n",
    "df"
   ]
  },
  {
   "cell_type": "code",
   "execution_count": 94,
   "metadata": {},
   "outputs": [
    {
     "data": {
      "text/plain": [
       "<matplotlib.axes._subplots.AxesSubplot at 0x1982ee8b160>"
      ]
     },
     "execution_count": 94,
     "metadata": {},
     "output_type": "execute_result"
    },
    {
     "data": {
      "image/png": "[encoded data removed]",
      "text/plain": [
       "<Figure size 432x288 with 1 Axes>"
      ]
     },
     "metadata": {
      "needs_background": "light"
     },
     "output_type": "display_data"
    }
   ],
   "source": [
    "df.plot(x ='date', y='Ecuador')"
   ]
  },
  {
   "cell_type": "markdown",
   "metadata": {},
   "source": [
    "Ahora podemos analizar un modelo probabilisto para el examen.\n",
    "\n",
    "## El modelo basado en probabilidad\n",
    "\n",
    "Para realizar un estimacion del factor de crecimiento de los casos de Covid 19 en Ecuador calculamos la mediana, con esto obtenemo el valor medio de crecimiento de un conjunto de datos, con esto podemos obtener un factor de crecimiento o taza de crecimiento de los nuevos casos.\n",
    "\n"
   ]
  },
  {
   "cell_type": "code",
   "execution_count": 95,
   "metadata": {},
   "outputs": [
    {
     "name": "stdout",
     "output_type": "stream",
     "text": [
      "666.5\n",
      "704.27734375\n"
     ]
    }
   ],
   "source": [
    "filtro = df[\"Ecuador\"][61:] # Filtro los datos que se empezo a tener casos\n",
    "#Obtenemos la mediana\n",
    "media = filtro.mean()\n",
    "mediana = filtro.median()\n",
    "print(mediana)\n",
    "print(media)\n"
   ]
  },
  {
   "cell_type": "markdown",
   "metadata": {},
   "source": [
    "De la ecuación de la recta y = mX + b nuestra pendiente «m» es el coeficiente y el término independiente «b»\n"
   ]
  },
  {
   "cell_type": "code",
   "execution_count": 96,
   "metadata": {},
   "outputs": [
    {
     "name": "stdout",
     "output_type": "stream",
     "text": [
      "180961\n"
     ]
    }
   ],
   "source": [
    "#Vamos a comprobar:\n",
    "# según la media y la mediana podemos obtener la taza de crecieminto y predicir su comportamiento.\n",
    "# Cargamos los datos de total de casos\n",
    "url = 'https://covid.ourworldindata.org/data/ecdc/total_cases.csv'\n",
    "df_t = pd.read_csv(url)\n",
    "df_t = df_t.loc[:,['date','Ecuador']] #Selecciono las columnas de analasis\n",
    "FMT = '%Y-%m-%d'\n",
    "date = df_t['date']\n",
    "\n",
    "df_t['date'] = date.map(lambda x : (datetime.strptime(x, FMT) - datetime.strptime(\"2020-01-01\", FMT)).days)\n",
    "#df_t = df_t.loc[:,['date','Ecuador']] #Selecciono las columnas de analasis\n",
    "#Investiga dropa\n",
    "df_t=df_t.dropna()\n",
    "dias = list(df_t['date'])\n",
    "\n",
    "y = list(df_t.iloc [:, 1]) # Total casos\n",
    "x = list(df_t.iloc [:, 0]) # Dias\n",
    "#Realizamos un ejemplo de prediccion\n",
    "prediccion_siguiente = int(y[-1] + mediana)\n",
    "print(prediccion_siguiente)"
   ]
  },
  {
   "cell_type": "code",
   "execution_count": 97,
   "metadata": {},
   "outputs": [
    {
     "data": {
      "image/png": "[encoded data removed]",
      "text/plain": [
       "<Figure size 432x288 with 1 Axes>"
      ]
     },
     "metadata": {
      "needs_background": "light"
     },
     "output_type": "display_data"
    }
   ],
   "source": [
    "# Quiero predecir cuántos \"Casos\" voy a obtener de aqui a 10 dias.\n",
    "for i in range(x[-1], x[-1]+10):\n",
    "    x.append(i)\n",
    "    y.append(int(y[-1] + mediana))\n",
    "plt.plot(x[61:], y[61:])\n",
    "plt.show()"
   ]
  },
  {
   "cell_type": "markdown",
   "metadata": {},
   "source": [
    "# Practica\n",
    "\n",
    "1. Comparar el modelo de predicion matematico vs probabilidad.\n",
    "2. Generar el SIR en base al modelo de probabilidad y obtener beta y gamma con una semana de prediccion.\n",
    "3. Retroceder un semana y comparar el modelo matematico vs probabilidad vs reales. Solo cargan los datos para generar los modelos menos 7 dias.\n",
    "\n",
    "Puntos extras: Investigas sobre la correlacion de variables y aplicar el calculo en base a los datos del Ecuador."
   ]
  },
  {
   "cell_type": "markdown",
   "metadata": {},
   "source": [
    "# 1. Comparar el modelo de predicion matematico vs probabilidad."
   ]
  },
  {
   "cell_type": "code",
   "execution_count": 104,
   "metadata": {},
   "outputs": [],
   "source": [
    "def func(x, c0, c1, c2, c3):\n",
    "    return c0 * np.exp(-c1 * x) + c2 + c3"
   ]
  },
  {
   "cell_type": "code",
   "execution_count": 105,
   "metadata": {},
   "outputs": [],
   "source": [
    "g = [100, 0.01, 200, 0.01]\n",
    "n = len(x[61:])\n",
    "y = np.empty(n)\n",
    "for i in range(n):\n",
    "    y[i] = func(x[i], g[0], g[1], g[2], g[3])"
   ]
  },
  {
   "cell_type": "code",
   "execution_count": 106,
   "metadata": {},
   "outputs": [
    {
     "name": "stderr",
     "output_type": "stream",
     "text": [
      "<ipython-input-104-9be5e1285112>:2: RuntimeWarning:\n",
      "\n",
      "overflow encountered in exp\n",
      "\n",
      "<ipython-input-104-9be5e1285112>:2: RuntimeWarning:\n",
      "\n",
      "overflow encountered in multiply\n",
      "\n"
     ]
    },
    {
     "data": {
      "application/vnd.plotly.v1+json": {
       "config": {
        "plotlyServerURL": "https://plot.ly"
       },
       "data": [
        {
         "mode": "markers",
         "name": "Datos Reales",
         "type": "scatter",
         "x": [
          126,
          127,
          128,
          129,
          130,
          131,
          132,
          133,
          134,
          135,
          136,
          137,
          138,
          139,
          140,
          141,
          142,
          143,
          144,
          145,
          146,
          147,
          148,
          149,
          150,
          151,
          152,
          153,
          154,
          155,
          156,
          157,
          158,
          159,
          160,
          161,
          162,
          163,
          164,
          165,
          166,
          167,
          168,
          169,
          170,
          171,
          172,
          173,
          174,
          175,
          176,
          177,
          178,
          179,
          180,
          181,
          182,
          183,
          184,
          185,
          186,
          187,
          188,
          189,
          190,
          191,
          192,
          193,
          194,
          195,
          196,
          197,
          198,
          199,
          200,
          201,
          202,
          203,
          204,
          205,
          206,
          207,
          208,
          209,
          210,
          211,
          212,
          213,
          214,
          215,
          216,
          217,
          218,
          219,
          220,
          221,
          222,
          223,
          224,
          225,
          226,
          227,
          228,
          229,
          230,
          231,
          232,
          233,
          234,
          235,
          236,
          237,
          238,
          239,
          240,
          241,
          242,
          243,
          244,
          245,
          246,
          247,
          248,
          249,
          250,
          251,
          252,
          253,
          254,
          255,
          256,
          257,
          258,
          259,
          260,
          261,
          262,
          263,
          264,
          265,
          266,
          267,
          268,
          269,
          270,
          271,
          272,
          273,
          274,
          275,
          276,
          277,
          278,
          279,
          280,
          281,
          282,
          283,
          284,
          285,
          286,
          287,
          288,
          289,
          290,
          291,
          292,
          293,
          294,
          295,
          296,
          297,
          298,
          299,
          300,
          301,
          302,
          303,
          304,
          305,
          306,
          307,
          308,
          309,
          310,
          311,
          312,
          313,
          314,
          315,
          316,
          317,
          318,
          319,
          320
         ],
         "y": [
          31881,
          29420,
          30298,
          28818,
          29071,
          29559,
          29509,
          30419,
          30486,
          30502,
          31467,
          32763,
          33182,
          33582,
          34151,
          34854,
          35306,
          35828,
          36258,
          36756,
          37355,
          37355,
          38103,
          38471,
          38571,
          38571,
          39098,
          39994,
          40414,
          40966,
          40966,
          41575,
          42728,
          43120,
          43378,
          43917,
          44440,
          44440,
          45778,
          46356,
          46751,
          47322,
          47943,
          48490,
          49097,
          49731,
          50183,
          50640,
          50640,
          51643,
          52334,
          53156,
          53856,
          54574,
          55255,
          55665,
          56432,
          58257,
          59468,
          60657,
          61535,
          61958,
          62380,
          63245,
          64221,
          65018,
          65801,
          67209,
          67870,
          68459,
          69570,
          70329,
          71365,
          72444,
          73382,
          74013,
          74620,
          76217,
          77257,
          78148,
          79049,
          80036,
          80694,
          81161,
          82279,
          83193,
          84370,
          85355,
          86232,
          86524,
          87041,
          87963,
          88866,
          90537,
          91969,
          93572,
          94459,
          94701,
          95563,
          97110,
          98343,
          99409,
          100688,
          101542,
          101751,
          102941,
          104475,
          105508,
          106481,
          107089,
          107769,
          108289,
          109030,
          110549,
          111219,
          112141,
          112906,
          113648,
          113767,
          114309,
          115457,
          116360,
          117175,
          118045,
          109784,
          110092,
          110757,
          112166,
          113206,
          114732,
          116451,
          118594,
          118911,
          119553,
          121525,
          122257,
          124129,
          125620,
          126419,
          126711,
          127643,
          129892,
          131146,
          132475,
          133981,
          134747,
          134965,
          135749,
          137047,
          138584,
          139534,
          140351,
          141034,
          141339,
          142056,
          143531,
          145045,
          145848,
          146828,
          147033,
          147315,
          148171,
          149083,
          150360,
          151659,
          152422,
          153289,
          153423,
          154115,
          155625,
          156451,
          158270,
          159614,
          161635,
          162178,
          163192,
          164908,
          166302,
          167147,
          168192,
          169194,
          169562,
          170110,
          171433,
          171783,
          172508,
          173486,
          174907,
          175269,
          175711,
          176630,
          177513,
          178674,
          179627,
          180295
         ]
        },
        {
         "mode": "lines",
         "name": "Modelo Exponencial",
         "type": "scatter",
         "x": [
          126,
          127,
          128,
          129,
          130,
          131,
          132,
          133,
          134,
          135,
          136,
          137,
          138,
          139,
          140,
          141,
          142,
          143,
          144,
          145,
          146,
          147,
          148,
          149,
          150,
          151,
          152,
          153,
          154,
          155,
          156,
          157,
          158,
          159,
          160,
          161,
          162,
          163,
          164,
          165,
          166,
          167,
          168,
          169,
          170,
          171,
          172,
          173,
          174,
          175,
          176,
          177,
          178,
          179,
          180,
          181,
          182,
          183,
          184,
          185,
          186,
          187,
          188,
          189,
          190,
          191,
          192,
          193,
          194,
          195,
          196,
          197,
          198,
          199,
          200,
          201,
          202,
          203,
          204,
          205,
          206,
          207,
          208,
          209,
          210,
          211,
          212,
          213,
          214,
          215,
          216,
          217,
          218,
          219,
          220,
          221,
          222,
          223,
          224,
          225,
          226,
          227,
          228,
          229,
          230,
          231,
          232,
          233,
          234,
          235,
          236,
          237,
          238,
          239,
          240,
          241,
          242,
          243,
          244,
          245,
          246,
          247,
          248,
          249,
          250,
          251,
          252,
          253,
          254,
          255,
          256,
          257,
          258,
          259,
          260,
          261,
          262,
          263,
          264,
          265,
          266,
          267,
          268,
          269,
          270,
          271,
          272,
          273,
          274,
          275,
          276,
          277,
          278,
          279,
          280,
          281,
          282,
          283,
          284,
          285,
          286,
          287,
          288,
          289,
          290,
          291,
          292,
          293,
          294,
          295,
          296,
          297,
          298,
          299,
          300,
          301,
          302,
          303,
          304,
          305,
          306,
          307,
          308,
          309,
          310,
          311,
          312,
          313,
          314,
          315,
          316,
          317,
          318,
          319,
          320,
          321,
          322,
          323,
          324,
          325,
          326,
          327,
          328,
          329
         ],
         "y": [
          23483.003878450298,
          24100.410848682965,
          24719.552321536423,
          25340.433169808573,
          25963.058279986508,
          26587.432552285158,
          27213.56090068574,
          27841.448252974646,
          28471.099550781844,
          29102.519749620158,
          29735.71381892405,
          30370.686742088743,
          31007.443516509564,
          31645.98915362115,
          32286.328678936916,
          32928.467132088685,
          33572.40956686622,
          34218.16105125712,
          34865.72666748661,
          35515.11151205764,
          36166.32069579094,
          36819.359343865144,
          37474.232595857364,
          38130.94560578345,
          38789.50354213851,
          39449.91158793784,
          40112.1749407575,
          40776.29881277519,
          41442.28843081153,
          42110.14903637087,
          42779.88588568276,
          43451.50424974329,
          44125.00941435651,
          44800.40668017602,
          45477.70136274678,
          46156.8987925469,
          46838.00431502955,
          47521.02329066511,
          48205.96109498326,
          48892.82311861536,
          49581.614767336854,
          50272.341462109835,
          50965.00863912569,
          51659.62174984791,
          52356.18626105487,
          53054.70765488305,
          53755.191428870035,
          54457.643095997846,
          55162.068184736374,
          55868.47223908671,
          56576.86081862495,
          57287.23949854598,
          57999.61386970717,
          58713.98953867248,
          59430.372127756666,
          60148.76727506936,
          60869.180634559496,
          61591.61787606003,
          62316.084685332215,
          63042.58676411053,
          63771.12983014753,
          64501.71961725886,
          65234.36187536841,
          65969.06237055351,
          66705.82688509028,
          67444.66121749925,
          68185.57118259087,
          68928.5626115114,
          69673.64135178867,
          70420.81326737827,
          71170.08423870949,
          71921.46016273183,
          72674.94695296111,
          73430.55053952646,
          74188.27686921648,
          74948.13190552646,
          75710.12162870502,
          76474.25203580131,
          77240.52914071236,
          78008.95897422994,
          78779.54758408871,
          79552.301035013,
          80327.22540876544,
          81104.32680419403,
          81883.61133728061,
          82665.08514118883,
          83448.75436631248,
          84234.62518032374,
          85022.70376822208,
          85812.99633238245,
          86605.50909260452,
          87400.24828616135,
          88197.22016784859,
          88996.43101003383,
          89797.88710270573,
          90601.59475352355,
          91407.5602878671,
          92215.79004888605,
          93026.29039755028,
          93839.06771269978,
          94654.12839109458,
          95471.47884746567,
          96291.12551456493,
          97113.07484321606,
          97937.3333023654,
          98763.90737913254,
          99592.80357886165,
          100424.02842517257,
          101257.58846001224,
          102093.49024370594,
          102931.74035500929,
          103772.34539115972,
          104615.31196792856,
          105460.64671967296,
          106308.35629938835,
          107158.44737876057,
          108010.92664821843,
          108865.80081698643,
          109723.07661313745,
          110582.76078364586,
          111444.86009444059,
          112309.38133045823,
          113176.33129569645,
          114045.7168132678,
          114917.5447254532,
          115791.8218937556,
          116668.55519895461,
          117547.75154115995,
          118429.41783986597,
          119313.5610340066,
          120200.18808200922,
          121089.30596184988,
          121980.92167110789,
          122875.04222702149,
          123771.67466654246,
          124670.82604639164,
          125572.50344311465,
          126476.7139531377,
          127383.46469282279,
          128292.76279852459,
          129204.61542664598,
          130119.02975369462,
          131036.01297633922,
          131955.5723114665,
          132877.71499623783,
          133802.44828814623,
          134729.77946507325,
          135659.71582534665,
          136592.26468779735,
          137527.4333918178,
          138465.22929741867,
          139405.65978528792,
          140348.73225684784,
          141294.4541343141,
          142242.83286075376,
          143193.875900144,
          144147.59073743073,
          145103.9848785876,
          146063.0658506751,
          147024.84120189957,
          147989.31850167311,
          148956.5053406724,
          149926.40933089942,
          150899.03810574027,
          151874.39932002604,
          152852.50065009278,
          153833.34979384206,
          154816.95447080117,
          155803.32242218422,
          156792.46141095314,
          157784.37922187836,
          158779.0836616006,
          159776.58255869185,
          160776.8837637173,
          161779.99514929677,
          162785.92461016728,
          163794.68006324442,
          164806.2694476854,
          165820.70072495088,
          166837.981878868,
          167858.1209156933,
          168881.12586417538,
          169907.00477561844,
          170935.76572394522,
          171967.41680576117,
          173001.96614041761,
          174039.4218700758,
          175079.79215977114,
          176123.08519747725,
          177169.30919417052,
          178218.47238389502,
          179270.58302382653,
          180325.64939433825,
          181383.6797990657,
          182444.68256497203,
          183508.66604241374,
          184575.63860520616,
          185645.60865068948,
          186718.58459979482,
          187794.57489711058,
          188873.58801094873,
          189955.63243341172,
          191040.71668045892,
          192128.8492919741
         ]
        },
        {
         "mode": "lines",
         "name": "Modelo Probabilistico",
         "type": "scatter",
         "x": [
          126,
          127,
          128,
          129,
          130,
          131,
          132,
          133,
          134,
          135,
          136,
          137,
          138,
          139,
          140,
          141,
          142,
          143,
          144,
          145,
          146,
          147,
          148,
          149,
          150,
          151,
          152,
          153,
          154,
          155,
          156,
          157,
          158,
          159,
          160,
          161,
          162,
          163,
          164,
          165,
          166,
          167,
          168,
          169,
          170,
          171,
          172,
          173,
          174,
          175,
          176,
          177,
          178,
          179,
          180,
          181,
          182,
          183,
          184,
          185,
          186,
          187,
          188,
          189,
          190,
          191,
          192,
          193,
          194,
          195,
          196,
          197,
          198,
          199,
          200,
          201,
          202,
          203,
          204,
          205,
          206,
          207,
          208,
          209,
          210,
          211,
          212,
          213,
          214,
          215,
          216,
          217,
          218,
          219,
          220,
          221,
          222,
          223,
          224,
          225,
          226,
          227,
          228,
          229,
          230,
          231,
          232,
          233,
          234,
          235,
          236,
          237,
          238,
          239,
          240,
          241,
          242,
          243,
          244,
          245,
          246,
          247,
          248,
          249,
          250,
          251,
          252,
          253,
          254,
          255,
          256,
          257,
          258,
          259,
          260,
          261,
          262,
          263,
          264,
          265,
          266,
          267,
          268,
          269,
          270,
          271,
          272,
          273,
          274,
          275,
          276,
          277,
          278,
          279,
          280,
          281,
          282,
          283,
          284,
          285,
          286,
          287,
          288,
          289,
          290,
          291,
          292,
          293,
          294,
          295,
          296,
          297,
          298,
          299,
          300,
          301,
          302,
          303,
          304,
          305,
          306,
          307,
          308,
          309,
          310,
          311,
          312,
          313,
          314,
          315,
          316,
          317,
          318,
          319,
          320,
          320,
          321,
          322,
          323,
          324,
          325,
          326,
          327,
          328,
          329
         ],
         "y": [
          31881,
          29420,
          30298,
          28818,
          29071,
          29559,
          29509,
          30419,
          30486,
          30502,
          31467,
          32763,
          33182,
          33582,
          34151,
          34854,
          35306,
          35828,
          36258,
          36756,
          37355,
          37355,
          38103,
          38471,
          38571,
          38571,
          39098,
          39994,
          40414,
          40966,
          40966,
          41575,
          42728,
          43120,
          43378,
          43917,
          44440,
          44440,
          45778,
          46356,
          46751,
          47322,
          47943,
          48490,
          49097,
          49731,
          50183,
          50640,
          50640,
          51643,
          52334,
          53156,
          53856,
          54574,
          55255,
          55665,
          56432,
          58257,
          59468,
          60657,
          61535,
          61958,
          62380,
          63245,
          64221,
          65018,
          65801,
          67209,
          67870,
          68459,
          69570,
          70329,
          71365,
          72444,
          73382,
          74013,
          74620,
          76217,
          77257,
          78148,
          79049,
          80036,
          80694,
          81161,
          82279,
          83193,
          84370,
          85355,
          86232,
          86524,
          87041,
          87963,
          88866,
          90537,
          91969,
          93572,
          94459,
          94701,
          95563,
          97110,
          98343,
          99409,
          100688,
          101542,
          101751,
          102941,
          104475,
          105508,
          106481,
          107089,
          107769,
          108289,
          109030,
          110549,
          111219,
          112141,
          112906,
          113648,
          113767,
          114309,
          115457,
          116360,
          117175,
          118045,
          109784,
          110092,
          110757,
          112166,
          113206,
          114732,
          116451,
          118594,
          118911,
          119553,
          121525,
          122257,
          124129,
          125620,
          126419,
          126711,
          127643,
          129892,
          131146,
          132475,
          133981,
          134747,
          134965,
          135749,
          137047,
          138584,
          139534,
          140351,
          141034,
          141339,
          142056,
          143531,
          145045,
          145848,
          146828,
          147033,
          147315,
          148171,
          149083,
          150360,
          151659,
          152422,
          153289,
          153423,
          154115,
          155625,
          156451,
          158270,
          159614,
          161635,
          162178,
          163192,
          164908,
          166302,
          167147,
          168192,
          169194,
          169562,
          170110,
          171433,
          171783,
          172508,
          173486,
          174907,
          175269,
          175711,
          176630,
          177513,
          178674,
          179627,
          180295,
          180961,
          181627,
          182293,
          182959,
          183625,
          184291,
          184957,
          185623,
          186289,
          186955
         ]
        }
       ],
       "layout": {
        "template": {
         "data": {
          "bar": [
           {
            "error_x": {
             "color": "#2a3f5f"
            },
            "error_y": {
             "color": "#2a3f5f"
            },
            "marker": {
             "line": {
              "color": "#E5ECF6",
              "width": 0.5
             }
            },
            "type": "bar"
           }
          ],
          "barpolar": [
           {
            "marker": {
             "line": {
              "color": "#E5ECF6",
              "width": 0.5
             }
            },
            "type": "barpolar"
           }
          ],
          "carpet": [
           {
            "aaxis": {
             "endlinecolor": "#2a3f5f",
             "gridcolor": "white",
             "linecolor": "white",
             "minorgridcolor": "white",
             "startlinecolor": "#2a3f5f"
            },
            "baxis": {
             "endlinecolor": "#2a3f5f",
             "gridcolor": "white",
             "linecolor": "white",
             "minorgridcolor": "white",
             "startlinecolor": "#2a3f5f"
            },
            "type": "carpet"
           }
          ],
          "choropleth": [
           {
            "colorbar": {
             "outlinewidth": 0,
             "ticks": ""
            },
            "type": "choropleth"
           }
          ],
          "contour": [
           {
            "colorbar": {
             "outlinewidth": 0,
             "ticks": ""
            },
            "colorscale": [
             [
              0,
              "#0d0887"
             ],
             [
              0.1111111111111111,
              "#46039f"
             ],
             [
              0.2222222222222222,
              "#7201a8"
             ],
             [
              0.3333333333333333,
              "#9c179e"
             ],
             [
              0.4444444444444444,
              "#bd3786"
             ],
             [
              0.5555555555555556,
              "#d8576b"
             ],
             [
              0.6666666666666666,
              "#ed7953"
             ],
             [
              0.7777777777777778,
              "#fb9f3a"
             ],
             [
              0.8888888888888888,
              "#fdca26"
             ],
             [
              1,
              "#f0f921"
             ]
            ],
            "type": "contour"
           }
          ],
          "contourcarpet": [
           {
            "colorbar": {
             "outlinewidth": 0,
             "ticks": ""
            },
            "type": "contourcarpet"
           }
          ],
          "heatmap": [
           {
            "colorbar": {
             "outlinewidth": 0,
             "ticks": ""
            },
            "colorscale": [
             [
              0,
              "#0d0887"
             ],
             [
              0.1111111111111111,
              "#46039f"
             ],
             [
              0.2222222222222222,
              "#7201a8"
             ],
             [
              0.3333333333333333,
              "#9c179e"
             ],
             [
              0.4444444444444444,
              "#bd3786"
             ],
             [
              0.5555555555555556,
              "#d8576b"
             ],
             [
              0.6666666666666666,
              "#ed7953"
             ],
             [
              0.7777777777777778,
              "#fb9f3a"
             ],
             [
              0.8888888888888888,
              "#fdca26"
             ],
             [
              1,
              "#f0f921"
             ]
            ],
            "type": "heatmap"
           }
          ],
          "heatmapgl": [
           {
            "colorbar": {
             "outlinewidth": 0,
             "ticks": ""
            },
            "colorscale": [
             [
              0,
              "#0d0887"
             ],
             [
              0.1111111111111111,
              "#46039f"
             ],
             [
              0.2222222222222222,
              "#7201a8"
             ],
             [
              0.3333333333333333,
              "#9c179e"
             ],
             [
              0.4444444444444444,
              "#bd3786"
             ],
             [
              0.5555555555555556,
              "#d8576b"
             ],
             [
              0.6666666666666666,
              "#ed7953"
             ],
             [
              0.7777777777777778,
              "#fb9f3a"
             ],
             [
              0.8888888888888888,
              "#fdca26"
             ],
             [
              1,
              "#f0f921"
             ]
            ],
            "type": "heatmapgl"
           }
          ],
          "histogram": [
           {
            "marker": {
             "colorbar": {
              "outlinewidth": 0,
              "ticks": ""
             }
            },
            "type": "histogram"
           }
          ],
          "histogram2d": [
           {
            "colorbar": {
             "outlinewidth": 0,
             "ticks": ""
            },
            "colorscale": [
             [
              0,
              "#0d0887"
             ],
             [
              0.1111111111111111,
              "#46039f"
             ],
             [
              0.2222222222222222,
              "#7201a8"
             ],
             [
              0.3333333333333333,
              "#9c179e"
             ],
             [
              0.4444444444444444,
              "#bd3786"
             ],
             [
              0.5555555555555556,
              "#d8576b"
             ],
             [
              0.6666666666666666,
              "#ed7953"
             ],
             [
              0.7777777777777778,
              "#fb9f3a"
             ],
             [
              0.8888888888888888,
              "#fdca26"
             ],
             [
              1,
              "#f0f921"
             ]
            ],
            "type": "histogram2d"
           }
          ],
          "histogram2dcontour": [
           {
            "colorbar": {
             "outlinewidth": 0,
             "ticks": ""
            },
            "colorscale": [
             [
              0,
              "#0d0887"
             ],
             [
              0.1111111111111111,
              "#46039f"
             ],
             [
              0.2222222222222222,
              "#7201a8"
             ],
             [
              0.3333333333333333,
              "#9c179e"
             ],
             [
              0.4444444444444444,
              "#bd3786"
             ],
             [
              0.5555555555555556,
              "#d8576b"
             ],
             [
              0.6666666666666666,
              "#ed7953"
             ],
             [
              0.7777777777777778,
              "#fb9f3a"
             ],
             [
              0.8888888888888888,
              "#fdca26"
             ],
             [
              1,
              "#f0f921"
             ]
            ],
            "type": "histogram2dcontour"
           }
          ],
          "mesh3d": [
           {
            "colorbar": {
             "outlinewidth": 0,
             "ticks": ""
            },
            "type": "mesh3d"
           }
          ],
          "parcoords": [
           {
            "line": {
             "colorbar": {
              "outlinewidth": 0,
              "ticks": ""
             }
            },
            "type": "parcoords"
           }
          ],
          "pie": [
           {
            "automargin": true,
            "type": "pie"
           }
          ],
          "scatter": [
           {
            "marker": {
             "colorbar": {
              "outlinewidth": 0,
              "ticks": ""
             }
            },
            "type": "scatter"
           }
          ],
          "scatter3d": [
           {
            "line": {
             "colorbar": {
              "outlinewidth": 0,
              "ticks": ""
             }
            },
            "marker": {
             "colorbar": {
              "outlinewidth": 0,
              "ticks": ""
             }
            },
            "type": "scatter3d"
           }
          ],
          "scattercarpet": [
           {
            "marker": {
             "colorbar": {
              "outlinewidth": 0,
              "ticks": ""
             }
            },
            "type": "scattercarpet"
           }
          ],
          "scattergeo": [
           {
            "marker": {
             "colorbar": {
              "outlinewidth": 0,
              "ticks": ""
             }
            },
            "type": "scattergeo"
           }
          ],
          "scattergl": [
           {
            "marker": {
             "colorbar": {
              "outlinewidth": 0,
              "ticks": ""
             }
            },
            "type": "scattergl"
           }
          ],
          "scattermapbox": [
           {
            "marker": {
             "colorbar": {
              "outlinewidth": 0,
              "ticks": ""
             }
            },
            "type": "scattermapbox"
           }
          ],
          "scatterpolar": [
           {
            "marker": {
             "colorbar": {
              "outlinewidth": 0,
              "ticks": ""
             }
            },
            "type": "scatterpolar"
           }
          ],
          "scatterpolargl": [
           {
            "marker": {
             "colorbar": {
              "outlinewidth": 0,
              "ticks": ""
             }
            },
            "type": "scatterpolargl"
           }
          ],
          "scatterternary": [
           {
            "marker": {
             "colorbar": {
              "outlinewidth": 0,
              "ticks": ""
             }
            },
            "type": "scatterternary"
           }
          ],
          "surface": [
           {
            "colorbar": {
             "outlinewidth": 0,
             "ticks": ""
            },
            "colorscale": [
             [
              0,
              "#0d0887"
             ],
             [
              0.1111111111111111,
              "#46039f"
             ],
             [
              0.2222222222222222,
              "#7201a8"
             ],
             [
              0.3333333333333333,
              "#9c179e"
             ],
             [
              0.4444444444444444,
              "#bd3786"
             ],
             [
              0.5555555555555556,
              "#d8576b"
             ],
             [
              0.6666666666666666,
              "#ed7953"
             ],
             [
              0.7777777777777778,
              "#fb9f3a"
             ],
             [
              0.8888888888888888,
              "#fdca26"
             ],
             [
              1,
              "#f0f921"
             ]
            ],
            "type": "surface"
           }
          ],
          "table": [
           {
            "cells": {
             "fill": {
              "color": "#EBF0F8"
             },
             "line": {
              "color": "white"
             }
            },
            "header": {
             "fill": {
              "color": "#C8D4E3"
             },
             "line": {
              "color": "white"
             }
            },
            "type": "table"
           }
          ]
         },
         "layout": {
          "annotationdefaults": {
           "arrowcolor": "#2a3f5f",
           "arrowhead": 0,
           "arrowwidth": 1
          },
          "coloraxis": {
           "colorbar": {
            "outlinewidth": 0,
            "ticks": ""
           }
          },
          "colorscale": {
           "diverging": [
            [
             0,
             "#8e0152"
            ],
            [
             0.1,
             "#c51b7d"
            ],
            [
             0.2,
             "#de77ae"
            ],
            [
             0.3,
             "#f1b6da"
            ],
            [
             0.4,
             "#fde0ef"
            ],
            [
             0.5,
             "#f7f7f7"
            ],
            [
             0.6,
             "#e6f5d0"
            ],
            [
             0.7,
             "#b8e186"
            ],
            [
             0.8,
             "#7fbc41"
            ],
            [
             0.9,
             "#4d9221"
            ],
            [
             1,
             "#276419"
            ]
           ],
           "sequential": [
            [
             0,
             "#0d0887"
            ],
            [
             0.1111111111111111,
             "#46039f"
            ],
            [
             0.2222222222222222,
             "#7201a8"
            ],
            [
             0.3333333333333333,
             "#9c179e"
            ],
            [
             0.4444444444444444,
             "#bd3786"
            ],
            [
             0.5555555555555556,
             "#d8576b"
            ],
            [
             0.6666666666666666,
             "#ed7953"
            ],
            [
             0.7777777777777778,
             "#fb9f3a"
            ],
            [
             0.8888888888888888,
             "#fdca26"
            ],
            [
             1,
             "#f0f921"
            ]
           ],
           "sequentialminus": [
            [
             0,
             "#0d0887"
            ],
            [
             0.1111111111111111,
             "#46039f"
            ],
            [
             0.2222222222222222,
             "#7201a8"
            ],
            [
             0.3333333333333333,
             "#9c179e"
            ],
            [
             0.4444444444444444,
             "#bd3786"
            ],
            [
             0.5555555555555556,
             "#d8576b"
            ],
            [
             0.6666666666666666,
             "#ed7953"
            ],
            [
             0.7777777777777778,
             "#fb9f3a"
            ],
            [
             0.8888888888888888,
             "#fdca26"
            ],
            [
             1,
             "#f0f921"
            ]
           ]
          },
          "colorway": [
           "#636efa",
           "#EF553B",
           "#00cc96",
           "#ab63fa",
           "#FFA15A",
           "#19d3f3",
           "#FF6692",
           "#B6E880",
           "#FF97FF",
           "#FECB52"
          ],
          "font": {
           "color": "#2a3f5f"
          },
          "geo": {
           "bgcolor": "white",
           "lakecolor": "white",
           "landcolor": "#E5ECF6",
           "showlakes": true,
           "showland": true,
           "subunitcolor": "white"
          },
          "hoverlabel": {
           "align": "left"
          },
          "hovermode": "closest",
          "mapbox": {
           "style": "light"
          },
          "paper_bgcolor": "white",
          "plot_bgcolor": "#E5ECF6",
          "polar": {
           "angularaxis": {
            "gridcolor": "white",
            "linecolor": "white",
            "ticks": ""
           },
           "bgcolor": "#E5ECF6",
           "radialaxis": {
            "gridcolor": "white",
            "linecolor": "white",
            "ticks": ""
           }
          },
          "scene": {
           "xaxis": {
            "backgroundcolor": "#E5ECF6",
            "gridcolor": "white",
            "gridwidth": 2,
            "linecolor": "white",
            "showbackground": true,
            "ticks": "",
            "zerolinecolor": "white"
           },
           "yaxis": {
            "backgroundcolor": "#E5ECF6",
            "gridcolor": "white",
            "gridwidth": 2,
            "linecolor": "white",
            "showbackground": true,
            "ticks": "",
            "zerolinecolor": "white"
           },
           "zaxis": {
            "backgroundcolor": "#E5ECF6",
            "gridcolor": "white",
            "gridwidth": 2,
            "linecolor": "white",
            "showbackground": true,
            "ticks": "",
            "zerolinecolor": "white"
           }
          },
          "shapedefaults": {
           "line": {
            "color": "#2a3f5f"
           }
          },
          "ternary": {
           "aaxis": {
            "gridcolor": "white",
            "linecolor": "white",
            "ticks": ""
           },
           "baxis": {
            "gridcolor": "white",
            "linecolor": "white",
            "ticks": ""
           },
           "bgcolor": "#E5ECF6",
           "caxis": {
            "gridcolor": "white",
            "linecolor": "white",
            "ticks": ""
           }
          },
          "title": {
           "x": 0.05
          },
          "xaxis": {
           "automargin": true,
           "gridcolor": "white",
           "linecolor": "white",
           "ticks": "",
           "title": {
            "standoff": 15
           },
           "zerolinecolor": "white",
           "zerolinewidth": 2
          },
          "yaxis": {
           "automargin": true,
           "gridcolor": "white",
           "linecolor": "white",
           "ticks": "",
           "title": {
            "standoff": 15
           },
           "zerolinecolor": "white",
           "zerolinewidth": 2
          }
         }
        }
       }
      },
      "text/html": [
       "<div>                            <div id=\"8a0f8728-287b-4946-9f36-58ed82e5c86c\" class=\"plotly-graph-div\" style=\"height:525px; width:100%;\"></div>            <script type=\"text/javascript\">                require([\"plotly\"], function(Plotly) {                    window.PLOTLYENV=window.PLOTLYENV || {};                                    if (document.getElementById(\"8a0f8728-287b-4946-9f36-58ed82e5c86c\")) {                    Plotly.newPlot(                        \"8a0f8728-287b-4946-9f36-58ed82e5c86c\",                        [{\"mode\": \"markers\", \"name\": \"Datos Reales\", \"type\": \"scatter\", \"x\": [126, 127, 128, 129, 130, 131, 132, 133, 134, 135, 136, 137, 138, 139, 140, 141, 142, 143, 144, 145, 146, 147, 148, 149, 150, 151, 152, 153, 154, 155, 156, 157, 158, 159, 160, 161, 162, 163, 164, 165, 166, 167, 168, 169, 170, 171, 172, 173, 174, 175, 176, 177, 178, 179, 180, 181, 182, 183, 184, 185, 186, 187, 188, 189, 190, 191, 192, 193, 194, 195, 196, 197, 198, 199, 200, 201, 202, 203, 204, 205, 206, 207, 208, 209, 210, 211, 212, 213, 214, 215, 216, 217, 218, 219, 220, 221, 222, 223, 224, 225, 226, 227, 228, 229, 230, 231, 232, 233, 234, 235, 236, 237, 238, 239, 240, 241, 242, 243, 244, 245, 246, 247, 248, 249, 250, 251, 252, 253, 254, 255, 256, 257, 258, 259, 260, 261, 262, 263, 264, 265, 266, 267, 268, 269, 270, 271, 272, 273, 274, 275, 276, 277, 278, 279, 280, 281, 282, 283, 284, 285, 286, 287, 288, 289, 290, 291, 292, 293, 294, 295, 296, 297, 298, 299, 300, 301, 302, 303, 304, 305, 306, 307, 308, 309, 310, 311, 312, 313, 314, 315, 316, 317, 318, 319, 320], \"y\": [31881.0, 29420.0, 30298.0, 28818.0, 29071.0, 29559.0, 29509.0, 30419.0, 30486.0, 30502.0, 31467.0, 32763.0, 33182.0, 33582.0, 34151.0, 34854.0, 35306.0, 35828.0, 36258.0, 36756.0, 37355.0, 37355.0, 38103.0, 38471.0, 38571.0, 38571.0, 39098.0, 39994.0, 40414.0, 40966.0, 40966.0, 41575.0, 42728.0, 43120.0, 43378.0, 43917.0, 44440.0, 44440.0, 45778.0, 46356.0, 46751.0, 47322.0, 47943.0, 48490.0, 49097.0, 49731.0, 50183.0, 50640.0, 50640.0, 51643.0, 52334.0, 53156.0, 53856.0, 54574.0, 55255.0, 55665.0, 56432.0, 58257.0, 59468.0, 60657.0, 61535.0, 61958.0, 62380.0, 63245.0, 64221.0, 65018.0, 65801.0, 67209.0, 67870.0, 68459.0, 69570.0, 70329.0, 71365.0, 72444.0, 73382.0, 74013.0, 74620.0, 76217.0, 77257.0, 78148.0, 79049.0, 80036.0, 80694.0, 81161.0, 82279.0, 83193.0, 84370.0, 85355.0, 86232.0, 86524.0, 87041.0, 87963.0, 88866.0, 90537.0, 91969.0, 93572.0, 94459.0, 94701.0, 95563.0, 97110.0, 98343.0, 99409.0, 100688.0, 101542.0, 101751.0, 102941.0, 104475.0, 105508.0, 106481.0, 107089.0, 107769.0, 108289.0, 109030.0, 110549.0, 111219.0, 112141.0, 112906.0, 113648.0, 113767.0, 114309.0, 115457.0, 116360.0, 117175.0, 118045.0, 109784.0, 110092.0, 110757.0, 112166.0, 113206.0, 114732.0, 116451.0, 118594.0, 118911.0, 119553.0, 121525.0, 122257.0, 124129.0, 125620.0, 126419.0, 126711.0, 127643.0, 129892.0, 131146.0, 132475.0, 133981.0, 134747.0, 134965.0, 135749.0, 137047.0, 138584.0, 139534.0, 140351.0, 141034.0, 141339.0, 142056.0, 143531.0, 145045.0, 145848.0, 146828.0, 147033.0, 147315.0, 148171.0, 149083.0, 150360.0, 151659.0, 152422.0, 153289.0, 153423.0, 154115.0, 155625.0, 156451.0, 158270.0, 159614.0, 161635.0, 162178.0, 163192.0, 164908.0, 166302.0, 167147.0, 168192.0, 169194.0, 169562.0, 170110.0, 171433.0, 171783.0, 172508.0, 173486.0, 174907.0, 175269.0, 175711.0, 176630.0, 177513.0, 178674.0, 179627.0, 180295.0]}, {\"mode\": \"lines\", \"name\": \"Modelo Exponencial\", \"type\": \"scatter\", \"x\": [126, 127, 128, 129, 130, 131, 132, 133, 134, 135, 136, 137, 138, 139, 140, 141, 142, 143, 144, 145, 146, 147, 148, 149, 150, 151, 152, 153, 154, 155, 156, 157, 158, 159, 160, 161, 162, 163, 164, 165, 166, 167, 168, 169, 170, 171, 172, 173, 174, 175, 176, 177, 178, 179, 180, 181, 182, 183, 184, 185, 186, 187, 188, 189, 190, 191, 192, 193, 194, 195, 196, 197, 198, 199, 200, 201, 202, 203, 204, 205, 206, 207, 208, 209, 210, 211, 212, 213, 214, 215, 216, 217, 218, 219, 220, 221, 222, 223, 224, 225, 226, 227, 228, 229, 230, 231, 232, 233, 234, 235, 236, 237, 238, 239, 240, 241, 242, 243, 244, 245, 246, 247, 248, 249, 250, 251, 252, 253, 254, 255, 256, 257, 258, 259, 260, 261, 262, 263, 264, 265, 266, 267, 268, 269, 270, 271, 272, 273, 274, 275, 276, 277, 278, 279, 280, 281, 282, 283, 284, 285, 286, 287, 288, 289, 290, 291, 292, 293, 294, 295, 296, 297, 298, 299, 300, 301, 302, 303, 304, 305, 306, 307, 308, 309, 310, 311, 312, 313, 314, 315, 316, 317, 318, 319, 320, 321, 322, 323, 324, 325, 326, 327, 328, 329], \"y\": [23483.003878450298, 24100.410848682965, 24719.552321536423, 25340.433169808573, 25963.058279986508, 26587.432552285158, 27213.56090068574, 27841.448252974646, 28471.099550781844, 29102.519749620158, 29735.71381892405, 30370.686742088743, 31007.443516509564, 31645.98915362115, 32286.328678936916, 32928.467132088685, 33572.40956686622, 34218.16105125712, 34865.72666748661, 35515.11151205764, 36166.32069579094, 36819.359343865144, 37474.232595857364, 38130.94560578345, 38789.50354213851, 39449.91158793784, 40112.1749407575, 40776.29881277519, 41442.28843081153, 42110.14903637087, 42779.88588568276, 43451.50424974329, 44125.00941435651, 44800.40668017602, 45477.70136274678, 46156.8987925469, 46838.00431502955, 47521.02329066511, 48205.96109498326, 48892.82311861536, 49581.614767336854, 50272.341462109835, 50965.00863912569, 51659.62174984791, 52356.18626105487, 53054.70765488305, 53755.191428870035, 54457.643095997846, 55162.068184736374, 55868.47223908671, 56576.86081862495, 57287.23949854598, 57999.61386970717, 58713.98953867248, 59430.372127756666, 60148.76727506936, 60869.180634559496, 61591.61787606003, 62316.084685332215, 63042.58676411053, 63771.12983014753, 64501.71961725886, 65234.36187536841, 65969.06237055351, 66705.82688509028, 67444.66121749925, 68185.57118259087, 68928.5626115114, 69673.64135178867, 70420.81326737827, 71170.08423870949, 71921.46016273183, 72674.94695296111, 73430.55053952646, 74188.27686921648, 74948.13190552646, 75710.12162870502, 76474.25203580131, 77240.52914071236, 78008.95897422994, 78779.54758408871, 79552.301035013, 80327.22540876544, 81104.32680419403, 81883.61133728061, 82665.08514118883, 83448.75436631248, 84234.62518032374, 85022.70376822208, 85812.99633238245, 86605.50909260452, 87400.24828616135, 88197.22016784859, 88996.43101003383, 89797.88710270573, 90601.59475352355, 91407.5602878671, 92215.79004888605, 93026.29039755028, 93839.06771269978, 94654.12839109458, 95471.47884746567, 96291.12551456493, 97113.07484321606, 97937.3333023654, 98763.90737913254, 99592.80357886165, 100424.02842517257, 101257.58846001224, 102093.49024370594, 102931.74035500929, 103772.34539115972, 104615.31196792856, 105460.64671967296, 106308.35629938835, 107158.44737876057, 108010.92664821843, 108865.80081698643, 109723.07661313745, 110582.76078364586, 111444.86009444059, 112309.38133045823, 113176.33129569645, 114045.7168132678, 114917.5447254532, 115791.8218937556, 116668.55519895461, 117547.75154115995, 118429.41783986597, 119313.5610340066, 120200.18808200922, 121089.30596184988, 121980.92167110789, 122875.04222702149, 123771.67466654246, 124670.82604639164, 125572.50344311465, 126476.7139531377, 127383.46469282279, 128292.76279852459, 129204.61542664598, 130119.02975369462, 131036.01297633922, 131955.5723114665, 132877.71499623783, 133802.44828814623, 134729.77946507325, 135659.71582534665, 136592.26468779735, 137527.4333918178, 138465.22929741867, 139405.65978528792, 140348.73225684784, 141294.4541343141, 142242.83286075376, 143193.875900144, 144147.59073743073, 145103.9848785876, 146063.0658506751, 147024.84120189957, 147989.31850167311, 148956.5053406724, 149926.40933089942, 150899.03810574027, 151874.39932002604, 152852.50065009278, 153833.34979384206, 154816.95447080117, 155803.32242218422, 156792.46141095314, 157784.37922187836, 158779.0836616006, 159776.58255869185, 160776.8837637173, 161779.99514929677, 162785.92461016728, 163794.68006324442, 164806.2694476854, 165820.70072495088, 166837.981878868, 167858.1209156933, 168881.12586417538, 169907.00477561844, 170935.76572394522, 171967.41680576117, 173001.96614041761, 174039.4218700758, 175079.79215977114, 176123.08519747725, 177169.30919417052, 178218.47238389502, 179270.58302382653, 180325.64939433825, 181383.6797990657, 182444.68256497203, 183508.66604241374, 184575.63860520616, 185645.60865068948, 186718.58459979482, 187794.57489711058, 188873.58801094873, 189955.63243341172, 191040.71668045892, 192128.8492919741]}, {\"mode\": \"lines\", \"name\": \"Modelo Probabilistico\", \"type\": \"scatter\", \"x\": [126, 127, 128, 129, 130, 131, 132, 133, 134, 135, 136, 137, 138, 139, 140, 141, 142, 143, 144, 145, 146, 147, 148, 149, 150, 151, 152, 153, 154, 155, 156, 157, 158, 159, 160, 161, 162, 163, 164, 165, 166, 167, 168, 169, 170, 171, 172, 173, 174, 175, 176, 177, 178, 179, 180, 181, 182, 183, 184, 185, 186, 187, 188, 189, 190, 191, 192, 193, 194, 195, 196, 197, 198, 199, 200, 201, 202, 203, 204, 205, 206, 207, 208, 209, 210, 211, 212, 213, 214, 215, 216, 217, 218, 219, 220, 221, 222, 223, 224, 225, 226, 227, 228, 229, 230, 231, 232, 233, 234, 235, 236, 237, 238, 239, 240, 241, 242, 243, 244, 245, 246, 247, 248, 249, 250, 251, 252, 253, 254, 255, 256, 257, 258, 259, 260, 261, 262, 263, 264, 265, 266, 267, 268, 269, 270, 271, 272, 273, 274, 275, 276, 277, 278, 279, 280, 281, 282, 283, 284, 285, 286, 287, 288, 289, 290, 291, 292, 293, 294, 295, 296, 297, 298, 299, 300, 301, 302, 303, 304, 305, 306, 307, 308, 309, 310, 311, 312, 313, 314, 315, 316, 317, 318, 319, 320, 320, 321, 322, 323, 324, 325, 326, 327, 328, 329], \"y\": [31881.0, 29420.0, 30298.0, 28818.0, 29071.0, 29559.0, 29509.0, 30419.0, 30486.0, 30502.0, 31467.0, 32763.0, 33182.0, 33582.0, 34151.0, 34854.0, 35306.0, 35828.0, 36258.0, 36756.0, 37355.0, 37355.0, 38103.0, 38471.0, 38571.0, 38571.0, 39098.0, 39994.0, 40414.0, 40966.0, 40966.0, 41575.0, 42728.0, 43120.0, 43378.0, 43917.0, 44440.0, 44440.0, 45778.0, 46356.0, 46751.0, 47322.0, 47943.0, 48490.0, 49097.0, 49731.0, 50183.0, 50640.0, 50640.0, 51643.0, 52334.0, 53156.0, 53856.0, 54574.0, 55255.0, 55665.0, 56432.0, 58257.0, 59468.0, 60657.0, 61535.0, 61958.0, 62380.0, 63245.0, 64221.0, 65018.0, 65801.0, 67209.0, 67870.0, 68459.0, 69570.0, 70329.0, 71365.0, 72444.0, 73382.0, 74013.0, 74620.0, 76217.0, 77257.0, 78148.0, 79049.0, 80036.0, 80694.0, 81161.0, 82279.0, 83193.0, 84370.0, 85355.0, 86232.0, 86524.0, 87041.0, 87963.0, 88866.0, 90537.0, 91969.0, 93572.0, 94459.0, 94701.0, 95563.0, 97110.0, 98343.0, 99409.0, 100688.0, 101542.0, 101751.0, 102941.0, 104475.0, 105508.0, 106481.0, 107089.0, 107769.0, 108289.0, 109030.0, 110549.0, 111219.0, 112141.0, 112906.0, 113648.0, 113767.0, 114309.0, 115457.0, 116360.0, 117175.0, 118045.0, 109784.0, 110092.0, 110757.0, 112166.0, 113206.0, 114732.0, 116451.0, 118594.0, 118911.0, 119553.0, 121525.0, 122257.0, 124129.0, 125620.0, 126419.0, 126711.0, 127643.0, 129892.0, 131146.0, 132475.0, 133981.0, 134747.0, 134965.0, 135749.0, 137047.0, 138584.0, 139534.0, 140351.0, 141034.0, 141339.0, 142056.0, 143531.0, 145045.0, 145848.0, 146828.0, 147033.0, 147315.0, 148171.0, 149083.0, 150360.0, 151659.0, 152422.0, 153289.0, 153423.0, 154115.0, 155625.0, 156451.0, 158270.0, 159614.0, 161635.0, 162178.0, 163192.0, 164908.0, 166302.0, 167147.0, 168192.0, 169194.0, 169562.0, 170110.0, 171433.0, 171783.0, 172508.0, 173486.0, 174907.0, 175269.0, 175711.0, 176630.0, 177513.0, 178674.0, 179627.0, 180295.0, 180961, 181627, 182293, 182959, 183625, 184291, 184957, 185623, 186289, 186955]}],                        {\"template\": {\"data\": {\"bar\": [{\"error_x\": {\"color\": \"#2a3f5f\"}, \"error_y\": {\"color\": \"#2a3f5f\"}, \"marker\": {\"line\": {\"color\": \"#E5ECF6\", \"width\": 0.5}}, \"type\": \"bar\"}], \"barpolar\": [{\"marker\": {\"line\": {\"color\": \"#E5ECF6\", \"width\": 0.5}}, \"type\": \"barpolar\"}], \"carpet\": [{\"aaxis\": {\"endlinecolor\": \"#2a3f5f\", \"gridcolor\": \"white\", \"linecolor\": \"white\", \"minorgridcolor\": \"white\", \"startlinecolor\": \"#2a3f5f\"}, \"baxis\": {\"endlinecolor\": \"#2a3f5f\", \"gridcolor\": \"white\", \"linecolor\": \"white\", \"minorgridcolor\": \"white\", \"startlinecolor\": \"#2a3f5f\"}, \"type\": \"carpet\"}], \"choropleth\": [{\"colorbar\": {\"outlinewidth\": 0, \"ticks\": \"\"}, \"type\": \"choropleth\"}], \"contour\": [{\"colorbar\": {\"outlinewidth\": 0, \"ticks\": \"\"}, \"colorscale\": [[0.0, \"#0d0887\"], [0.1111111111111111, \"#46039f\"], [0.2222222222222222, \"#7201a8\"], [0.3333333333333333, \"#9c179e\"], [0.4444444444444444, \"#bd3786\"], [0.5555555555555556, \"#d8576b\"], [0.6666666666666666, \"#ed7953\"], [0.7777777777777778, \"#fb9f3a\"], [0.8888888888888888, \"#fdca26\"], [1.0, \"#f0f921\"]], \"type\": \"contour\"}], \"contourcarpet\": [{\"colorbar\": {\"outlinewidth\": 0, \"ticks\": \"\"}, \"type\": \"contourcarpet\"}], \"heatmap\": [{\"colorbar\": {\"outlinewidth\": 0, \"ticks\": \"\"}, \"colorscale\": [[0.0, \"#0d0887\"], [0.1111111111111111, \"#46039f\"], [0.2222222222222222, \"#7201a8\"], [0.3333333333333333, \"#9c179e\"], [0.4444444444444444, \"#bd3786\"], [0.5555555555555556, \"#d8576b\"], [0.6666666666666666, \"#ed7953\"], [0.7777777777777778, \"#fb9f3a\"], [0.8888888888888888, \"#fdca26\"], [1.0, \"#f0f921\"]], \"type\": \"heatmap\"}], \"heatmapgl\": [{\"colorbar\": {\"outlinewidth\": 0, \"ticks\": \"\"}, \"colorscale\": [[0.0, \"#0d0887\"], [0.1111111111111111, \"#46039f\"], [0.2222222222222222, \"#7201a8\"], [0.3333333333333333, \"#9c179e\"], [0.4444444444444444, \"#bd3786\"], [0.5555555555555556, \"#d8576b\"], [0.6666666666666666, \"#ed7953\"], [0.7777777777777778, \"#fb9f3a\"], [0.8888888888888888, \"#fdca26\"], [1.0, \"#f0f921\"]], \"type\": \"heatmapgl\"}], \"histogram\": [{\"marker\": {\"colorbar\": {\"outlinewidth\": 0, \"ticks\": \"\"}}, \"type\": \"histogram\"}], \"histogram2d\": [{\"colorbar\": {\"outlinewidth\": 0, \"ticks\": \"\"}, \"colorscale\": [[0.0, \"#0d0887\"], [0.1111111111111111, \"#46039f\"], [0.2222222222222222, \"#7201a8\"], [0.3333333333333333, \"#9c179e\"], [0.4444444444444444, \"#bd3786\"], [0.5555555555555556, \"#d8576b\"], [0.6666666666666666, \"#ed7953\"], [0.7777777777777778, \"#fb9f3a\"], [0.8888888888888888, \"#fdca26\"], [1.0, \"#f0f921\"]], \"type\": \"histogram2d\"}], \"histogram2dcontour\": [{\"colorbar\": {\"outlinewidth\": 0, \"ticks\": \"\"}, \"colorscale\": [[0.0, \"#0d0887\"], [0.1111111111111111, \"#46039f\"], [0.2222222222222222, \"#7201a8\"], [0.3333333333333333, \"#9c179e\"], [0.4444444444444444, \"#bd3786\"], [0.5555555555555556, \"#d8576b\"], [0.6666666666666666, \"#ed7953\"], [0.7777777777777778, \"#fb9f3a\"], [0.8888888888888888, \"#fdca26\"], [1.0, \"#f0f921\"]], \"type\": \"histogram2dcontour\"}], \"mesh3d\": [{\"colorbar\": {\"outlinewidth\": 0, \"ticks\": \"\"}, \"type\": \"mesh3d\"}], \"parcoords\": [{\"line\": {\"colorbar\": {\"outlinewidth\": 0, \"ticks\": \"\"}}, \"type\": \"parcoords\"}], \"pie\": [{\"automargin\": true, \"type\": \"pie\"}], \"scatter\": [{\"marker\": {\"colorbar\": {\"outlinewidth\": 0, \"ticks\": \"\"}}, \"type\": \"scatter\"}], \"scatter3d\": [{\"line\": {\"colorbar\": {\"outlinewidth\": 0, \"ticks\": \"\"}}, \"marker\": {\"colorbar\": {\"outlinewidth\": 0, \"ticks\": \"\"}}, \"type\": \"scatter3d\"}], \"scattercarpet\": [{\"marker\": {\"colorbar\": {\"outlinewidth\": 0, \"ticks\": \"\"}}, \"type\": \"scattercarpet\"}], \"scattergeo\": [{\"marker\": {\"colorbar\": {\"outlinewidth\": 0, \"ticks\": \"\"}}, \"type\": \"scattergeo\"}], \"scattergl\": [{\"marker\": {\"colorbar\": {\"outlinewidth\": 0, \"ticks\": \"\"}}, \"type\": \"scattergl\"}], \"scattermapbox\": [{\"marker\": {\"colorbar\": {\"outlinewidth\": 0, \"ticks\": \"\"}}, \"type\": \"scattermapbox\"}], \"scatterpolar\": [{\"marker\": {\"colorbar\": {\"outlinewidth\": 0, \"ticks\": \"\"}}, \"type\": \"scatterpolar\"}], \"scatterpolargl\": [{\"marker\": {\"colorbar\": {\"outlinewidth\": 0, \"ticks\": \"\"}}, \"type\": \"scatterpolargl\"}], \"scatterternary\": [{\"marker\": {\"colorbar\": {\"outlinewidth\": 0, \"ticks\": \"\"}}, \"type\": \"scatterternary\"}], \"surface\": [{\"colorbar\": {\"outlinewidth\": 0, \"ticks\": \"\"}, \"colorscale\": [[0.0, \"#0d0887\"], [0.1111111111111111, \"#46039f\"], [0.2222222222222222, \"#7201a8\"], [0.3333333333333333, \"#9c179e\"], [0.4444444444444444, \"#bd3786\"], [0.5555555555555556, \"#d8576b\"], [0.6666666666666666, \"#ed7953\"], [0.7777777777777778, \"#fb9f3a\"], [0.8888888888888888, \"#fdca26\"], [1.0, \"#f0f921\"]], \"type\": \"surface\"}], \"table\": [{\"cells\": {\"fill\": {\"color\": \"#EBF0F8\"}, \"line\": {\"color\": \"white\"}}, \"header\": {\"fill\": {\"color\": \"#C8D4E3\"}, \"line\": {\"color\": \"white\"}}, \"type\": \"table\"}]}, \"layout\": {\"annotationdefaults\": {\"arrowcolor\": \"#2a3f5f\", \"arrowhead\": 0, \"arrowwidth\": 1}, \"coloraxis\": {\"colorbar\": {\"outlinewidth\": 0, \"ticks\": \"\"}}, \"colorscale\": {\"diverging\": [[0, \"#8e0152\"], [0.1, \"#c51b7d\"], [0.2, \"#de77ae\"], [0.3, \"#f1b6da\"], [0.4, \"#fde0ef\"], [0.5, \"#f7f7f7\"], [0.6, \"#e6f5d0\"], [0.7, \"#b8e186\"], [0.8, \"#7fbc41\"], [0.9, \"#4d9221\"], [1, \"#276419\"]], \"sequential\": [[0.0, \"#0d0887\"], [0.1111111111111111, \"#46039f\"], [0.2222222222222222, \"#7201a8\"], [0.3333333333333333, \"#9c179e\"], [0.4444444444444444, \"#bd3786\"], [0.5555555555555556, \"#d8576b\"], [0.6666666666666666, \"#ed7953\"], [0.7777777777777778, \"#fb9f3a\"], [0.8888888888888888, \"#fdca26\"], [1.0, \"#f0f921\"]], \"sequentialminus\": [[0.0, \"#0d0887\"], [0.1111111111111111, \"#46039f\"], [0.2222222222222222, \"#7201a8\"], [0.3333333333333333, \"#9c179e\"], [0.4444444444444444, \"#bd3786\"], [0.5555555555555556, \"#d8576b\"], [0.6666666666666666, \"#ed7953\"], [0.7777777777777778, \"#fb9f3a\"], [0.8888888888888888, \"#fdca26\"], [1.0, \"#f0f921\"]]}, \"colorway\": [\"#636efa\", \"#EF553B\", \"#00cc96\", \"#ab63fa\", \"#FFA15A\", \"#19d3f3\", \"#FF6692\", \"#B6E880\", \"#FF97FF\", \"#FECB52\"], \"font\": {\"color\": \"#2a3f5f\"}, \"geo\": {\"bgcolor\": \"white\", \"lakecolor\": \"white\", \"landcolor\": \"#E5ECF6\", \"showlakes\": true, \"showland\": true, \"subunitcolor\": \"white\"}, \"hoverlabel\": {\"align\": \"left\"}, \"hovermode\": \"closest\", \"mapbox\": {\"style\": \"light\"}, \"paper_bgcolor\": \"white\", \"plot_bgcolor\": \"#E5ECF6\", \"polar\": {\"angularaxis\": {\"gridcolor\": \"white\", \"linecolor\": \"white\", \"ticks\": \"\"}, \"bgcolor\": \"#E5ECF6\", \"radialaxis\": {\"gridcolor\": \"white\", \"linecolor\": \"white\", \"ticks\": \"\"}}, \"scene\": {\"xaxis\": {\"backgroundcolor\": \"#E5ECF6\", \"gridcolor\": \"white\", \"gridwidth\": 2, \"linecolor\": \"white\", \"showbackground\": true, \"ticks\": \"\", \"zerolinecolor\": \"white\"}, \"yaxis\": {\"backgroundcolor\": \"#E5ECF6\", \"gridcolor\": \"white\", \"gridwidth\": 2, \"linecolor\": \"white\", \"showbackground\": true, \"ticks\": \"\", \"zerolinecolor\": \"white\"}, \"zaxis\": {\"backgroundcolor\": \"#E5ECF6\", \"gridcolor\": \"white\", \"gridwidth\": 2, \"linecolor\": \"white\", \"showbackground\": true, \"ticks\": \"\", \"zerolinecolor\": \"white\"}}, \"shapedefaults\": {\"line\": {\"color\": \"#2a3f5f\"}}, \"ternary\": {\"aaxis\": {\"gridcolor\": \"white\", \"linecolor\": \"white\", \"ticks\": \"\"}, \"baxis\": {\"gridcolor\": \"white\", \"linecolor\": \"white\", \"ticks\": \"\"}, \"bgcolor\": \"#E5ECF6\", \"caxis\": {\"gridcolor\": \"white\", \"linecolor\": \"white\", \"ticks\": \"\"}}, \"title\": {\"x\": 0.05}, \"xaxis\": {\"automargin\": true, \"gridcolor\": \"white\", \"linecolor\": \"white\", \"ticks\": \"\", \"title\": {\"standoff\": 15}, \"zerolinecolor\": \"white\", \"zerolinewidth\": 2}, \"yaxis\": {\"automargin\": true, \"gridcolor\": \"white\", \"linecolor\": \"white\", \"ticks\": \"\", \"title\": {\"standoff\": 15}, \"zerolinecolor\": \"white\", \"zerolinewidth\": 2}}}},                        {\"responsive\": true}                    ).then(function(){\n",
       "                            \n",
       "var gd = document.getElementById('8a0f8728-287b-4946-9f36-58ed82e5c86c');\n",
       "var x = new MutationObserver(function (mutations, observer) {{\n",
       "        var display = window.getComputedStyle(gd).display;\n",
       "        if (!display || display === 'none') {{\n",
       "            console.log([gd, 'removed!']);\n",
       "            Plotly.purge(gd);\n",
       "            observer.disconnect();\n",
       "        }}\n",
       "}});\n",
       "\n",
       "// Listen for the removal of the full notebook cells\n",
       "var notebookContainer = gd.closest('#notebook-container');\n",
       "if (notebookContainer) {{\n",
       "    x.observe(notebookContainer, {childList: true});\n",
       "}}\n",
       "\n",
       "// Listen for the clearing of the current output cell\n",
       "var outputEl = gd.closest('.output');\n",
       "if (outputEl) {{\n",
       "    x.observe(outputEl, {childList: true});\n",
       "}}\n",
       "\n",
       "                        })                };                });            </script>        </div>"
      ]
     },
     "metadata": {},
     "output_type": "display_data"
    },
    {
     "data": {
      "image/png": "[encoded data removed]",
      "text/plain": [
       "<Figure size 1440x720 with 1 Axes>"
      ]
     },
     "metadata": {
      "needs_background": "light"
     },
     "output_type": "display_data"
    }
   ],
   "source": [
    "#Modelo Probabilidad\n",
    "y1 = list(df_t.iloc [:, 1]) # Total casos\n",
    "x1 = list(df_t.iloc [:, 0]) # Dias\n",
    "#Prediccion 10 dias\n",
    "for i in range(x1[-1], x1[-1]+10):\n",
    "    x1.append(i)\n",
    "    y1.append(int(y1[-1] + mediana))\n",
    "\n",
    "#Modelo exponencial\n",
    "yy = list(df_t.iloc [:, 1]) # Total casos\n",
    "xx = list(df_t.iloc [:, 0]) # Dias\n",
    "casos = list(df_t.iloc [:, 1])# Total casos\n",
    "dias = list(df_t.iloc [:, 0]) # Dias\n",
    "\n",
    "popt, pcov = curve_fit(func, dias[61:], casos[61:], g)\n",
    "for i in range(n):\n",
    "    casos[i] = func(dias[i], popt[0], popt[1], popt[2], popt[3])\n",
    "\n",
    "\n",
    "#Predecir para 10 dias\n",
    "pred_x = np.array(list(range(min(dias[61:]),max(dias[61:])+10)))\n",
    "#  Grafica 1\n",
    "fig = go.Figure()\n",
    "\n",
    "fig.add_trace(go.Scatter(y=yy[61:],x=xx[61:],mode='markers',name='Datos Reales'))\n",
    "fig.add_trace(go.Scatter(y=func(pred_x,*popt),x=pred_x,mode='lines',name='Modelo Exponencial'))\n",
    "fig.add_trace(go.Scatter(y=y1[61:],x=x1[61:],mode='lines',name='Modelo Probabilistico'))\n",
    "\n",
    "fig.show()\n",
    "xa=t[0:len(y)]\n",
    "#  Grafica 2\n",
    "fig = plt.figure(figsize=(20, 10))\n",
    "ax = fig.add_subplot(111,  axisbelow=True)\n",
    "ax.plot(x1[61:], y1[61:], 'b', alpha=1, lw=1, label='Modelo Probabilistico ')\n",
    "ax.plot(pred_x, func(pred_x,*popt), 'g', alpha=1, lw=1, label='Modelo Exponencial')\n",
    "ax.scatter(xx[61:], yy[61:],label=\"Datos Reales\",color=\"red\")\n",
    "ax.set_xlabel('Tiempo en dias')\n",
    "ax.set_ylabel('Numero de Personas')\n",
    "\n",
    "legend = ax.legend()"
   ]
  },
  {
   "cell_type": "markdown",
   "metadata": {},
   "source": [
    "# 2. Generar el SIR en base al modelo de probabilidad y obtener beta y gamma con una semana de prediccion."
   ]
  },
  {
   "cell_type": "code",
   "execution_count": 107,
   "metadata": {},
   "outputs": [
    {
     "data": {
      "image/png": "[encoded data removed]",
      "text/plain": [
       "<Figure size 432x288 with 1 Axes>"
      ]
     },
     "metadata": {
      "needs_background": "light"
     },
     "output_type": "display_data"
    }
   ],
   "source": [
    "y0 = list(df_t.iloc [:, 1]) # Total casos\n",
    "x0 = list(df_t.iloc [:, 0]) # Dias\n",
    "#modelo de probabilidad \n",
    "#semana de prediccion.\n",
    "for i in range(x0[-1], x0[-1]+8):\n",
    "    x0.append(i)\n",
    "    y0.append(int(y0[-1] + mediana))\n",
    "plt.plot(x0[61:], y0[61:])\n",
    "plt.show()\n",
    "dias=x0[61:]\n",
    "data=y0[61:]"
   ]
  },
  {
   "cell_type": "code",
   "execution_count": 108,
   "metadata": {},
   "outputs": [
    {
     "name": "stdout",
     "output_type": "stream",
     "text": [
      "Valor de Beta  0.03999999110395448\n",
      "Valor de Gamma  1e-08\n",
      "Valor de R0  3999999.1103954483\n"
     ]
    },
    {
     "ename": "ValueError",
     "evalue": "x and y must have same first dimension, but have shapes (100,) and (203,)",
     "output_type": "error",
     "traceback": [
      "\u001b[1;31m---------------------------------------------------------------------------\u001b[0m",
      "\u001b[1;31mValueError\u001b[0m                                Traceback (most recent call last)",
      "\u001b[1;32m<ipython-input-108-bb14668763ef>\u001b[0m in \u001b[0;36m<module>\u001b[1;34m\u001b[0m\n\u001b[0;32m     59\u001b[0m \u001b[0max\u001b[0m\u001b[1;33m.\u001b[0m\u001b[0mplot\u001b[0m\u001b[1;33m(\u001b[0m\u001b[0mt\u001b[0m\u001b[1;33m,\u001b[0m \u001b[0mI\u001b[0m\u001b[1;33m,\u001b[0m \u001b[1;34m'r'\u001b[0m\u001b[1;33m,\u001b[0m \u001b[0malpha\u001b[0m\u001b[1;33m=\u001b[0m\u001b[1;36m1\u001b[0m\u001b[1;33m,\u001b[0m \u001b[0mlw\u001b[0m\u001b[1;33m=\u001b[0m\u001b[1;36m1\u001b[0m\u001b[1;33m,\u001b[0m \u001b[0mlabel\u001b[0m\u001b[1;33m=\u001b[0m\u001b[1;34m'Infectados'\u001b[0m\u001b[1;33m)\u001b[0m\u001b[1;33m\u001b[0m\u001b[1;33m\u001b[0m\u001b[0m\n\u001b[0;32m     60\u001b[0m \u001b[0max\u001b[0m\u001b[1;33m.\u001b[0m\u001b[0mplot\u001b[0m\u001b[1;33m(\u001b[0m\u001b[0mt\u001b[0m\u001b[1;33m,\u001b[0m \u001b[0mR\u001b[0m\u001b[1;33m,\u001b[0m \u001b[1;34m'g'\u001b[0m\u001b[1;33m,\u001b[0m \u001b[0malpha\u001b[0m\u001b[1;33m=\u001b[0m\u001b[1;36m1\u001b[0m\u001b[1;33m,\u001b[0m \u001b[0mlw\u001b[0m\u001b[1;33m=\u001b[0m\u001b[1;36m1\u001b[0m\u001b[1;33m,\u001b[0m \u001b[0mlabel\u001b[0m\u001b[1;33m=\u001b[0m\u001b[1;34m'Recuperados'\u001b[0m\u001b[1;33m)\u001b[0m\u001b[1;33m\u001b[0m\u001b[1;33m\u001b[0m\u001b[0m\n\u001b[1;32m---> 61\u001b[1;33m \u001b[0max\u001b[0m\u001b[1;33m.\u001b[0m\u001b[0mplot\u001b[0m\u001b[1;33m(\u001b[0m\u001b[0mxa\u001b[0m\u001b[1;33m,\u001b[0m \u001b[0mea\u001b[0m\u001b[1;33m,\u001b[0m \u001b[1;34m'y'\u001b[0m\u001b[1;33m,\u001b[0m \u001b[0malpha\u001b[0m\u001b[1;33m=\u001b[0m\u001b[1;36m1\u001b[0m\u001b[1;33m,\u001b[0m \u001b[0mlw\u001b[0m\u001b[1;33m=\u001b[0m\u001b[1;36m1\u001b[0m\u001b[1;33m,\u001b[0m \u001b[0mlabel\u001b[0m\u001b[1;33m=\u001b[0m\u001b[1;34m'confirmados'\u001b[0m\u001b[1;33m)\u001b[0m\u001b[1;33m\u001b[0m\u001b[1;33m\u001b[0m\u001b[0m\n\u001b[0m\u001b[0;32m     62\u001b[0m \u001b[0max\u001b[0m\u001b[1;33m.\u001b[0m\u001b[0mset_xlabel\u001b[0m\u001b[1;33m(\u001b[0m\u001b[1;34m'Tiempo en dias'\u001b[0m\u001b[1;33m)\u001b[0m\u001b[1;33m\u001b[0m\u001b[1;33m\u001b[0m\u001b[0m\n\u001b[0;32m     63\u001b[0m \u001b[0max\u001b[0m\u001b[1;33m.\u001b[0m\u001b[0mset_ylabel\u001b[0m\u001b[1;33m(\u001b[0m\u001b[1;34m'Numero de Personas'\u001b[0m\u001b[1;33m)\u001b[0m\u001b[1;33m\u001b[0m\u001b[1;33m\u001b[0m\u001b[0m\n",
      "\u001b[1;32m~\\anaconda3\\lib\\site-packages\\matplotlib\\axes\\_axes.py\u001b[0m in \u001b[0;36mplot\u001b[1;34m(self, scalex, scaley, data, *args, **kwargs)\u001b[0m\n\u001b[0;32m   1645\u001b[0m         \"\"\"\n\u001b[0;32m   1646\u001b[0m         \u001b[0mkwargs\u001b[0m \u001b[1;33m=\u001b[0m \u001b[0mcbook\u001b[0m\u001b[1;33m.\u001b[0m\u001b[0mnormalize_kwargs\u001b[0m\u001b[1;33m(\u001b[0m\u001b[0mkwargs\u001b[0m\u001b[1;33m,\u001b[0m \u001b[0mmlines\u001b[0m\u001b[1;33m.\u001b[0m\u001b[0mLine2D\u001b[0m\u001b[1;33m)\u001b[0m\u001b[1;33m\u001b[0m\u001b[1;33m\u001b[0m\u001b[0m\n\u001b[1;32m-> 1647\u001b[1;33m         \u001b[0mlines\u001b[0m \u001b[1;33m=\u001b[0m \u001b[1;33m[\u001b[0m\u001b[1;33m*\u001b[0m\u001b[0mself\u001b[0m\u001b[1;33m.\u001b[0m\u001b[0m_get_lines\u001b[0m\u001b[1;33m(\u001b[0m\u001b[1;33m*\u001b[0m\u001b[0margs\u001b[0m\u001b[1;33m,\u001b[0m \u001b[0mdata\u001b[0m\u001b[1;33m=\u001b[0m\u001b[0mdata\u001b[0m\u001b[1;33m,\u001b[0m \u001b[1;33m**\u001b[0m\u001b[0mkwargs\u001b[0m\u001b[1;33m)\u001b[0m\u001b[1;33m]\u001b[0m\u001b[1;33m\u001b[0m\u001b[1;33m\u001b[0m\u001b[0m\n\u001b[0m\u001b[0;32m   1648\u001b[0m         \u001b[1;32mfor\u001b[0m \u001b[0mline\u001b[0m \u001b[1;32min\u001b[0m \u001b[0mlines\u001b[0m\u001b[1;33m:\u001b[0m\u001b[1;33m\u001b[0m\u001b[1;33m\u001b[0m\u001b[0m\n\u001b[0;32m   1649\u001b[0m             \u001b[0mself\u001b[0m\u001b[1;33m.\u001b[0m\u001b[0madd_line\u001b[0m\u001b[1;33m(\u001b[0m\u001b[0mline\u001b[0m\u001b[1;33m)\u001b[0m\u001b[1;33m\u001b[0m\u001b[1;33m\u001b[0m\u001b[0m\n",
      "\u001b[1;32m~\\anaconda3\\lib\\site-packages\\matplotlib\\axes\\_base.py\u001b[0m in \u001b[0;36m__call__\u001b[1;34m(self, *args, **kwargs)\u001b[0m\n\u001b[0;32m    214\u001b[0m                 \u001b[0mthis\u001b[0m \u001b[1;33m+=\u001b[0m \u001b[0margs\u001b[0m\u001b[1;33m[\u001b[0m\u001b[1;36m0\u001b[0m\u001b[1;33m]\u001b[0m\u001b[1;33m,\u001b[0m\u001b[1;33m\u001b[0m\u001b[1;33m\u001b[0m\u001b[0m\n\u001b[0;32m    215\u001b[0m                 \u001b[0margs\u001b[0m \u001b[1;33m=\u001b[0m \u001b[0margs\u001b[0m\u001b[1;33m[\u001b[0m\u001b[1;36m1\u001b[0m\u001b[1;33m:\u001b[0m\u001b[1;33m]\u001b[0m\u001b[1;33m\u001b[0m\u001b[1;33m\u001b[0m\u001b[0m\n\u001b[1;32m--> 216\u001b[1;33m             \u001b[1;32myield\u001b[0m \u001b[1;32mfrom\u001b[0m \u001b[0mself\u001b[0m\u001b[1;33m.\u001b[0m\u001b[0m_plot_args\u001b[0m\u001b[1;33m(\u001b[0m\u001b[0mthis\u001b[0m\u001b[1;33m,\u001b[0m \u001b[0mkwargs\u001b[0m\u001b[1;33m)\u001b[0m\u001b[1;33m\u001b[0m\u001b[1;33m\u001b[0m\u001b[0m\n\u001b[0m\u001b[0;32m    217\u001b[0m \u001b[1;33m\u001b[0m\u001b[0m\n\u001b[0;32m    218\u001b[0m     \u001b[1;32mdef\u001b[0m \u001b[0mget_next_color\u001b[0m\u001b[1;33m(\u001b[0m\u001b[0mself\u001b[0m\u001b[1;33m)\u001b[0m\u001b[1;33m:\u001b[0m\u001b[1;33m\u001b[0m\u001b[1;33m\u001b[0m\u001b[0m\n",
      "\u001b[1;32m~\\anaconda3\\lib\\site-packages\\matplotlib\\axes\\_base.py\u001b[0m in \u001b[0;36m_plot_args\u001b[1;34m(self, tup, kwargs)\u001b[0m\n\u001b[0;32m    340\u001b[0m \u001b[1;33m\u001b[0m\u001b[0m\n\u001b[0;32m    341\u001b[0m         \u001b[1;32mif\u001b[0m \u001b[0mx\u001b[0m\u001b[1;33m.\u001b[0m\u001b[0mshape\u001b[0m\u001b[1;33m[\u001b[0m\u001b[1;36m0\u001b[0m\u001b[1;33m]\u001b[0m \u001b[1;33m!=\u001b[0m \u001b[0my\u001b[0m\u001b[1;33m.\u001b[0m\u001b[0mshape\u001b[0m\u001b[1;33m[\u001b[0m\u001b[1;36m0\u001b[0m\u001b[1;33m]\u001b[0m\u001b[1;33m:\u001b[0m\u001b[1;33m\u001b[0m\u001b[1;33m\u001b[0m\u001b[0m\n\u001b[1;32m--> 342\u001b[1;33m             raise ValueError(f\"x and y must have same first dimension, but \"\n\u001b[0m\u001b[0;32m    343\u001b[0m                              f\"have shapes {x.shape} and {y.shape}\")\n\u001b[0;32m    344\u001b[0m         \u001b[1;32mif\u001b[0m \u001b[0mx\u001b[0m\u001b[1;33m.\u001b[0m\u001b[0mndim\u001b[0m \u001b[1;33m>\u001b[0m \u001b[1;36m2\u001b[0m \u001b[1;32mor\u001b[0m \u001b[0my\u001b[0m\u001b[1;33m.\u001b[0m\u001b[0mndim\u001b[0m \u001b[1;33m>\u001b[0m \u001b[1;36m2\u001b[0m\u001b[1;33m:\u001b[0m\u001b[1;33m\u001b[0m\u001b[1;33m\u001b[0m\u001b[0m\n",
      "\u001b[1;31mValueError\u001b[0m: x and y must have same first dimension, but have shapes (100,) and (203,)"
     ]
    },
    {
     "data": {
      "image/png": "[encoded data removed]",
      "text/plain": [
       "<Figure size 1440x720 with 1 Axes>"
      ]
     },
     "metadata": {
      "needs_background": "light"
     },
     "output_type": "display_data"
    }
   ],
   "source": [
    "#Modelo SIR\n",
    "# 3. Implementar teniendo en cuenta los casos confirmados y recuperados.\n",
    "def loss(point, datos, s0, i0, r0):\n",
    "    size = len(datos)\n",
    "    beta, gamma = point\n",
    "    def SIR(t, y):\n",
    "        S = y[0]\n",
    "        I = y[1]\n",
    "        R = y[2]\n",
    "        return [-beta*S*I, beta*S*I-gamma*I, gamma*I]\n",
    "    solution = solve_ivp(SIR, [0, size], [s0,i0,r0], t_eval=np.arange(0, size, 1), vectorized=True)\n",
    "    return np.sqrt(np.mean((solution.y[1] - datos)**2))\n",
    "\n",
    "#Numero habitantes del Ecuador\n",
    "N=10000\n",
    "#casos confirmados\n",
    "i0=1\n",
    "#Recuperados\n",
    "r0=0\n",
    "#Resto de la poblacion\n",
    "s0= N - i0 - r0\n",
    "\n",
    "x = dias\n",
    "y = data\n",
    "datos=data\n",
    "\n",
    "optimal = minimize(loss, [0.001, 0.001], args=(datos,s0,i0, r0), method='L-BFGS-B', bounds=[(0.00000001,0.04), (0.00000001, 0.04)])   \n",
    "beta, gamma = optimal.x\n",
    "R00=(beta/gamma)\n",
    "\n",
    "print('Valor de Beta ',beta)\n",
    "print('Valor de Gamma ',gamma)\n",
    "print('Valor de R0 ',R00) \n",
    "\n",
    "new_index =y\n",
    "size = len(new_index)\n",
    "ea = np.concatenate((y, [None] * (size - len(y))))\n",
    "t = np.linspace(0, 100, 100)\n",
    "# Las ecuaciones diferenciales del modelo SIR..\n",
    "def deriv(y, t, beta, gamma):\n",
    "    S, I, R = y\n",
    "    dSdt = -beta * S * I \n",
    "    dIdt = beta * S * I  - gamma * I\n",
    "    dRdt = gamma * I\n",
    "    return dSdt, dIdt, dRdt\n",
    "\n",
    "# Vector de condiciones iniciales\n",
    "y0 = s0,i0,r0\n",
    "\n",
    "# Integre las ecuaciones SIR en la cuadrícula de tiempo, t. A traves de la funcion odeint()\n",
    "ret = odeint(deriv, y0, t, args=(beta, gamma))\n",
    "S, I, R = ret.T # Obtenicion de resultados\n",
    "xa=t[0:len(y)]\n",
    "\n",
    "#  Trace los datos en tres curvas separadas para S (t), I (t) y R (t)\n",
    "fig = plt.figure(figsize=(20, 10))\n",
    "ax = fig.add_subplot(111,  axisbelow=True)\n",
    "ax.plot(t, S, 'b', alpha=1, lw=1, label='Sustible de infeccion')\n",
    "ax.plot(t, I, 'r', alpha=1, lw=1, label='Infectados')\n",
    "ax.plot(t, R, 'g', alpha=1, lw=1, label='Recuperados')\n",
    "ax.plot(xa, ea, 'y', alpha=1, lw=1, label='confirmados')\n",
    "ax.set_xlabel('Tiempo en dias')\n",
    "ax.set_ylabel('Numero de Personas')\n",
    "legend = ax.legend()"
   ]
  },
  {
   "cell_type": "markdown",
   "metadata": {},
   "source": [
    "# 3. Retroceder un semana y comparar el modelo matematico vs probabilidad vs reales. Solo cargan los datos para generar los modelos menos 7 dias."
   ]
  },
  {
   "cell_type": "code",
   "execution_count": null,
   "metadata": {},
   "outputs": [],
   "source": [
    "def func(x, c0, c1, c2, c3):\n",
    "    return c0 * np.exp(-c1 * x) + c2 + c3\n",
    "g = [100, 0.01, 200, 0.01]\n",
    "n = len(x[61:])\n",
    "y = np.empty(n)\n",
    "for i in range(n):\n",
    "    y[i] = func(x[i], g[0], g[1], g[2], g[3])\n",
    "    \n",
    "#Modelo Probabilidad\n",
    "y1 = list(df_t.iloc [:, 1][:103]) # Total casos\n",
    "x1 = list(df_t.iloc [:, 0][:103]) # Dias\n",
    "y_real = list(df_t.iloc [:, 1]) # Total casos\n",
    "x_real = list(df_t.iloc [:, 0]) # Dias\n",
    "\n",
    "#Prediccion 10 dias\n",
    "for i in range(x1[-1], x1[-1]+8):\n",
    "    x1.append(i)\n",
    "    y1.append(int(y1[-1] + mediana))\n",
    "\n",
    "#Modelo exponencial\n",
    "yy = list(df_t.iloc [:, 1][:103]) # Total casos\n",
    "xx = list(df_t.iloc [:, 0][:103]) # Dias\n",
    "casos = list(df_t.iloc [:, 1][:103])# Total casos\n",
    "dias = list(df_t.iloc [:, 0][:103]) # Dias\n",
    "\n",
    "popt, pcov = curve_fit(func, dias[61:], casos[61:], g)\n",
    "for i in range(n):\n",
    "    casos[i] = func(dias[i], popt[0], popt[1], popt[2], popt[3])\n",
    "\n",
    "\n",
    "#Predecir para 10 dias\n",
    "pred_x = np.array(x_real[61:])\n",
    "\n",
    "print(\"Modelo Probabilistico \")\n",
    "print(\"Prediccion en 7 dias =: \",*y1[61:][-1:])\n",
    "print(\"\")\n",
    "print(\"Modelo Exponencial \")\n",
    "print(\"Prediccion en 7 dias =: \",int(func(pred_x,*popt)[-1:]))\n",
    "print(\"\")\n",
    "print(\"Datos Reales\")\n",
    "print(\"En 7 dias =: \",*y_real[61:][-1:])\n",
    "fig = go.Figure()\n",
    "\n",
    "fig.add_trace(go.Scatter(y=y_real[61:],x=x_real[61:],mode='markers',name='Datos Reales'))\n",
    "fig.add_trace(go.Scatter(y=func(pred_x,*popt),x=pred_x,mode='lines',name='Modelo Exponencial'))\n",
    "fig.add_trace(go.Scatter(y=y1[61:],x=x1[61:],mode='lines',name='Modelo Probabilistico'))\n",
    "\n",
    "fig.show()\n",
    "\n",
    "# Grafica\n",
    "fig = plt.figure(figsize=(20, 10))\n",
    "ax = fig.add_subplot(111,  axisbelow=True)\n",
    "ax.scatter(x_real[61:], y_real[61:],label=\"Datos Reales\",color=\"red\")\n",
    "ax.plot(x1[61:], y1[61:], 'b', alpha=1, lw=1, label='Modelo Probabilistico ')\n",
    "ax.plot(pred_x, func(pred_x,*popt), 'g', alpha=1, lw=1, label='Modelo Exponencial')\n",
    "\n",
    "ax.set_xlabel('Tiempo en dias')\n",
    "ax.set_ylabel('Numero de Personas')\n",
    "legend = ax.legend() "
   ]
  },
  {
   "cell_type": "markdown",
   "metadata": {},
   "source": [
    "## Analisis\n",
    "\n",
    "## Conclusiones\n",
    "\n",
    "## Criterio personal (politico, economico y  social de la situacion)\n",
    "\n"
   ]
  },
  {
   "cell_type": "markdown",
   "metadata": {},
   "source": [
    "# Referencias\n",
    "\n",
    "- https://www.researchgate.net/publication/340092755_Infeccion_del_Covid-19_en_Colombia_Una_comparacion_de_modelos_logisticos_y_exponenciales_aplicados_a_la_infeccion_por_el_virus_en_Colombia\n",
    "\n",
    "- https://www.aprendemachinelearning.com/regresion-lineal-en-espanol-con-python/"
   ]
  }
 ],
 "metadata": {
  "kernelspec": {
   "display_name": "Python 3",
   "language": "python",
   "name": "python3"
  },
  "language_info": {
   "codemirror_mode": {
    "name": "ipython",
    "version": 3
   },
   "file_extension": ".py",
   "mimetype": "text/x-python",
   "name": "python",
   "nbconvert_exporter": "python",
   "pygments_lexer": "ipython3",
   "version": "3.8.3"
  },
  "widgets": {
   "application/vnd.jupyter.widget-state+json": {
    "state": {},
    "version_major": 2,
    "version_minor": 0
   }
  }
 },
 "nbformat": 4,
 "nbformat_minor": 2
}
