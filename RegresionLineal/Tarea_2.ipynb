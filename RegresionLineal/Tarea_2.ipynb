{
 "cells": [
  {
   "cell_type": "code",
   "execution_count": 5,
   "metadata": {},
   "outputs": [],
   "source": [
    "%matplotlib inline"
   ]
  },
  {
   "cell_type": "code",
   "execution_count": 23,
   "metadata": {},
   "outputs": [],
   "source": [
    "import matplotlib.pyplot as plt\n",
    "import numpy as np\n",
    "from sklearn import datasets, linear_model\n",
    "from sklearn.metrics import mean_squared_error, r2_score"
   ]
  },
  {
   "cell_type": "code",
   "execution_count": 24,
   "metadata": {},
   "outputs": [],
   "source": [
    "valores_X, valores_y = datasets.load_diabetes(return_X_y=True)\n",
    "\n",
    "valores_X = valores_X[:, np.newaxis, 2]"
   ]
  },
  {
   "cell_type": "code",
   "execution_count": 29,
   "metadata": {},
   "outputs": [],
   "source": [
    "valores_X_train = valores_X[:-100]\n",
    "valores_X_test = valores_X[-100:]\n",
    "valores_y_train = valores_y[:-100]\n",
    "valores_y_test = valores_y[-100:]"
   ]
  },
  {
   "cell_type": "code",
   "execution_count": 30,
   "metadata": {},
   "outputs": [],
   "source": [
    "#creo elobjeto RL\n",
    "regr = linear_model.LinearRegression()\n",
    "\n",
    "# usamos  training sets\n",
    "regr.fit(valores_X_train, valores_y_train)\n",
    "\n",
    "#Conjuto de pruebas  para predecir el valor\n",
    "valores_y_pred = regr.predict(valores_X_test)"
   ]
  },
  {
   "cell_type": "code",
   "execution_count": 33,
   "metadata": {},
   "outputs": [
    {
     "name": "stdout",
     "output_type": "stream",
     "text": [
      "Coeficinete: \n",
      " [953.3606272]\n",
      "error medio: 3752.77\n",
      "Coeficiente de determinacion: 0.38\n"
     ]
    }
   ],
   "source": [
    "print('Coeficinete: \\n', regr.coef_)\n",
    "#El error medio al cuadrado\n",
    "print('error medio: %.2f'\n",
    "      % mean_squared_error(valores_y_test, valores_y_pred))\n",
    "\n",
    "print('Coeficiente de determinacion: %.2f'\n",
    "      % r2_score(valores_y_test, valores_y_pred))"
   ]
  },
  {
   "cell_type": "code",
   "execution_count": 35,
   "metadata": {},
   "outputs": [
    {
     "data": {
      "image/png": "[encoded data removed]",
      "text/plain": [
       "<Figure size 432x288 with 1 Axes>"
      ]
     },
     "metadata": {},
     "output_type": "display_data"
    }
   ],
   "source": [
    "# Plot outputs\n",
    "plt.scatter(valores_X_test, valores_y_test,  color='blue')\n",
    "plt.plot(valores_X_test, valores_y_pred, color='red', linewidth=3)\n",
    "\n",
    "plt.xticks(())\n",
    "plt.yticks(())\n",
    "\n",
    "plt.show()"
   ]
  },
  {
   "cell_type": "code",
   "execution_count": null,
   "metadata": {},
   "outputs": [],
   "source": []
  }
 ],
 "metadata": {
  "kernelspec": {
   "display_name": "Python 3",
   "language": "python",
   "name": "python3"
  },
  "language_info": {
   "codemirror_mode": {
    "name": "ipython",
    "version": 3
   },
   "file_extension": ".py",
   "mimetype": "text/x-python",
   "name": "python",
   "nbconvert_exporter": "python",
   "pygments_lexer": "ipython3",
   "version": "3.8.3"
  }
 },
 "nbformat": 4,
 "nbformat_minor": 4
}
