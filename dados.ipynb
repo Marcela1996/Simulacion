{
 "cells": [
  {
   "cell_type": "code",
   "execution_count": 4,
   "metadata": {},
   "outputs": [
    {
     "ename": "ModuleNotFoundError",
     "evalue": "No module named 'tabulate'",
     "output_type": "error",
     "traceback": [
      "\u001b[1;31m---------------------------------------------------------------------------\u001b[0m",
      "\u001b[1;31mModuleNotFoundError\u001b[0m                       Traceback (most recent call last)",
      "\u001b[1;32m<ipython-input-4-71bf51eb6768>\u001b[0m in \u001b[0;36m<module>\u001b[1;34m\u001b[0m\n\u001b[0;32m      2\u001b[0m \u001b[1;32mimport\u001b[0m \u001b[0mrandom\u001b[0m\u001b[1;33m\u001b[0m\u001b[1;33m\u001b[0m\u001b[0m\n\u001b[0;32m      3\u001b[0m \u001b[1;32mimport\u001b[0m \u001b[0mcollections\u001b[0m\u001b[1;33m\u001b[0m\u001b[1;33m\u001b[0m\u001b[0m\n\u001b[1;32m----> 4\u001b[1;33m \u001b[1;32mfrom\u001b[0m \u001b[0mtabulate\u001b[0m \u001b[1;32mimport\u001b[0m \u001b[0mtabulate\u001b[0m\u001b[1;33m\u001b[0m\u001b[1;33m\u001b[0m\u001b[0m\n\u001b[0m",
      "\u001b[1;31mModuleNotFoundError\u001b[0m: No module named 'tabulate'"
     ]
    }
   ],
   "source": [
    "#librerias\n",
    "import random\n",
    "import collections\n",
    "from tabulate import tabulate"
   ]
  },
  {
   "cell_type": "code",
   "execution_count": 5,
   "metadata": {},
   "outputs": [
    {
     "name": "stdout",
     "output_type": "stream",
     "text": [
      "\n",
      "100  Eventos\n",
      " \n",
      "\n",
      "Suma Frecuencia Probabilidad\n",
      " 2        3       0.03\n",
      " 3        7       0.07\n",
      " 4        7       0.07\n",
      " 5        14       0.14\n",
      " 6        13       0.13\n",
      " 7        15       0.15\n",
      " 8        13       0.13\n",
      " 9        9       0.09\n",
      " 10        11       0.11\n",
      " 11        6       0.06\n",
      " 12        2       0.02\n"
     ]
    }
   ],
   "source": [
    "total=[]\n",
    "lista=[]\n",
    "print('')\n",
    "eventos=100\n",
    "print(eventos,' Eventos')\n",
    "print('','\\n')\n",
    "\n",
    "for j in range(eventos):\n",
    "    numero1=random.randint(1, 6)\n",
    "    lista.append(numero1)\n",
    "    numero2=random.randint(1, 6)\n",
    "    lista.append(numero2)\n",
    "    suma=numero1+numero2\n",
    "    total.append(suma)\n",
    "    \n",
    "cuenta1 = collections.Counter(total)    \n",
    "\n",
    "\n",
    "lista1 = list(set(cuenta1.elements()))\n",
    "lista1.sort()\n",
    "lista2=[]\n",
    "\n",
    "\n",
    "print('Suma','Frecuencia','Probabilidad')\n",
    "for i in range(len(lista1)):\n",
    "    a=lista1[i]\n",
    "    lista2.insert(0,a)\n",
    "    lista2.insert(1,cuenta1[a])\n",
    "    lista2.insert(2,cuenta1[a]/eventos)\n",
    "    print('',a,'      ',cuenta1[a],'     ',cuenta1[a]/eventos)\n",
    "    "
   ]
  },
  {
   "cell_type": "code",
   "execution_count": 6,
   "metadata": {},
   "outputs": [
    {
     "name": "stdout",
     "output_type": "stream",
     "text": [
      "\n",
      "1000  Eventos\n",
      " \n",
      "\n",
      "Suma Frecuencia Probabilidad\n",
      " 2        30       0.03\n",
      " 3        51       0.051\n",
      " 4        87       0.087\n",
      " 5        133       0.133\n",
      " 6        129       0.129\n",
      " 7        149       0.149\n",
      " 8        135       0.135\n",
      " 9        125       0.125\n",
      " 10        82       0.082\n",
      " 11        45       0.045\n",
      " 12        34       0.034\n"
     ]
    }
   ],
   "source": [
    "total=[]\n",
    "lista=[]\n",
    "print('')\n",
    "eventos=1000\n",
    "print(eventos,' Eventos')\n",
    "print('','\\n')\n",
    "\n",
    "for j in range(eventos):\n",
    "    numero1=random.randint(1, 6)\n",
    "    lista.append(numero1)\n",
    "    numero2=random.randint(1, 6)\n",
    "    lista.append(numero2)\n",
    "    suma=numero1+numero2\n",
    "    total.append(suma)\n",
    "    \n",
    "cuenta1 = collections.Counter(total)    \n",
    "\n",
    "\n",
    "lista1 = list(set(cuenta1.elements()))\n",
    "lista1.sort()\n",
    "lista2=[]\n",
    "\n",
    "\n",
    "print('Suma','Frecuencia','Probabilidad')\n",
    "for i in range(len(lista1)):\n",
    "    a=lista1[i]\n",
    "    lista2.insert(0,a)\n",
    "    lista2.insert(1,cuenta1[a])\n",
    "    lista2.insert(2,cuenta1[a]/eventos)\n",
    "    print('',a,'      ',cuenta1[a],'     ',cuenta1[a]/eventos)"
   ]
  },
  {
   "cell_type": "code",
   "execution_count": 8,
   "metadata": {},
   "outputs": [
    {
     "name": "stdout",
     "output_type": "stream",
     "text": [
      "\n",
      "10000  Eventos\n",
      " \n",
      "\n",
      "Suma Frecuencia Probabilidad\n",
      " 2        279       0.0279\n",
      " 3        578       0.0578\n",
      " 4        841       0.0841\n",
      " 5        1093       0.1093\n",
      " 6        1396       0.1396\n",
      " 7        1619       0.1619\n",
      " 8        1408       0.1408\n",
      " 9        1109       0.1109\n",
      " 10        840       0.084\n",
      " 11        558       0.0558\n",
      " 12        279       0.0279\n"
     ]
    }
   ],
   "source": [
    "total=[]\n",
    "lista=[]\n",
    "print('')\n",
    "eventos=10000\n",
    "print(eventos,' Eventos')\n",
    "print('','\\n')\n",
    "\n",
    "for j in range(eventos):\n",
    "    numero1=random.randint(1, 6)\n",
    "    lista.append(numero1)\n",
    "    numero2=random.randint(1, 6)\n",
    "    lista.append(numero2)\n",
    "    suma=numero1+numero2\n",
    "    total.append(suma)\n",
    "    \n",
    "cuenta1 = collections.Counter(total)    \n",
    "\n",
    "\n",
    "lista1 = list(set(cuenta1.elements()))\n",
    "lista1.sort()\n",
    "lista2=[]\n",
    "\n",
    "\n",
    "print('Suma','Frecuencia','Probabilidad')\n",
    "for i in range(len(lista1)):\n",
    "    a=lista1[i]\n",
    "    lista2.insert(0,a)\n",
    "    lista2.insert(1,cuenta1[a])\n",
    "    lista2.insert(2,cuenta1[a]/eventos)\n",
    "    print('',a,'      ',cuenta1[a],'     ',cuenta1[a]/eventos)\n",
    "    "
   ]
  },
  {
   "cell_type": "code",
   "execution_count": 9,
   "metadata": {},
   "outputs": [],
   "source": [
    "import numpy as np"
   ]
  },
  {
   "cell_type": "code",
   "execution_count": 10,
   "metadata": {},
   "outputs": [
    {
     "name": "stdout",
     "output_type": "stream",
     "text": [
      "\n",
      "100  Eventos\n",
      " \n",
      "\n",
      "Suma Frecuencia Probabilidad\n",
      " 2        6       0.06\n",
      " 3        6       0.06\n",
      " 4        7       0.07\n",
      " 5        12       0.12\n",
      " 6        12       0.12\n",
      " 7        20       0.2\n",
      " 8        13       0.13\n",
      " 9        13       0.13\n",
      " 10        6       0.06\n",
      " 11        4       0.04\n",
      " 12        1       0.01\n"
     ]
    }
   ],
   "source": [
    "total=[]\n",
    "lista=[]\n",
    "print('')\n",
    "eventos=100\n",
    "print(eventos,' Eventos')\n",
    "print('','\\n')\n",
    "for j in range(eventos):\n",
    "    numero1=np.random.randint(1,7)\n",
    "    numero2=np.random.randint(1,7)\n",
    "    lista.append(numero1)\n",
    "    lista.append(numero2)\n",
    "    suma=numero1+numero2\n",
    "    total.append(suma)\n",
    "    \n",
    "cuenta1 = collections.Counter(total)    \n",
    "\n",
    "\n",
    "lista1 = list(set(cuenta1.elements()))\n",
    "lista1.sort()\n",
    "lista2=[]\n",
    "\n",
    "\n",
    "print('Suma','Frecuencia','Probabilidad')\n",
    "for i in range(len(lista1)):\n",
    "    a=lista1[i]\n",
    "    lista2.insert(0,a)\n",
    "    lista2.insert(1,cuenta1[a])\n",
    "    lista2.insert(2,cuenta1[a]/eventos)\n",
    "    print('',a,'      ',cuenta1[a],'     ',cuenta1[a]/eventos)"
   ]
  },
  {
   "cell_type": "code",
   "execution_count": 11,
   "metadata": {},
   "outputs": [
    {
     "name": "stdout",
     "output_type": "stream",
     "text": [
      "\n",
      "1000  Eventos\n",
      " \n",
      "\n",
      "Suma Frecuencia Probabilidad\n",
      " 2        27       0.027\n",
      " 3        63       0.063\n",
      " 4        90       0.09\n",
      " 5        126       0.126\n",
      " 6        115       0.115\n",
      " 7        165       0.165\n",
      " 8        145       0.145\n",
      " 9        122       0.122\n",
      " 10        76       0.076\n",
      " 11        45       0.045\n",
      " 12        26       0.026\n"
     ]
    }
   ],
   "source": [
    "total=[]\n",
    "lista=[]\n",
    "print('')\n",
    "eventos=1000\n",
    "print(eventos,' Eventos')\n",
    "print('','\\n')\n",
    "for j in range(eventos):\n",
    "    numero1=np.random.randint(1,7)\n",
    "    numero2=np.random.randint(1,7)\n",
    "    lista.append(numero1)\n",
    "    lista.append(numero2)\n",
    "    suma=numero1+numero2\n",
    "    total.append(suma)\n",
    "    \n",
    "cuenta1 = collections.Counter(total)    \n",
    "\n",
    "\n",
    "lista1 = list(set(cuenta1.elements()))\n",
    "lista1.sort()\n",
    "lista2=[]\n",
    "\n",
    "\n",
    "print('Suma','Frecuencia','Probabilidad')\n",
    "for i in range(len(lista1)):\n",
    "    a=lista1[i]\n",
    "    lista2.insert(0,a)\n",
    "    lista2.insert(1,cuenta1[a])\n",
    "    lista2.insert(2,cuenta1[a]/eventos)\n",
    "    print('',a,'      ',cuenta1[a],'     ',cuenta1[a]/eventos)"
   ]
  },
  {
   "cell_type": "code",
   "execution_count": 12,
   "metadata": {},
   "outputs": [
    {
     "name": "stdout",
     "output_type": "stream",
     "text": [
      "\n",
      "10000  Eventos\n",
      " \n",
      "\n",
      "Suma Frecuencia Probabilidad\n",
      " 2        263       0.0263\n",
      " 3        540       0.054\n",
      " 4        869       0.0869\n",
      " 5        1122       0.1122\n",
      " 6        1423       0.1423\n",
      " 7        1689       0.1689\n",
      " 8        1374       0.1374\n",
      " 9        1108       0.1108\n",
      " 10        807       0.0807\n",
      " 11        538       0.0538\n",
      " 12        267       0.0267\n"
     ]
    }
   ],
   "source": [
    "total=[]\n",
    "lista=[]\n",
    "print('')\n",
    "eventos=10000\n",
    "print(eventos,' Eventos')\n",
    "print('','\\n')\n",
    "for j in range(eventos):\n",
    "    numero1=np.random.randint(1,7)\n",
    "    numero2=np.random.randint(1,7)\n",
    "    lista.append(numero1)\n",
    "    lista.append(numero2)\n",
    "    suma=numero1+numero2\n",
    "    total.append(suma)\n",
    "    \n",
    "cuenta1 = collections.Counter(total)    \n",
    "\n",
    "\n",
    "lista1 = list(set(cuenta1.elements()))\n",
    "lista1.sort()\n",
    "lista2=[]\n",
    "\n",
    "\n",
    "print('Suma','Frecuencia','Probabilidad')\n",
    "for i in range(len(lista1)):\n",
    "    a=lista1[i]\n",
    "    lista2.insert(0,a)\n",
    "    lista2.insert(1,cuenta1[a])\n",
    "    lista2.insert(2,cuenta1[a]/eventos)\n",
    "    print('',a,'      ',cuenta1[a],'     ',cuenta1[a]/eventos)"
   ]
  },
  {
   "cell_type": "code",
   "execution_count": null,
   "metadata": {},
   "outputs": [],
   "source": []
  }
 ],
 "metadata": {
  "kernelspec": {
   "display_name": "Python 3",
   "language": "python",
   "name": "python3"
  },
  "language_info": {
   "codemirror_mode": {
    "name": "ipython",
    "version": 3
   },
   "file_extension": ".py",
   "mimetype": "text/x-python",
   "name": "python",
   "nbconvert_exporter": "python",
   "pygments_lexer": "ipython3",
   "version": "3.8.3"
  }
 },
 "nbformat": 4,
 "nbformat_minor": 4
}
