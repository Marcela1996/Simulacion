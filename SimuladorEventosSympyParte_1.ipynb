{
 "cells": [
  {
   "cell_type": "markdown",
   "metadata": {},
   "source": [
    "<center><h1>Universidad Politecnica Salesiana</h1></center>\n",
    "<center><h2>Simpy Parte 1</h2></center>\n",
    "<center><h3>Marcela Zhagüi</h3></center>\n",
    "    \n",
    "    \n",
    "# Investigacion \n",
    "Investigacion del Pais de Afganistan"
   ]
  },
  {
   "cell_type": "markdown",
   "metadata": {},
   "source": [
    "***\n",
    "- - -"
   ]
  },
  {
   "cell_type": "markdown",
   "metadata": {},
   "source": [
    "## Práctica  - SimPy \n",
    "\n",
    "- Investigar el proceso de atencion de un paciente diagnosticado con COVID-19, ademas de tiempos de atencion, recursos necesarios y tipos de pacientes.\n",
    "- Investigar en cada una de las provincias asignadas el numero de hospitales, camas, respiradores y personal medico, limpieza y enfermeria.\n",
    "- Finalmente el costo de atender a un paciente con COVID-19 y medicamentos.\n"
   ]
  },
  {
   "cell_type": "markdown",
   "metadata": {},
   "source": [
    "# <div align=\"center\"> </div>\n",
    "\n",
    "<img src=\"img/afganistanDATOSACTUALES.png\"  width=700 height=700 />  \n",
    "\n"
   ]
  },
  {
   "cell_type": "markdown",
   "metadata": {},
   "source": [
    "## 1.- Investigar el proceso de atencion de un paciente diagnosticado con COVID-19, ademas de tiempos de atencion, recursos necesarios y tipos de pacientes.\n",
    "\n",
    "<img src=\"img/nivel.png\"/>  \n",
    "## Viajeros\n",
    "- Realizar una prueba viral de  1 a 3 días antes de su viaje. No viaje si está esperando los resultados de la prueba, da positivo o está enfermo. Siga todos los requisitos de entrada para su destino y proporcione cualquier información de salud requerida o solicitada. \n",
    "\n",
    "**Durante el  viaje**,  use una mascarilla , manténgase al menos a 6 pies de las personas que no viajen con usted, lávese las manos con frecuencia o use desinfectante de manos y observe su salud para detectar signos de enfermedad.\n",
    "\n",
    "**Antes de viajar** de regreso a los Estados Unidos , hágase la prueba con una prueba viral 1 a 3 días antes del viaje. Siga todas las recomendaciones o requisitos de destinos y aerolíneas.\n",
    "   \n",
    "**Después de viajar**,  hágase la prueba de  3 a 5 días después del viaje  Y  quédese en casa durante 7 días después del viaje.\n",
    "1. Si no se hace la prueba, lo más seguro es quedarse en casa durante 10 días.\n",
    "2. Si usted tuvo una exposición conocida a COVID-19 durante el viaje, los viajes de retardo , la cuarentena de otras personas, hacerse la prueba, y vigilar su salud.\n",
    "\n",
    "\n",
    "\n",
    "\n",
    "\n",
    "## TIPOS DE PACIENTES\n",
    "### COVID-19 EN GRUPOS DE RIESGO\n",
    "\n",
    "### Hipertensión arterial, enfermedad cardiovascular cardiopatía.\n",
    "La reducción de los receptores ACE2 y los altos niveles de Angiotensina II se relacionan con la Insuficiencia Respiratoria y el Distrés Respiratorio Agudo. El SARS-CoV-2, produce daño cardiaco agudo e insuficiencia cardiaca, en varios estudios se han detectado niveles de tensión arterial muy elevada (PAS: 145 mmHg), y en otros, elevación de biomarcadores de daño miocárdico.\n",
    "La alta incidencia observada de síntomas cardiovasculares parece relacionada con la respuesta inflamatoria sistémica, el efecto de la desregulación de ACE2, así como de la propia disfunción pulmonar y la hipoxia. Resultando en daño agudo de las células miocárdicas.\n",
    "\n",
    "\n",
    "\n",
    "### Diabetes\n",
    "El motivo por el cual la Diabetes supone un factor de riesgo para desarrollar enfermedad grave por COVID-19 no está bien establecido, pero también se sugiere que la sobreexpresión de ACE2 en pacientes diabéticos puede estar implicada en el proceso. La sobreexpresión de la ACE2 en diabéticos parece un mecanismo compensatorio para frenar el deterioro de la microvasculatura renal implicada en la nefropatía diabética a largo plazo, así como para limitar el daño cardiovascular a largo plazo en pacientes diabéticos\n",
    "mediante la activación del eje ACE2/Ang.\n",
    "\n",
    "Cuando las personas con Diabetes presentan un proceso viral, puede ser más difícil de tratar debido a las fluctuaciones de los niveles de glucosa en sangre y posiblemente a la\n",
    "presencia de complicaciones de la Diabetes. Las personas mayores y con afecciones médicas preexistentes parecen ser más vulnerables una vez que desarrollan la infección.\n",
    "Esto es debido en parte al compromiso del sistema inmunológico lo que dificulta la lucha 28 contra el virus y provoca un período de recuperación más largo y al hecho de que el virus crece de forma más agresiva en un entorno de hiperglicemia.\n",
    "\n",
    "\n",
    "### Adultos mayores\n",
    "De los casos de coronavirus en el país, los adultos mayores, en un gran porcentaje, son los que han desarrollado formas graves de la enfermedad, que precisamente forman parte del grupo poblacional con más riesgo de complicaciones y de muerte por coronavirus.\n",
    "Esto confirma el comportamiento que ha tenido el Covid-19 a escala mundial, en que la tasa de letalidad es mayor en personas con más de 60 años.\n",
    "29 En cuanto a pacientes Adultos Mayores, a la hora de requerir cuidados intensivos, debe realizarse una rápida y concisa valoración geriátrica integral (VGI) no tomando en cuenta la edad cronológica, sino la edad biológica, para que la edad no sea en ningún caso criterio único para la toma de decisiones. Esto permitirá una adecuada clasificación de\n",
    "estos pacientes. La situación funcional y de fragilidad son buenos predictores individuales de mortalidad a corto y largo plazo en la población mayor y deberán ser criterios prioritarios en la toma de decisiones y en las estrategias de asignación de ingreso en unidades de cuidados intensivos.\n",
    "\n",
    "### Enfermedad Renal\n",
    "Desde el punto de vista nefrológico existen dos escenarios: 1) pacientes con enfermedad renal crónica estadio 5 en terapia de reemplazo renal crónica, 2) pacientes que desarrollan injuria renal aguda.\n",
    "1) Los pacientes en terapia de reemplazo renal crónica hemodiálisis:\n",
    "- Deberán ser instruidos en la aplicación de medidas universales de seguridad, enfatizando el lavado de manos y limitación del contacto físico con otros pacientes y el personal de salud.\n",
    "- Deberán ser capaces de realizar autodiagnóstico y reporte inmediato (telefónico) a la unidad de diálisis en caso de presentar síntomas de sospecha por COVID-19, evitando acudir a la unidad de diálisis antes de recibir instrucciones (considerar caso sospechoso y reportar al comité competente para toma de muestra).\n",
    "- Para los pacientes que acuden a la unidad, se sugiere establecer sistema de triage de los pacientes antes del ingreso a las salas de espera, con el objetivo de realizar diagnóstico de caso sospechoso y minimizar el contacto entre pacientes.\n",
    "- Se deberá instruir al personal para identificar casos portadores de cuadro clínico grave, que requieren transferencia inmediata a un centro hospitalario, mediante la evaluación clínica de marcadores de mal pronóstico (disnea, taquipnea, taquicardia) o la aplicación de scores de gravedad (Quick SOFA, por ejemplo).\n",
    "- Se debe priorizar la toma de muestra en los casos sospechosos bajo el siguiente argumento;\n",
    "     - El tiempo de demora en la toma de muestra y emisión de resultados podría dar lugar a mayor cantidad de contactos positivos en un centro y esto fácilmente podría llegar a afectar a la totalidad de sus trabajadores, con la posibilidad de cierre de la Unidad de Diálisis por cuarentena y una cantidad de pacientes que quedarían sin tratamiento.\n",
    "     - Ello llevaría a un caos por la inexistencia de centros que pudieran hacerse cargo de estos pacientes.\n",
    "     \n",
    "     \n",
    "### Mujeres embarazadas, transmisión perinatal y lactancia\n",
    "El embarazo se asocia con una alta incidencia de complicaciones adversas maternas y neonatales, como aborto espontáneo, parto prematuro, restricción de crecimiento intrauterino, ingreso a la unidad de cuidados intensivos, falla renal y coagulopatía intravascular diseminada. Sin embargo, las mujeres embarazadas con infección por COVID-19 presentaron menos complicaciones maternas y neonatales.\n",
    "\n",
    "Se analizó un pequeño número de casos y los hallazgos deben interpretarse con\n",
    "precaución. Las características clínicas reportadas en mujeres embarazadas con COVID- 19 son similares a las reportadas para no embarazadas y adultos con infección confirmada por COVID-19 en general.\n"
   ]
  },
  {
   "cell_type": "markdown",
   "metadata": {},
   "source": [
    "## 2. Investigar en cada una de las provincias asignadas el numero de hospitales, camas, respiradores y personal medico, limpieza y enfermeria.\n",
    "\n",
    "\n",
    "\n",
    "### Provicias de AFGANISTAN CASOS CONFIRMADOS-FALLECIDOS\n",
    "\n",
    "\n",
    "<img src=\"img/casos.png\"/>  \n",
    "\n",
    "<img src=\"img/casos1.png\"/>  \n",
    "\n",
    "<img src=\"img/casos2.png\"/>  \n",
    "\n",
    " Lista de hospitales en Afganistán - https://es.qaz.wiki/wiki/List_of_hospitals_in_Afghanistan\n",
    " \n",
    " \n",
    "<img src=\"img/HOSPITAL.png\"/>  \n",
    "<img src=\"img/HOSPITAL1.png\"/>  \n"
   ]
  },
  {
   "cell_type": "markdown",
   "metadata": {},
   "source": [
    "### Personal medico.\n",
    "Desconocido\n",
    "\n",
    "### Respiradores\n",
    "Dspone de unos dos mil respiradores artificiales para afrontar el coronavirus \n",
    "\n",
    "Afganistan desarrolla sus propios respiradores\n",
    "\n",
    "Una científica desarrolladora de respiradores en Afganistán ha logrado hacer la diferencia. Junto con otras mujeres a quienes capacita, Roya Machboob, trabaja para fortalecer el sistema de salud afgano \n",
    "\n",
    "### Recursos\n",
    "\n",
    "   - sets de reactivos destinados ala detección del SARS-CoV-2 para 15000 pruebas aproximadamente\n",
    "   - dos equipos portátiles deultrasonidos de alta calidad\n",
    "   - un importante número de equipos de protección personal,que incluyen guantes, máscaras,trajes, cobertores de botas y gafas protectoras.\n",
    "   - 20 000 estuches para la tomade muestras que incluyen hisopos y medios de transporte\n",
    "   - 50 oxímetros de pulso\n",
    "   - reactivos que cubren la necesidad del IPK para identificar otras Infecciones Respiratorias Agudas (IRA), queno sea la COVID-19.\n",
    "   - bolsas para el traslado segurode desechos de laboratorios\n",
    "   - sustancias para la desinfección de manos, superficies y equipos de trabajo\n",
    "   - bioindicadores para comprobar la calidad de la desinfección en autoclaves\n",
    "  \n",
    "# 3. Finalmente el costo de atender a un paciente con COVID-19 y medicamentos.\n",
    "### Costo de Atencion\n",
    "El Ministerio de Salud Pública estima que, dentro de un amplio rango, la propagación del virus puede alcanzar1:\n",
    "\n",
    "• En el escenario de alta transmisión: casos totales alrededor de 190.0002                       \n",
    "• En el escenario de Transmisión Media: casos totales alrededor de 110.000                              \n",
    "• En el escenario de baja transmisión: casos totales alrededor de 46.000.                            \n",
    "\n",
    "<img src=\"img/costo.png\"/>  \n"
   ]
  },
  {
   "cell_type": "markdown",
   "metadata": {},
   "source": [
    "\n",
    "### Conclusion\n",
    "\n",
    "No se pudieron obtener los datos exactos de Afganistan debido al IDIOMA de busqueda por lo cual solo obtube informacion mediante la OMS, y reportes en ingles. Solo existe informacion para **turistas** y las medidas que este tiene que seguir como indique al principio de investigacion."
   ]
  },
  {
   "cell_type": "markdown",
   "metadata": {},
   "source": [
    "### Referencias Nuevas\n",
    "https://www.dw.com/es/afganistan-desarrolla-sus-propios-respiradores/av-54258289\n",
    "https://www.undp.org/content/undp/en/home/news-centre/news/2020/Pandemic_threatens_Afghanistan_health_system_economy_and_peace_process.html\n"
   ]
  }
 ],
 "metadata": {
  "kernelspec": {
   "display_name": "Python 3",
   "language": "python",
   "name": "python3"
  },
  "language_info": {
   "codemirror_mode": {
    "name": "ipython",
    "version": 3
   },
   "file_extension": ".py",
   "mimetype": "text/x-python",
   "name": "python",
   "nbconvert_exporter": "python",
   "pygments_lexer": "ipython3",
   "version": "3.8.3"
  }
 },
 "nbformat": 4,
 "nbformat_minor": 2
}
